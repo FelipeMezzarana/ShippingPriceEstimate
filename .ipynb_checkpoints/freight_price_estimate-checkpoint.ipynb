{
 "cells": [
  {
   "cell_type": "markdown",
   "id": "2656326f",
   "metadata": {
    "heading_collapsed": true
   },
   "source": [
    "# Libs and raw DataFrame"
   ]
  },
  {
   "cell_type": "code",
   "execution_count": 245,
   "id": "09fc24f1",
   "metadata": {
    "hidden": true
   },
   "outputs": [],
   "source": [
    "import pandas as pd\n",
    "import math as mt\n",
    "from math import radians, cos, sin, asin, sqrt\n",
    "import numpy as np\n",
    "import os\n",
    "import re\n",
    "import matplotlib.pyplot as plt\n",
    "import seaborn as sns\n",
    "sns.set()\n",
    "from time import perf_counter\n",
    "from sklearn.metrics import mean_absolute_error\n",
    "from sklearn.metrics import mean_squared_error\n",
    "from sklearn.ensemble import RandomForestRegressor\n",
    "from sklearn.model_selection import cross_validate\n",
    "from xgboost import XGBRegressor\n",
    "import pickle"
   ]
  },
  {
   "cell_type": "markdown",
   "id": "d5d36141",
   "metadata": {
    "hidden": true
   },
   "source": [
    "We already created and treated our base df. We chose to separate the creation of the df and the rest of the project to make things easier to understand. But all the steps to do so can be found in the notebook 'creating_and_treating_df' \n",
    "\n",
    "Here, we will just load the file "
   ]
  },
  {
   "cell_type": "code",
   "execution_count": 23,
   "id": "82c300d4",
   "metadata": {
    "hidden": true
   },
   "outputs": [
    {
     "data": {
      "text/html": [
       "<div>\n",
       "<style scoped>\n",
       "    .dataframe tbody tr th:only-of-type {\n",
       "        vertical-align: middle;\n",
       "    }\n",
       "\n",
       "    .dataframe tbody tr th {\n",
       "        vertical-align: top;\n",
       "    }\n",
       "\n",
       "    .dataframe thead th {\n",
       "        text-align: right;\n",
       "    }\n",
       "</style>\n",
       "<table border=\"1\" class=\"dataframe\">\n",
       "  <thead>\n",
       "    <tr style=\"text-align: right;\">\n",
       "      <th></th>\n",
       "      <th>freight_value</th>\n",
       "      <th>price</th>\n",
       "      <th>product_weight_g</th>\n",
       "      <th>product_length_cm</th>\n",
       "      <th>product_height_cm</th>\n",
       "      <th>product_width_cm</th>\n",
       "      <th>customer_state</th>\n",
       "      <th>seller_state</th>\n",
       "      <th>customer_lat</th>\n",
       "      <th>customer_lng</th>\n",
       "      <th>seller_lat</th>\n",
       "      <th>seller_lng</th>\n",
       "    </tr>\n",
       "  </thead>\n",
       "  <tbody>\n",
       "    <tr>\n",
       "      <th>0</th>\n",
       "      <td>13.29</td>\n",
       "      <td>58.9</td>\n",
       "      <td>650.0</td>\n",
       "      <td>28.0</td>\n",
       "      <td>9.0</td>\n",
       "      <td>14.0</td>\n",
       "      <td>RJ</td>\n",
       "      <td>SP</td>\n",
       "      <td>-21.762775</td>\n",
       "      <td>-41.309633</td>\n",
       "      <td>-22.496953</td>\n",
       "      <td>-44.127492</td>\n",
       "    </tr>\n",
       "    <tr>\n",
       "      <th>1</th>\n",
       "      <td>17.96</td>\n",
       "      <td>55.9</td>\n",
       "      <td>650.0</td>\n",
       "      <td>28.0</td>\n",
       "      <td>9.0</td>\n",
       "      <td>14.0</td>\n",
       "      <td>GO</td>\n",
       "      <td>SP</td>\n",
       "      <td>-17.884337</td>\n",
       "      <td>-51.716990</td>\n",
       "      <td>-22.496953</td>\n",
       "      <td>-44.127492</td>\n",
       "    </tr>\n",
       "    <tr>\n",
       "      <th>2</th>\n",
       "      <td>18.33</td>\n",
       "      <td>64.9</td>\n",
       "      <td>650.0</td>\n",
       "      <td>28.0</td>\n",
       "      <td>9.0</td>\n",
       "      <td>14.0</td>\n",
       "      <td>MG</td>\n",
       "      <td>SP</td>\n",
       "      <td>-19.914323</td>\n",
       "      <td>-43.975703</td>\n",
       "      <td>-22.496953</td>\n",
       "      <td>-44.127492</td>\n",
       "    </tr>\n",
       "  </tbody>\n",
       "</table>\n",
       "</div>"
      ],
      "text/plain": [
       "   freight_value  price  product_weight_g  product_length_cm  \\\n",
       "0          13.29   58.9             650.0               28.0   \n",
       "1          17.96   55.9             650.0               28.0   \n",
       "2          18.33   64.9             650.0               28.0   \n",
       "\n",
       "   product_height_cm  product_width_cm customer_state seller_state  \\\n",
       "0                9.0              14.0             RJ           SP   \n",
       "1                9.0              14.0             GO           SP   \n",
       "2                9.0              14.0             MG           SP   \n",
       "\n",
       "   customer_lat  customer_lng  seller_lat  seller_lng  \n",
       "0    -21.762775    -41.309633  -22.496953  -44.127492  \n",
       "1    -17.884337    -51.716990  -22.496953  -44.127492  \n",
       "2    -19.914323    -43.975703  -22.496953  -44.127492  "
      ]
     },
     "execution_count": 23,
     "metadata": {},
     "output_type": "execute_result"
    }
   ],
   "source": [
    "#loading our df\n",
    "\n",
    "freight_df = pd.read_csv('freight_df\\olist_freight_base_df.csv')\n",
    "\n",
    "freight_df.head(3)"
   ]
  },
  {
   "cell_type": "markdown",
   "id": "5a62f63a",
   "metadata": {
    "heading_collapsed": true
   },
   "source": [
    "# Initial Feature Engineering"
   ]
  },
  {
   "cell_type": "markdown",
   "id": "3215f299",
   "metadata": {
    "hidden": true
   },
   "source": [
    "We could start this project investigating the data, correlation between variables, how good our features are, etc. But considering our DataFrame and goal, it is very clear that we need to create at least two new features: \n",
    "\n",
    "+ The delivery distance based on the coordinates of customers and sellers\n",
    "+ The volume of the package based on the measurements \n",
    "\n",
    "So we chose to first create the obvious features, and later check the rest of the data.\n",
    "\n",
    "Please note that we intend to use an Tree-based model, so we wont need to apply any normalization "
   ]
  },
  {
   "cell_type": "code",
   "execution_count": 24,
   "id": "db96f7af",
   "metadata": {
    "hidden": true
   },
   "outputs": [],
   "source": [
    "#Lets start with the delivery distance\n",
    "#We can find it using Haversine formula\n",
    "\n",
    "def coordinates_distance(df):\n",
    "    #coordinates in radians \n",
    "    lng_seller = radians(df.seller_lng)\n",
    "    lat_seller = radians(df.seller_lat)\n",
    "    lng_customer = radians(df.customer_lng)\n",
    "    lat_customer = radians(df.customer_lat)\n",
    "    #variables for use in formula \n",
    "    dist_lat = lat_customer - lat_seller\n",
    "    dist_lng = lng_customer - lng_seller\n",
    "    \n",
    "    # Radius of earth in kilometers.\n",
    "    r = 6371\n",
    "    # Haversine formula\n",
    "    h = sin(dist_lat/2)**2 + cos(lat_seller)*cos(lat_customer)*sin(dist_lng / 2)**2\n",
    "    d = 2*r*asin(sqrt(h))\n",
    "    \n",
    "    df['delivery_distance'] = d\n",
    "    return df"
   ]
  },
  {
   "cell_type": "code",
   "execution_count": 25,
   "id": "6cc88854",
   "metadata": {
    "hidden": true
   },
   "outputs": [
    {
     "data": {
      "text/html": [
       "<div>\n",
       "<style scoped>\n",
       "    .dataframe tbody tr th:only-of-type {\n",
       "        vertical-align: middle;\n",
       "    }\n",
       "\n",
       "    .dataframe tbody tr th {\n",
       "        vertical-align: top;\n",
       "    }\n",
       "\n",
       "    .dataframe thead th {\n",
       "        text-align: right;\n",
       "    }\n",
       "</style>\n",
       "<table border=\"1\" class=\"dataframe\">\n",
       "  <thead>\n",
       "    <tr style=\"text-align: right;\">\n",
       "      <th></th>\n",
       "      <th>freight_value</th>\n",
       "      <th>price</th>\n",
       "      <th>product_weight_g</th>\n",
       "      <th>product_length_cm</th>\n",
       "      <th>product_height_cm</th>\n",
       "      <th>product_width_cm</th>\n",
       "      <th>customer_state</th>\n",
       "      <th>seller_state</th>\n",
       "      <th>customer_lat</th>\n",
       "      <th>customer_lng</th>\n",
       "      <th>seller_lat</th>\n",
       "      <th>seller_lng</th>\n",
       "      <th>delivery_distance</th>\n",
       "    </tr>\n",
       "  </thead>\n",
       "  <tbody>\n",
       "    <tr>\n",
       "      <th>13028</th>\n",
       "      <td>21.40</td>\n",
       "      <td>139.9</td>\n",
       "      <td>4550.0</td>\n",
       "      <td>20.0</td>\n",
       "      <td>20.0</td>\n",
       "      <td>20.0</td>\n",
       "      <td>SP</td>\n",
       "      <td>SP</td>\n",
       "      <td>-23.955283</td>\n",
       "      <td>-46.273865</td>\n",
       "      <td>-22.275249</td>\n",
       "      <td>-48.543584</td>\n",
       "      <td>297.944259</td>\n",
       "    </tr>\n",
       "    <tr>\n",
       "      <th>97084</th>\n",
       "      <td>9.03</td>\n",
       "      <td>59.9</td>\n",
       "      <td>750.0</td>\n",
       "      <td>38.0</td>\n",
       "      <td>15.0</td>\n",
       "      <td>33.0</td>\n",
       "      <td>SP</td>\n",
       "      <td>SP</td>\n",
       "      <td>-23.561190</td>\n",
       "      <td>-46.474486</td>\n",
       "      <td>-23.568755</td>\n",
       "      <td>-46.653409</td>\n",
       "      <td>18.255657</td>\n",
       "    </tr>\n",
       "    <tr>\n",
       "      <th>36638</th>\n",
       "      <td>25.31</td>\n",
       "      <td>119.0</td>\n",
       "      <td>6550.0</td>\n",
       "      <td>20.0</td>\n",
       "      <td>20.0</td>\n",
       "      <td>20.0</td>\n",
       "      <td>RS</td>\n",
       "      <td>MG</td>\n",
       "      <td>-29.663777</td>\n",
       "      <td>-50.776393</td>\n",
       "      <td>-20.940578</td>\n",
       "      <td>-45.827237</td>\n",
       "      <td>1089.751104</td>\n",
       "    </tr>\n",
       "  </tbody>\n",
       "</table>\n",
       "</div>"
      ],
      "text/plain": [
       "       freight_value  price  product_weight_g  product_length_cm  \\\n",
       "13028          21.40  139.9            4550.0               20.0   \n",
       "97084           9.03   59.9             750.0               38.0   \n",
       "36638          25.31  119.0            6550.0               20.0   \n",
       "\n",
       "       product_height_cm  product_width_cm customer_state seller_state  \\\n",
       "13028               20.0              20.0             SP           SP   \n",
       "97084               15.0              33.0             SP           SP   \n",
       "36638               20.0              20.0             RS           MG   \n",
       "\n",
       "       customer_lat  customer_lng  seller_lat  seller_lng  delivery_distance  \n",
       "13028    -23.955283    -46.273865  -22.275249  -48.543584         297.944259  \n",
       "97084    -23.561190    -46.474486  -23.568755  -46.653409          18.255657  \n",
       "36638    -29.663777    -50.776393  -20.940578  -45.827237        1089.751104  "
      ]
     },
     "execution_count": 25,
     "metadata": {},
     "output_type": "execute_result"
    }
   ],
   "source": [
    "freight_df2 = freight_df.apply(coordinates_distance,axis =1)\n",
    "\n",
    "freight_df2.sample(3)"
   ]
  },
  {
   "cell_type": "code",
   "execution_count": 26,
   "id": "1ef091b3",
   "metadata": {
    "hidden": true
   },
   "outputs": [
    {
     "data": {
      "text/html": [
       "<div>\n",
       "<style scoped>\n",
       "    .dataframe tbody tr th:only-of-type {\n",
       "        vertical-align: middle;\n",
       "    }\n",
       "\n",
       "    .dataframe tbody tr th {\n",
       "        vertical-align: top;\n",
       "    }\n",
       "\n",
       "    .dataframe thead th {\n",
       "        text-align: right;\n",
       "    }\n",
       "</style>\n",
       "<table border=\"1\" class=\"dataframe\">\n",
       "  <thead>\n",
       "    <tr style=\"text-align: right;\">\n",
       "      <th></th>\n",
       "      <th>freight_value</th>\n",
       "      <th>price</th>\n",
       "      <th>product_weight_g</th>\n",
       "      <th>product_length_cm</th>\n",
       "      <th>product_height_cm</th>\n",
       "      <th>product_width_cm</th>\n",
       "      <th>customer_state</th>\n",
       "      <th>seller_state</th>\n",
       "      <th>customer_lat</th>\n",
       "      <th>customer_lng</th>\n",
       "      <th>seller_lat</th>\n",
       "      <th>seller_lng</th>\n",
       "      <th>delivery_distance</th>\n",
       "      <th>product_volume</th>\n",
       "    </tr>\n",
       "  </thead>\n",
       "  <tbody>\n",
       "    <tr>\n",
       "      <th>49796</th>\n",
       "      <td>32.98</td>\n",
       "      <td>99.5</td>\n",
       "      <td>9100.0</td>\n",
       "      <td>42.0</td>\n",
       "      <td>13.0</td>\n",
       "      <td>39.0</td>\n",
       "      <td>MG</td>\n",
       "      <td>ES</td>\n",
       "      <td>-21.550148</td>\n",
       "      <td>-45.735009</td>\n",
       "      <td>-20.278513</td>\n",
       "      <td>-40.411675</td>\n",
       "      <td>570.681841</td>\n",
       "      <td>21294.0</td>\n",
       "    </tr>\n",
       "  </tbody>\n",
       "</table>\n",
       "</div>"
      ],
      "text/plain": [
       "       freight_value  price  product_weight_g  product_length_cm  \\\n",
       "49796          32.98   99.5            9100.0               42.0   \n",
       "\n",
       "       product_height_cm  product_width_cm customer_state seller_state  \\\n",
       "49796               13.0              39.0             MG           ES   \n",
       "\n",
       "       customer_lat  customer_lng  seller_lat  seller_lng  delivery_distance  \\\n",
       "49796    -21.550148    -45.735009  -20.278513  -40.411675         570.681841   \n",
       "\n",
       "       product_volume  \n",
       "49796         21294.0  "
      ]
     },
     "execution_count": 26,
     "metadata": {},
     "output_type": "execute_result"
    }
   ],
   "source": [
    "#the volume will be esier \n",
    "\n",
    "freight_df2['product_volume'] = (freight_df2['product_length_cm']*\n",
    "                                 freight_df2['product_height_cm']*\n",
    "                                 freight_df2['product_width_cm'])\n",
    "\n",
    "freight_df2.sample(1)"
   ]
  },
  {
   "cell_type": "markdown",
   "id": "45d44049",
   "metadata": {
    "heading_collapsed": true
   },
   "source": [
    "# Dealing with outliers"
   ]
  },
  {
   "cell_type": "markdown",
   "id": "1ca4bfca",
   "metadata": {
    "hidden": true
   },
   "source": [
    "For the next steps we will need to start checking correlations and understand which features we should keep, which we should transform and which we should drop. \n",
    "\n",
    "So now it seems like a good idea to investigate possible outliers, so we can work with a cleaner DataFrame."
   ]
  },
  {
   "cell_type": "code",
   "execution_count": 47,
   "id": "2a81645e",
   "metadata": {
    "hidden": true
   },
   "outputs": [
    {
     "data": {
      "text/plain": [
       "count    110179.000000\n",
       "mean         19.949359\n",
       "std          15.699213\n",
       "min           0.000000\n",
       "25%          13.080000\n",
       "50%          16.260000\n",
       "75%          21.150000\n",
       "max         409.680000\n",
       "Name: freight_value, dtype: float64"
      ]
     },
     "metadata": {},
     "output_type": "display_data"
    },
    {
     "data": {
      "image/png": "[encoded data removed]",
      "text/plain": [
       "<Figure size 1152x504 with 2 Axes>"
      ]
     },
     "metadata": {},
     "output_type": "display_data"
    },
    {
     "name": "stdout",
     "output_type": "stream",
     "text": [
      "There is :\n",
      "638 freight prices higher then 100$\n",
      "66 freight prices higher then 200$\n"
     ]
    }
   ],
   "source": [
    "#lets start looking at freight values\n",
    "\n",
    "display(freight_df2.freight_value.describe())\n",
    "\n",
    "sns.set_style('white')\n",
    "fig, (ax1,ax2) = plt.subplots(1,2,figsize=(16,7))\n",
    "\n",
    "sns.histplot(data =freight_df2.freight_value,ax = ax1)\n",
    "ax1.set_title(\"Freight Price Histogram\",fontsize = 26)\n",
    "ax1.set_xlabel(\"Freight Price\",fontsize=22)\n",
    "ax1.set_ylabel(\"Quantity\",fontsize=22)\n",
    "ax1.tick_params(labelsize=18)\n",
    "\n",
    "high_freight = freight_df2[freight_df2.freight_value>100]\n",
    "sns.histplot(data =high_freight.freight_value,ax = ax2)\n",
    "ax2.set_title(\"Freight Price Histogram (Freight >100)\",fontsize = 26)\n",
    "ax2.set_xlabel(\"Freight Price\",fontsize=22)\n",
    "ax2.set_ylabel(\"Quantity\",fontsize=22)\n",
    "ax2.tick_params(labelsize=18)\n",
    "\n",
    "plt.show()\n",
    "print(f'There is :\\n{len(high_freight)} freight prices higher then 100$'\n",
    "      f'\\n{len(high_freight[high_freight.freight_value>200])} freight prices higher then 200$')"
   ]
  },
  {
   "cell_type": "markdown",
   "id": "3e033587",
   "metadata": {
    "hidden": true
   },
   "source": [
    "We have some very high freight prices. \n",
    "\n",
    "If those values are associated with big weights and\\or long delivery distances, it may not be an issue. Otherwise, we are dealing with outliers and we should drop those values before training our model.\n"
   ]
  },
  {
   "cell_type": "code",
   "execution_count": 55,
   "id": "8dead448",
   "metadata": {
    "hidden": true
   },
   "outputs": [
    {
     "data": {
      "text/html": [
       "<div>\n",
       "<style scoped>\n",
       "    .dataframe tbody tr th:only-of-type {\n",
       "        vertical-align: middle;\n",
       "    }\n",
       "\n",
       "    .dataframe tbody tr th {\n",
       "        vertical-align: top;\n",
       "    }\n",
       "\n",
       "    .dataframe thead th {\n",
       "        text-align: right;\n",
       "    }\n",
       "</style>\n",
       "<table border=\"1\" class=\"dataframe\">\n",
       "  <thead>\n",
       "    <tr style=\"text-align: right;\">\n",
       "      <th></th>\n",
       "      <th>freight_value</th>\n",
       "      <th>price</th>\n",
       "      <th>product_weight_g</th>\n",
       "      <th>product_length_cm</th>\n",
       "      <th>product_height_cm</th>\n",
       "      <th>product_width_cm</th>\n",
       "      <th>customer_state</th>\n",
       "      <th>seller_state</th>\n",
       "      <th>customer_lat</th>\n",
       "      <th>customer_lng</th>\n",
       "      <th>seller_lat</th>\n",
       "      <th>seller_lng</th>\n",
       "      <th>delivery_distance</th>\n",
       "      <th>product_volume</th>\n",
       "    </tr>\n",
       "  </thead>\n",
       "  <tbody>\n",
       "    <tr>\n",
       "      <th>1160</th>\n",
       "      <td>185.73</td>\n",
       "      <td>79.99</td>\n",
       "      <td>250.0</td>\n",
       "      <td>22.0</td>\n",
       "      <td>10.0</td>\n",
       "      <td>18.0</td>\n",
       "      <td>BA</td>\n",
       "      <td>SP</td>\n",
       "      <td>-10.504092</td>\n",
       "      <td>-40.326104</td>\n",
       "      <td>-23.659364</td>\n",
       "      <td>-46.523183</td>\n",
       "      <td>1603.484491</td>\n",
       "      <td>3960.0</td>\n",
       "    </tr>\n",
       "  </tbody>\n",
       "</table>\n",
       "</div>"
      ],
      "text/plain": [
       "      freight_value  price  product_weight_g  product_length_cm  \\\n",
       "1160         185.73  79.99             250.0               22.0   \n",
       "\n",
       "      product_height_cm  product_width_cm customer_state seller_state  \\\n",
       "1160               10.0              18.0             BA           SP   \n",
       "\n",
       "      customer_lat  customer_lng  seller_lat  seller_lng  delivery_distance  \\\n",
       "1160    -10.504092    -40.326104  -23.659364  -46.523183        1603.484491   \n",
       "\n",
       "      product_volume  \n",
       "1160          3960.0  "
      ]
     },
     "execution_count": 55,
     "metadata": {},
     "output_type": "execute_result"
    }
   ],
   "source": [
    "high_freight.head(1)"
   ]
  },
  {
   "cell_type": "code",
   "execution_count": 85,
   "id": "9eea2332",
   "metadata": {
    "hidden": true
   },
   "outputs": [
    {
     "data": {
      "image/png": "[encoded data removed]",
      "text/plain": [
       "<Figure size 1296x504 with 2 Axes>"
      ]
     },
     "metadata": {},
     "output_type": "display_data"
    }
   ],
   "source": [
    "fig, (ax1,ax2) = plt.subplots(1,2,figsize=(18,7))\n",
    "\n",
    "sns.regplot(x=freight_df2['freight_value'], y=freight_df2['delivery_distance'], scatter_kws={'s':7},ax=ax1)\n",
    "ax1.set_title(\"Distance x Freight Price\",fontsize = 26)\n",
    "ax1.set_xlabel(\"Freight Price\",fontsize=22)\n",
    "ax1.set_ylabel(\"Delivery Distance\",fontsize=22)\n",
    "ax1.tick_params(labelsize=18)\n",
    "\n",
    "\n",
    "sns.regplot(x=freight_df2['freight_value'], y=freight_df2['product_weight_g'],scatter_kws={'s':7},ax=ax2)\n",
    "ax2.set_title(\"Weight x Freight Price\",fontsize = 26)\n",
    "ax2.set_xlabel(\"Freight Price\",fontsize=22)\n",
    "ax2.set_ylabel(\"Weight [g]\",fontsize=22)\n",
    "ax2.tick_params(labelsize=18)"
   ]
  },
  {
   "cell_type": "markdown",
   "id": "a5ab409b",
   "metadata": {
    "hidden": true
   },
   "source": [
    "Those views were very insightful. First of all, we notice that the biggest freight, in many cases, may not be explained by heavy weights neither long distances. We also note that we have some distance and weight outliers that will probably have a negative effect on our model. So we will drop outliers by these rules:\n",
    "\n",
    "+ drop lines with freight > 250 and weight < 28000\n",
    "+ drop lines with freight > 150 and weight < 7500\n",
    "+ drop lines with weight > 35000\n",
    "+ drop lines with distance > 4000\n"
   ]
  },
  {
   "cell_type": "code",
   "execution_count": 100,
   "id": "b21f2931",
   "metadata": {
    "hidden": true
   },
   "outputs": [
    {
     "name": "stdout",
     "output_type": "stream",
     "text": [
      "Rule 1 len: 11\n",
      "Rule 2 len: 7\n",
      "Rule 3 len: 3\n",
      "Rule 4 len: 4\n"
     ]
    }
   ],
   "source": [
    "#Before droping, lets check if we are not droping to much info\n",
    "\n",
    "print(f'Rule 1 len: {len(freight_df2[(freight_df2.freight_value>250) & (freight_df2.product_weight_g<25000)])}'\n",
    "      f'\\nRule 2 len: {len(freight_df2[(freight_df2.freight_value>150) & (freight_df2.product_weight_g<7500)])}'\n",
    "      f'\\nRule 3 len: {len(freight_df2[freight_df2.product_weight_g>35000])}'\n",
    "      f'\\nRule 4 len: {len(freight_df2[freight_df2.delivery_distance>4000])}')"
   ]
  },
  {
   "cell_type": "markdown",
   "id": "4251de8d",
   "metadata": {
    "hidden": true
   },
   "source": [
    "Only a few data will be dropped, looks like we are good to continue"
   ]
  },
  {
   "cell_type": "code",
   "execution_count": 98,
   "id": "4c29c77a",
   "metadata": {
    "hidden": true
   },
   "outputs": [
    {
     "name": "stdout",
     "output_type": "stream",
     "text": [
      "(110154, 14)\n"
     ]
    },
    {
     "data": {
      "text/html": [
       "<div>\n",
       "<style scoped>\n",
       "    .dataframe tbody tr th:only-of-type {\n",
       "        vertical-align: middle;\n",
       "    }\n",
       "\n",
       "    .dataframe tbody tr th {\n",
       "        vertical-align: top;\n",
       "    }\n",
       "\n",
       "    .dataframe thead th {\n",
       "        text-align: right;\n",
       "    }\n",
       "</style>\n",
       "<table border=\"1\" class=\"dataframe\">\n",
       "  <thead>\n",
       "    <tr style=\"text-align: right;\">\n",
       "      <th></th>\n",
       "      <th>freight_value</th>\n",
       "      <th>price</th>\n",
       "      <th>product_weight_g</th>\n",
       "      <th>product_length_cm</th>\n",
       "      <th>product_height_cm</th>\n",
       "      <th>product_width_cm</th>\n",
       "      <th>customer_state</th>\n",
       "      <th>seller_state</th>\n",
       "      <th>customer_lat</th>\n",
       "      <th>customer_lng</th>\n",
       "      <th>seller_lat</th>\n",
       "      <th>seller_lng</th>\n",
       "      <th>delivery_distance</th>\n",
       "      <th>product_volume</th>\n",
       "    </tr>\n",
       "  </thead>\n",
       "  <tbody>\n",
       "    <tr>\n",
       "      <th>0</th>\n",
       "      <td>13.29</td>\n",
       "      <td>58.9</td>\n",
       "      <td>650.0</td>\n",
       "      <td>28.0</td>\n",
       "      <td>9.0</td>\n",
       "      <td>14.0</td>\n",
       "      <td>RJ</td>\n",
       "      <td>SP</td>\n",
       "      <td>-21.762775</td>\n",
       "      <td>-41.309633</td>\n",
       "      <td>-22.496953</td>\n",
       "      <td>-44.127492</td>\n",
       "      <td>301.504681</td>\n",
       "      <td>3528.0</td>\n",
       "    </tr>\n",
       "    <tr>\n",
       "      <th>1</th>\n",
       "      <td>17.96</td>\n",
       "      <td>55.9</td>\n",
       "      <td>650.0</td>\n",
       "      <td>28.0</td>\n",
       "      <td>9.0</td>\n",
       "      <td>14.0</td>\n",
       "      <td>GO</td>\n",
       "      <td>SP</td>\n",
       "      <td>-17.884337</td>\n",
       "      <td>-51.716990</td>\n",
       "      <td>-22.496953</td>\n",
       "      <td>-44.127492</td>\n",
       "      <td>943.308218</td>\n",
       "      <td>3528.0</td>\n",
       "    </tr>\n",
       "    <tr>\n",
       "      <th>2</th>\n",
       "      <td>18.33</td>\n",
       "      <td>64.9</td>\n",
       "      <td>650.0</td>\n",
       "      <td>28.0</td>\n",
       "      <td>9.0</td>\n",
       "      <td>14.0</td>\n",
       "      <td>MG</td>\n",
       "      <td>SP</td>\n",
       "      <td>-19.914323</td>\n",
       "      <td>-43.975703</td>\n",
       "      <td>-22.496953</td>\n",
       "      <td>-44.127492</td>\n",
       "      <td>287.605969</td>\n",
       "      <td>3528.0</td>\n",
       "    </tr>\n",
       "  </tbody>\n",
       "</table>\n",
       "</div>"
      ],
      "text/plain": [
       "   freight_value  price  product_weight_g  product_length_cm  \\\n",
       "0          13.29   58.9             650.0               28.0   \n",
       "1          17.96   55.9             650.0               28.0   \n",
       "2          18.33   64.9             650.0               28.0   \n",
       "\n",
       "   product_height_cm  product_width_cm customer_state seller_state  \\\n",
       "0                9.0              14.0             RJ           SP   \n",
       "1                9.0              14.0             GO           SP   \n",
       "2                9.0              14.0             MG           SP   \n",
       "\n",
       "   customer_lat  customer_lng  seller_lat  seller_lng  delivery_distance  \\\n",
       "0    -21.762775    -41.309633  -22.496953  -44.127492         301.504681   \n",
       "1    -17.884337    -51.716990  -22.496953  -44.127492         943.308218   \n",
       "2    -19.914323    -43.975703  -22.496953  -44.127492         287.605969   \n",
       "\n",
       "   product_volume  \n",
       "0          3528.0  \n",
       "1          3528.0  \n",
       "2          3528.0  "
      ]
     },
     "execution_count": 98,
     "metadata": {},
     "output_type": "execute_result"
    }
   ],
   "source": [
    "freight_df3 = freight_df2.copy()\n",
    "\n",
    "freight_df3 = freight_df3[~((freight_df3.freight_value>250) & (freight_df3.product_weight_g<25000))]\n",
    "freight_df3 = freight_df3[~((freight_df3.freight_value>150) & (freight_df3.product_weight_g<7500))]\n",
    "freight_df3 = freight_df3[freight_df3.product_weight_g<35000]\n",
    "freight_df3 = freight_df3[freight_df3.delivery_distance<4000]\n",
    "\n",
    "freight_df3.reset_index(drop = True, inplace = True)\n",
    "print(freight_df3.shape)\n",
    "freight_df3.head(3)"
   ]
  },
  {
   "cell_type": "markdown",
   "id": "3d00267a",
   "metadata": {
    "heading_collapsed": true
   },
   "source": [
    "# EDA and Final Feature Engineering"
   ]
  },
  {
   "cell_type": "markdown",
   "id": "6ff3c009",
   "metadata": {
    "hidden": true
   },
   "source": [
    "First of all, we can drop all the info that were used to create new features like: all the coordinates and product measurements "
   ]
  },
  {
   "cell_type": "code",
   "execution_count": 106,
   "id": "7f386495",
   "metadata": {
    "hidden": true
   },
   "outputs": [
    {
     "data": {
      "text/html": [
       "<div>\n",
       "<style scoped>\n",
       "    .dataframe tbody tr th:only-of-type {\n",
       "        vertical-align: middle;\n",
       "    }\n",
       "\n",
       "    .dataframe tbody tr th {\n",
       "        vertical-align: top;\n",
       "    }\n",
       "\n",
       "    .dataframe thead th {\n",
       "        text-align: right;\n",
       "    }\n",
       "</style>\n",
       "<table border=\"1\" class=\"dataframe\">\n",
       "  <thead>\n",
       "    <tr style=\"text-align: right;\">\n",
       "      <th></th>\n",
       "      <th>freight_value</th>\n",
       "      <th>price</th>\n",
       "      <th>product_weight_g</th>\n",
       "      <th>customer_state</th>\n",
       "      <th>seller_state</th>\n",
       "      <th>delivery_distance</th>\n",
       "      <th>product_volume</th>\n",
       "    </tr>\n",
       "  </thead>\n",
       "  <tbody>\n",
       "    <tr>\n",
       "      <th>0</th>\n",
       "      <td>13.29</td>\n",
       "      <td>58.9</td>\n",
       "      <td>650.0</td>\n",
       "      <td>RJ</td>\n",
       "      <td>SP</td>\n",
       "      <td>301.504681</td>\n",
       "      <td>3528.0</td>\n",
       "    </tr>\n",
       "  </tbody>\n",
       "</table>\n",
       "</div>"
      ],
      "text/plain": [
       "   freight_value  price  product_weight_g customer_state seller_state  \\\n",
       "0          13.29   58.9             650.0             RJ           SP   \n",
       "\n",
       "   delivery_distance  product_volume  \n",
       "0         301.504681          3528.0  "
      ]
     },
     "execution_count": 106,
     "metadata": {},
     "output_type": "execute_result"
    }
   ],
   "source": [
    "freight_df4 = freight_df3.drop(['product_length_cm','product_height_cm','product_width_cm',\n",
    "                                'customer_lat','customer_lng','seller_lat','seller_lng'],axis = 1)\n",
    "\n",
    "freight_df4.head(1)"
   ]
  },
  {
   "cell_type": "code",
   "execution_count": 107,
   "id": "3e403a2d",
   "metadata": {
    "hidden": true
   },
   "outputs": [
    {
     "data": {
      "text/html": [
       "<div>\n",
       "<style scoped>\n",
       "    .dataframe tbody tr th:only-of-type {\n",
       "        vertical-align: middle;\n",
       "    }\n",
       "\n",
       "    .dataframe tbody tr th {\n",
       "        vertical-align: top;\n",
       "    }\n",
       "\n",
       "    .dataframe thead th {\n",
       "        text-align: right;\n",
       "    }\n",
       "</style>\n",
       "<table border=\"1\" class=\"dataframe\">\n",
       "  <thead>\n",
       "    <tr style=\"text-align: right;\">\n",
       "      <th></th>\n",
       "      <th>freight_value</th>\n",
       "      <th>price</th>\n",
       "      <th>product_weight_g</th>\n",
       "      <th>delivery_distance</th>\n",
       "      <th>product_volume</th>\n",
       "    </tr>\n",
       "  </thead>\n",
       "  <tbody>\n",
       "    <tr>\n",
       "      <th>freight_value</th>\n",
       "      <td>1.000000</td>\n",
       "      <td>0.409372</td>\n",
       "      <td>0.617327</td>\n",
       "      <td>0.396433</td>\n",
       "      <td>0.586424</td>\n",
       "    </tr>\n",
       "    <tr>\n",
       "      <th>price</th>\n",
       "      <td>0.409372</td>\n",
       "      <td>1.000000</td>\n",
       "      <td>0.341936</td>\n",
       "      <td>0.087225</td>\n",
       "      <td>0.300409</td>\n",
       "    </tr>\n",
       "    <tr>\n",
       "      <th>product_weight_g</th>\n",
       "      <td>0.617327</td>\n",
       "      <td>0.341936</td>\n",
       "      <td>1.000000</td>\n",
       "      <td>-0.007691</td>\n",
       "      <td>0.806202</td>\n",
       "    </tr>\n",
       "    <tr>\n",
       "      <th>delivery_distance</th>\n",
       "      <td>0.396433</td>\n",
       "      <td>0.087225</td>\n",
       "      <td>-0.007691</td>\n",
       "      <td>1.000000</td>\n",
       "      <td>-0.011237</td>\n",
       "    </tr>\n",
       "    <tr>\n",
       "      <th>product_volume</th>\n",
       "      <td>0.586424</td>\n",
       "      <td>0.300409</td>\n",
       "      <td>0.806202</td>\n",
       "      <td>-0.011237</td>\n",
       "      <td>1.000000</td>\n",
       "    </tr>\n",
       "  </tbody>\n",
       "</table>\n",
       "</div>"
      ],
      "text/plain": [
       "                   freight_value     price  product_weight_g  \\\n",
       "freight_value           1.000000  0.409372          0.617327   \n",
       "price                   0.409372  1.000000          0.341936   \n",
       "product_weight_g        0.617327  0.341936          1.000000   \n",
       "delivery_distance       0.396433  0.087225         -0.007691   \n",
       "product_volume          0.586424  0.300409          0.806202   \n",
       "\n",
       "                   delivery_distance  product_volume  \n",
       "freight_value               0.396433        0.586424  \n",
       "price                       0.087225        0.300409  \n",
       "product_weight_g           -0.007691        0.806202  \n",
       "delivery_distance           1.000000       -0.011237  \n",
       "product_volume             -0.011237        1.000000  "
      ]
     },
     "execution_count": 107,
     "metadata": {},
     "output_type": "execute_result"
    }
   ],
   "source": [
    "#lets take a quick look at the correlations \n",
    "\n",
    "freight_df4.corr()"
   ]
  },
  {
   "cell_type": "markdown",
   "id": "a88c04ae",
   "metadata": {
    "hidden": true
   },
   "source": [
    "apparently our features make sense. Now we only have to deal with the seller and customer state info. Does the delivery distance is enough or we could improve our model with dummy variables about the state? \n",
    "\n",
    "To answer that question lets start comparing freight, state and distance."
   ]
  },
  {
   "cell_type": "code",
   "execution_count": 115,
   "id": "d01102f8",
   "metadata": {
    "hidden": true
   },
   "outputs": [
    {
     "data": {
      "text/html": [
       "<div>\n",
       "<style scoped>\n",
       "    .dataframe tbody tr th:only-of-type {\n",
       "        vertical-align: middle;\n",
       "    }\n",
       "\n",
       "    .dataframe tbody tr th {\n",
       "        vertical-align: top;\n",
       "    }\n",
       "\n",
       "    .dataframe thead th {\n",
       "        text-align: right;\n",
       "    }\n",
       "</style>\n",
       "<table border=\"1\" class=\"dataframe\">\n",
       "  <thead>\n",
       "    <tr style=\"text-align: right;\">\n",
       "      <th></th>\n",
       "      <th>freight_value</th>\n",
       "      <th>price</th>\n",
       "      <th>product_weight_g</th>\n",
       "      <th>delivery_distance</th>\n",
       "      <th>product_volume</th>\n",
       "      <th>qnt_sellers</th>\n",
       "    </tr>\n",
       "    <tr>\n",
       "      <th>seller_state</th>\n",
       "      <th></th>\n",
       "      <th></th>\n",
       "      <th></th>\n",
       "      <th></th>\n",
       "      <th></th>\n",
       "      <th></th>\n",
       "    </tr>\n",
       "  </thead>\n",
       "  <tbody>\n",
       "    <tr>\n",
       "      <th>SP</th>\n",
       "      <td>18.381738</td>\n",
       "      <td>108.195492</td>\n",
       "      <td>2056.611149</td>\n",
       "      <td>539.590233</td>\n",
       "      <td>15536.033117</td>\n",
       "      <td>78570</td>\n",
       "    </tr>\n",
       "    <tr>\n",
       "      <th>MG</th>\n",
       "      <td>23.989008</td>\n",
       "      <td>113.658256</td>\n",
       "      <td>2752.741804</td>\n",
       "      <td>597.102131</td>\n",
       "      <td>15258.589630</td>\n",
       "      <td>8602</td>\n",
       "    </tr>\n",
       "    <tr>\n",
       "      <th>PR</th>\n",
       "      <td>22.533275</td>\n",
       "      <td>143.882588</td>\n",
       "      <td>1978.568785</td>\n",
       "      <td>721.597449</td>\n",
       "      <td>14722.920311</td>\n",
       "      <td>8483</td>\n",
       "    </tr>\n",
       "  </tbody>\n",
       "</table>\n",
       "</div>"
      ],
      "text/plain": [
       "              freight_value       price  product_weight_g  delivery_distance  \\\n",
       "seller_state                                                                   \n",
       "SP                18.381738  108.195492       2056.611149         539.590233   \n",
       "MG                23.989008  113.658256       2752.741804         597.102131   \n",
       "PR                22.533275  143.882588       1978.568785         721.597449   \n",
       "\n",
       "              product_volume  qnt_sellers  \n",
       "seller_state                               \n",
       "SP              15536.033117        78570  \n",
       "MG              15258.589630         8602  \n",
       "PR              14722.920311         8483  "
      ]
     },
     "metadata": {},
     "output_type": "display_data"
    },
    {
     "data": {
      "text/html": [
       "<div>\n",
       "<style scoped>\n",
       "    .dataframe tbody tr th:only-of-type {\n",
       "        vertical-align: middle;\n",
       "    }\n",
       "\n",
       "    .dataframe tbody tr th {\n",
       "        vertical-align: top;\n",
       "    }\n",
       "\n",
       "    .dataframe thead th {\n",
       "        text-align: right;\n",
       "    }\n",
       "</style>\n",
       "<table border=\"1\" class=\"dataframe\">\n",
       "  <thead>\n",
       "    <tr style=\"text-align: right;\">\n",
       "      <th></th>\n",
       "      <th>freight_value</th>\n",
       "      <th>price</th>\n",
       "      <th>product_weight_g</th>\n",
       "      <th>delivery_distance</th>\n",
       "      <th>product_volume</th>\n",
       "      <th>qnt_customers</th>\n",
       "    </tr>\n",
       "    <tr>\n",
       "      <th>customer_state</th>\n",
       "      <th></th>\n",
       "      <th></th>\n",
       "      <th></th>\n",
       "      <th></th>\n",
       "      <th></th>\n",
       "      <th></th>\n",
       "    </tr>\n",
       "  </thead>\n",
       "  <tbody>\n",
       "    <tr>\n",
       "      <th>SP</th>\n",
       "      <td>15.111047</td>\n",
       "      <td>108.972873</td>\n",
       "      <td>2034.069506</td>\n",
       "      <td>247.631748</td>\n",
       "      <td>15162.523406</td>\n",
       "      <td>46442</td>\n",
       "    </tr>\n",
       "    <tr>\n",
       "      <th>RJ</th>\n",
       "      <td>20.898673</td>\n",
       "      <td>124.421479</td>\n",
       "      <td>2254.810622</td>\n",
       "      <td>488.461362</td>\n",
       "      <td>15554.339509</td>\n",
       "      <td>14141</td>\n",
       "    </tr>\n",
       "    <tr>\n",
       "      <th>MG</th>\n",
       "      <td>20.609770</td>\n",
       "      <td>119.988060</td>\n",
       "      <td>2164.725062</td>\n",
       "      <td>533.775916</td>\n",
       "      <td>15004.187268</td>\n",
       "      <td>12912</td>\n",
       "    </tr>\n",
       "  </tbody>\n",
       "</table>\n",
       "</div>"
      ],
      "text/plain": [
       "                freight_value       price  product_weight_g  \\\n",
       "customer_state                                                \n",
       "SP                  15.111047  108.972873       2034.069506   \n",
       "RJ                  20.898673  124.421479       2254.810622   \n",
       "MG                  20.609770  119.988060       2164.725062   \n",
       "\n",
       "                delivery_distance  product_volume  qnt_customers  \n",
       "customer_state                                                    \n",
       "SP                     247.631748    15162.523406          46442  \n",
       "RJ                     488.461362    15554.339509          14141  \n",
       "MG                     533.775916    15004.187268          12912  "
      ]
     },
     "metadata": {},
     "output_type": "display_data"
    }
   ],
   "source": [
    "#first, lets create a summary\n",
    "\n",
    "seller_states_summary = freight_df4.groupby('seller_state').agg({'freight_value':'mean',\n",
    "                                                                 'price':'mean',\n",
    "                                                                 'product_weight_g':'mean',\n",
    "                                                                 'delivery_distance':'mean',\n",
    "                                                                 'product_volume':'mean',\n",
    "                                                                 'customer_state':'count'})\n",
    "\n",
    "seller_states_summary.sort_values(by =['customer_state'],ascending = False,inplace = True)\n",
    "seller_states_summary.rename(columns = {'customer_state':'qnt_sellers'},inplace = True)\n",
    "\n",
    "display(seller_states_summary.head(3))\n",
    "\n",
    "customer_states_summary = freight_df4.groupby('customer_state').agg({'freight_value':'mean',\n",
    "                                                                 'price':'mean',\n",
    "                                                                 'product_weight_g':'mean',\n",
    "                                                                 'delivery_distance':'mean',\n",
    "                                                                 'product_volume':'mean',\n",
    "                                                                 'seller_state':'count'})\n",
    "\n",
    "customer_states_summary.sort_values(by =['seller_state'],ascending = False,inplace = True)\n",
    "customer_states_summary.rename(columns = {'seller_state':'qnt_customers'},inplace = True)\n",
    "\n",
    "display(customer_states_summary.head(3))"
   ]
  },
  {
   "cell_type": "code",
   "execution_count": 124,
   "id": "a694ae7b",
   "metadata": {
    "hidden": true
   },
   "outputs": [
    {
     "data": {
      "image/png": "[encoded data removed]",
      "text/plain": [
       "<Figure size 1152x504 with 2 Axes>"
      ]
     },
     "metadata": {},
     "output_type": "display_data"
    }
   ],
   "source": [
    "#viewing the data\n",
    "\n",
    "fig, (ax1,ax2) = plt.subplots(2,1,figsize=(16,7))\n",
    "\n",
    "sns.barplot(y=seller_states_summary.qnt_sellers,\n",
    "            x=seller_states_summary.index,\n",
    "            color ='#1833ab',lw =3, ax = ax1)\n",
    "\n",
    "ax1.set_title(\"Quantity of Sellers x State\",fontsize = 24)\n",
    "ax1.set_ylabel(\"Qnt\",fontsize=18)\n",
    "ax1.set_xlabel(\"\",fontsize=18)\n",
    "ax1.tick_params(labelsize=18)\n",
    "\n",
    "sns.barplot(y=customer_states_summary.qnt_customers,\n",
    "            x=customer_states_summary.index,\n",
    "            color ='#1833ab',lw =3, ax = ax2)\n",
    "\n",
    "ax2.set_title(\"Quantity of Customers x State\",fontsize = 24)\n",
    "ax2.set_ylabel(\"Qnt\",fontsize=18)\n",
    "ax2.set_xlabel(\"\",fontsize=18)\n",
    "ax2.tick_params(labelsize=18)\n",
    "\n",
    "plt.subplots_adjust(hspace = 0.4)\n",
    "plt.show()"
   ]
  },
  {
   "cell_type": "markdown",
   "id": "cbd57508",
   "metadata": {
    "hidden": true
   },
   "source": [
    "The majority of sellers and customers are located in SP. Also, RJ and MG are states close to SP. Because of that it will not worth to use dummy variables for states, the delivery distance should be a more reliable feature."
   ]
  },
  {
   "cell_type": "code",
   "execution_count": 126,
   "id": "ee28fc83",
   "metadata": {
    "hidden": true
   },
   "outputs": [
    {
     "data": {
      "text/html": [
       "<div>\n",
       "<style scoped>\n",
       "    .dataframe tbody tr th:only-of-type {\n",
       "        vertical-align: middle;\n",
       "    }\n",
       "\n",
       "    .dataframe tbody tr th {\n",
       "        vertical-align: top;\n",
       "    }\n",
       "\n",
       "    .dataframe thead th {\n",
       "        text-align: right;\n",
       "    }\n",
       "</style>\n",
       "<table border=\"1\" class=\"dataframe\">\n",
       "  <thead>\n",
       "    <tr style=\"text-align: right;\">\n",
       "      <th></th>\n",
       "      <th>freight_value</th>\n",
       "      <th>price</th>\n",
       "      <th>product_weight_g</th>\n",
       "      <th>delivery_distance</th>\n",
       "      <th>product_volume</th>\n",
       "    </tr>\n",
       "  </thead>\n",
       "  <tbody>\n",
       "    <tr>\n",
       "      <th>0</th>\n",
       "      <td>13.29</td>\n",
       "      <td>58.9</td>\n",
       "      <td>650.0</td>\n",
       "      <td>301.504681</td>\n",
       "      <td>3528.0</td>\n",
       "    </tr>\n",
       "    <tr>\n",
       "      <th>1</th>\n",
       "      <td>17.96</td>\n",
       "      <td>55.9</td>\n",
       "      <td>650.0</td>\n",
       "      <td>943.308218</td>\n",
       "      <td>3528.0</td>\n",
       "    </tr>\n",
       "    <tr>\n",
       "      <th>2</th>\n",
       "      <td>18.33</td>\n",
       "      <td>64.9</td>\n",
       "      <td>650.0</td>\n",
       "      <td>287.605969</td>\n",
       "      <td>3528.0</td>\n",
       "    </tr>\n",
       "  </tbody>\n",
       "</table>\n",
       "</div>"
      ],
      "text/plain": [
       "   freight_value  price  product_weight_g  delivery_distance  product_volume\n",
       "0          13.29   58.9             650.0         301.504681          3528.0\n",
       "1          17.96   55.9             650.0         943.308218          3528.0\n",
       "2          18.33   64.9             650.0         287.605969          3528.0"
      ]
     },
     "execution_count": 126,
     "metadata": {},
     "output_type": "execute_result"
    }
   ],
   "source": [
    "final_freight_df = freight_df4.drop(['customer_state','seller_state'],axis = 1)\n",
    "\n",
    "final_freight_df.head(3)"
   ]
  },
  {
   "cell_type": "markdown",
   "id": "ea4f64fa",
   "metadata": {
    "heading_collapsed": true
   },
   "source": [
    "# Building the Model"
   ]
  },
  {
   "cell_type": "markdown",
   "id": "3c2be5b3",
   "metadata": {
    "hidden": true
   },
   "source": [
    "First of all, lets create a Baseline and define our metrics to compare our results. "
   ]
  },
  {
   "cell_type": "markdown",
   "id": "0eb4d0d6",
   "metadata": {
    "hidden": true
   },
   "source": [
    "Baseline:\n",
    "\n",
    "The freight varies greatly according to the state of the customer. So to use a mean freight price for each state as estimator seems like a good idea. Besides, we already have a customer summary by states, which will make our job really easy. \n",
    "\n",
    "So, to have a robust baseline, we will use two values:\n",
    "\n",
    "+ Total mean \n",
    "+ Mean by customer state"
   ]
  },
  {
   "cell_type": "markdown",
   "id": "dba0b58d",
   "metadata": {
    "hidden": true
   },
   "source": [
    "Metrics:\n",
    "\n",
    "For the metrics, we will use the classic ones for regression models: \n",
    "\n",
    "+ MAE: The absolute error is very meaningful to us, considering that we are dealing with a price value\n",
    "+ RMSE: Very helpful to identify outliers, i.e, big errors  "
   ]
  },
  {
   "cell_type": "code",
   "execution_count": 156,
   "id": "b2244bd5",
   "metadata": {
    "hidden": true
   },
   "outputs": [
    {
     "data": {
      "text/html": [
       "<div>\n",
       "<style scoped>\n",
       "    .dataframe tbody tr th:only-of-type {\n",
       "        vertical-align: middle;\n",
       "    }\n",
       "\n",
       "    .dataframe tbody tr th {\n",
       "        vertical-align: top;\n",
       "    }\n",
       "\n",
       "    .dataframe thead th {\n",
       "        text-align: right;\n",
       "    }\n",
       "</style>\n",
       "<table border=\"1\" class=\"dataframe\">\n",
       "  <thead>\n",
       "    <tr style=\"text-align: right;\">\n",
       "      <th></th>\n",
       "      <th>freight_value</th>\n",
       "      <th>price</th>\n",
       "      <th>product_weight_g</th>\n",
       "      <th>delivery_distance</th>\n",
       "      <th>product_volume</th>\n",
       "      <th>qnt_customers</th>\n",
       "    </tr>\n",
       "    <tr>\n",
       "      <th>customer_state</th>\n",
       "      <th></th>\n",
       "      <th></th>\n",
       "      <th></th>\n",
       "      <th></th>\n",
       "      <th></th>\n",
       "      <th></th>\n",
       "    </tr>\n",
       "  </thead>\n",
       "  <tbody>\n",
       "    <tr>\n",
       "      <th>PI</th>\n",
       "      <td>38.431228</td>\n",
       "      <td>160.677543</td>\n",
       "      <td>2363.861804</td>\n",
       "      <td>1959.989160</td>\n",
       "      <td>15105.871401</td>\n",
       "      <td>521</td>\n",
       "    </tr>\n",
       "    <tr>\n",
       "      <th>RO</th>\n",
       "      <td>41.330549</td>\n",
       "      <td>167.336117</td>\n",
       "      <td>2384.131868</td>\n",
       "      <td>2225.407881</td>\n",
       "      <td>14607.351648</td>\n",
       "      <td>273</td>\n",
       "    </tr>\n",
       "  </tbody>\n",
       "</table>\n",
       "</div>"
      ],
      "text/plain": [
       "                freight_value       price  product_weight_g  \\\n",
       "customer_state                                                \n",
       "PI                  38.431228  160.677543       2363.861804   \n",
       "RO                  41.330549  167.336117       2384.131868   \n",
       "\n",
       "                delivery_distance  product_volume  qnt_customers  \n",
       "customer_state                                                    \n",
       "PI                    1959.989160    15105.871401            521  \n",
       "RO                    2225.407881    14607.351648            273  "
      ]
     },
     "metadata": {},
     "output_type": "display_data"
    },
    {
     "data": {
      "text/html": [
       "<div>\n",
       "<style scoped>\n",
       "    .dataframe tbody tr th:only-of-type {\n",
       "        vertical-align: middle;\n",
       "    }\n",
       "\n",
       "    .dataframe tbody tr th {\n",
       "        vertical-align: top;\n",
       "    }\n",
       "\n",
       "    .dataframe thead th {\n",
       "        text-align: right;\n",
       "    }\n",
       "</style>\n",
       "<table border=\"1\" class=\"dataframe\">\n",
       "  <thead>\n",
       "    <tr style=\"text-align: right;\">\n",
       "      <th></th>\n",
       "      <th>freight_value</th>\n",
       "      <th>price</th>\n",
       "      <th>product_weight_g</th>\n",
       "      <th>customer_state</th>\n",
       "      <th>seller_state</th>\n",
       "      <th>delivery_distance</th>\n",
       "      <th>product_volume</th>\n",
       "    </tr>\n",
       "  </thead>\n",
       "  <tbody>\n",
       "    <tr>\n",
       "      <th>74926</th>\n",
       "      <td>13.88</td>\n",
       "      <td>329.99</td>\n",
       "      <td>838.0</td>\n",
       "      <td>SP</td>\n",
       "      <td>SP</td>\n",
       "      <td>159.535872</td>\n",
       "      <td>8232.0</td>\n",
       "    </tr>\n",
       "    <tr>\n",
       "      <th>27732</th>\n",
       "      <td>11.90</td>\n",
       "      <td>99.99</td>\n",
       "      <td>1250.0</td>\n",
       "      <td>SP</td>\n",
       "      <td>SP</td>\n",
       "      <td>95.277290</td>\n",
       "      <td>15750.0</td>\n",
       "    </tr>\n",
       "  </tbody>\n",
       "</table>\n",
       "</div>"
      ],
      "text/plain": [
       "       freight_value   price  product_weight_g customer_state seller_state  \\\n",
       "74926          13.88  329.99             838.0             SP           SP   \n",
       "27732          11.90   99.99            1250.0             SP           SP   \n",
       "\n",
       "       delivery_distance  product_volume  \n",
       "74926         159.535872          8232.0  \n",
       "27732          95.277290         15750.0  "
      ]
     },
     "execution_count": 156,
     "metadata": {},
     "output_type": "execute_result"
    }
   ],
   "source": [
    "#remembering our summary and df with seller state info\n",
    "print('Customer Summary')\n",
    "display(customer_states_summary.sample(2))\n",
    "\n",
    "print('Freight df with states info')\n",
    "freight_df4.sample(2)"
   ]
  },
  {
   "cell_type": "code",
   "execution_count": 208,
   "id": "3198afc1",
   "metadata": {
    "hidden": true
   },
   "outputs": [],
   "source": [
    "def mae_baseline():\n",
    "    t_start = perf_counter()\n",
    "    prov_df = freight_df4.copy()\n",
    "    \n",
    "    \n",
    "    prov_df['mean'] = np.mean(prov_df.freight_value)\n",
    "    \n",
    "    prov_df['freight_estimate'] = prov_df.customer_state.apply(\n",
    "        lambda x:customer_states_summary[customer_states_summary.index == x].freight_value[0])\n",
    "    \n",
    "    mae_mean_by_state = mean_absolute_error(prov_df['freight_value'], prov_df['freight_estimate'])\n",
    "    mae_mean = mean_absolute_error(prov_df['freight_value'], prov_df['mean'])\n",
    "\n",
    "    rmse_mean_by_state = mean_squared_error(prov_df['freight_value'], prov_df['freight_estimate'], squared=False)\n",
    "    rmse_mean = mean_squared_error(prov_df['freight_value'], prov_df['mean'], squared=False) \n",
    "    \n",
    "    t_end = perf_counter()\n",
    "    time = round(t_end-t_start,2) \n",
    "    result = pd.DataFrame({'n_estimators':'N\\A',\n",
    "                           'MAE':[mae_mean,mae_mean_by_state],\n",
    "                           'RMSE':[rmse_mean,rmse_mean_by_state],\n",
    "                           'time':time},index = ['mean','mean by state'])\n",
    "    return result"
   ]
  },
  {
   "cell_type": "code",
   "execution_count": 209,
   "id": "69529287",
   "metadata": {
    "hidden": true,
    "scrolled": true
   },
   "outputs": [
    {
     "data": {
      "text/html": [
       "<div>\n",
       "<style scoped>\n",
       "    .dataframe tbody tr th:only-of-type {\n",
       "        vertical-align: middle;\n",
       "    }\n",
       "\n",
       "    .dataframe tbody tr th {\n",
       "        vertical-align: top;\n",
       "    }\n",
       "\n",
       "    .dataframe thead th {\n",
       "        text-align: right;\n",
       "    }\n",
       "</style>\n",
       "<table border=\"1\" class=\"dataframe\">\n",
       "  <thead>\n",
       "    <tr style=\"text-align: right;\">\n",
       "      <th></th>\n",
       "      <th>n_estimators</th>\n",
       "      <th>MAE</th>\n",
       "      <th>RMSE</th>\n",
       "      <th>time</th>\n",
       "    </tr>\n",
       "  </thead>\n",
       "  <tbody>\n",
       "    <tr>\n",
       "      <th>mean</th>\n",
       "      <td>N\\A</td>\n",
       "      <td>8.548127</td>\n",
       "      <td>15.370855</td>\n",
       "      <td>21.12</td>\n",
       "    </tr>\n",
       "    <tr>\n",
       "      <th>mean by state</th>\n",
       "      <td>N\\A</td>\n",
       "      <td>7.463449</td>\n",
       "      <td>14.296246</td>\n",
       "      <td>21.12</td>\n",
       "    </tr>\n",
       "  </tbody>\n",
       "</table>\n",
       "</div>"
      ],
      "text/plain": [
       "              n_estimators       MAE       RMSE   time\n",
       "mean                   N\\A  8.548127  15.370855  21.12\n",
       "mean by state          N\\A  7.463449  14.296246  21.12"
      ]
     },
     "execution_count": 209,
     "metadata": {},
     "output_type": "execute_result"
    }
   ],
   "source": [
    "BASELINE = mae_baseline()\n",
    "BASELINE"
   ]
  },
  {
   "cell_type": "code",
   "execution_count": 251,
   "id": "062d34b6",
   "metadata": {
    "hidden": true
   },
   "outputs": [],
   "source": [
    "# X = Train Data\n",
    "# y = Validation\n",
    "# n_list = list of n_estimators to test\n",
    "# model = 'RandomForest'\\'XGBoost'\n",
    "\n",
    "def avaliate_models(X,y,n_list = [50], model_list = ['RandomForest','XGBoost'],l_rate = 0.05):\n",
    "    \n",
    "    n_estimators,mae_scores,rmse_scores,models,time =[[] for i in range(5)]\n",
    "    \n",
    "    for model in model_list:\n",
    "        if model == 'RandomForest':\n",
    "            for n in n_list:\n",
    "                t_start = perf_counter()\n",
    "                # Multiply by -1 since sklearn calculates *negative* MAE\n",
    "                scores = cross_validate(RandomForestRegressor(n_estimators=n, random_state=33),\n",
    "                                        X, y,\n",
    "                                        cv=5,\n",
    "                                        scoring=('neg_mean_absolute_error','neg_root_mean_squared_error'))\n",
    "                \n",
    "                t_end = perf_counter()\n",
    "                time.append(round(t_end-t_start,2))\n",
    "                n_estimators.append(n)\n",
    "                mae_scores.append(-1*scores.get('test_neg_mean_absolute_error').mean())\n",
    "                rmse_scores.append(-1*scores.get('test_neg_root_mean_squared_error').mean())\n",
    "                models.append(model)\n",
    "                \n",
    "        if model == 'XGBoost':\n",
    "            for n in n_list:\n",
    "                t_start = perf_counter()\n",
    "                # Multiply by -1 since sklearn calculates *negative* MAE\n",
    "                xg_model = XGBRegressor(n_estimators=n, learning_rate= l_rate)\n",
    "                scores = cross_validate(xg_model,\n",
    "                                        X, y,\n",
    "                                        cv=5,\n",
    "                                        scoring=('neg_mean_absolute_error','neg_root_mean_squared_error'))\n",
    "                \n",
    "                t_end = perf_counter()\n",
    "                time.append(round(t_end-t_start,2))\n",
    "                n_estimators.append(n)\n",
    "                mae_scores.append(-1*scores.get('test_neg_mean_absolute_error').mean())\n",
    "                rmse_scores.append(-1*scores.get('test_neg_root_mean_squared_error').mean())\n",
    "                models.append(model)\n",
    "    \n",
    "    result = pd.DataFrame({'n_estimators':n_estimators,\n",
    "                           'MAE':mae_scores,\n",
    "                           'RMSE':rmse_scores,\n",
    "                           'time':time},index = models)\n",
    "    \n",
    "    final_result = pd.concat([BASELINE,result]) \n",
    "    final_result.index.name = 'Model'\n",
    "    return final_result"
   ]
  },
  {
   "cell_type": "code",
   "execution_count": 252,
   "id": "ad79d228",
   "metadata": {
    "hidden": true
   },
   "outputs": [],
   "source": [
    "import warnings\n",
    "#xgboost shows a warning that will be fixed in the next version\n",
    "warnings.filterwarnings(\"ignore\")"
   ]
  },
  {
   "cell_type": "code",
   "execution_count": 253,
   "id": "10ccb535",
   "metadata": {
    "hidden": true
   },
   "outputs": [
    {
     "data": {
      "text/html": [
       "<div>\n",
       "<style scoped>\n",
       "    .dataframe tbody tr th:only-of-type {\n",
       "        vertical-align: middle;\n",
       "    }\n",
       "\n",
       "    .dataframe tbody tr th {\n",
       "        vertical-align: top;\n",
       "    }\n",
       "\n",
       "    .dataframe thead th {\n",
       "        text-align: right;\n",
       "    }\n",
       "</style>\n",
       "<table border=\"1\" class=\"dataframe\">\n",
       "  <thead>\n",
       "    <tr style=\"text-align: right;\">\n",
       "      <th></th>\n",
       "      <th>n_estimators</th>\n",
       "      <th>MAE</th>\n",
       "      <th>RMSE</th>\n",
       "      <th>time</th>\n",
       "    </tr>\n",
       "    <tr>\n",
       "      <th>Model</th>\n",
       "      <th></th>\n",
       "      <th></th>\n",
       "      <th></th>\n",
       "      <th></th>\n",
       "    </tr>\n",
       "  </thead>\n",
       "  <tbody>\n",
       "    <tr>\n",
       "      <th>mean</th>\n",
       "      <td>N\\A</td>\n",
       "      <td>8.548127</td>\n",
       "      <td>15.370855</td>\n",
       "      <td>21.12</td>\n",
       "    </tr>\n",
       "    <tr>\n",
       "      <th>mean by state</th>\n",
       "      <td>N\\A</td>\n",
       "      <td>7.463449</td>\n",
       "      <td>14.296246</td>\n",
       "      <td>21.12</td>\n",
       "    </tr>\n",
       "    <tr>\n",
       "      <th>RandomForest</th>\n",
       "      <td>5</td>\n",
       "      <td>5.239001</td>\n",
       "      <td>10.190387</td>\n",
       "      <td>7.38</td>\n",
       "    </tr>\n",
       "    <tr>\n",
       "      <th>RandomForest</th>\n",
       "      <td>20</td>\n",
       "      <td>4.895589</td>\n",
       "      <td>9.540963</td>\n",
       "      <td>29.53</td>\n",
       "    </tr>\n",
       "    <tr>\n",
       "      <th>RandomForest</th>\n",
       "      <td>35</td>\n",
       "      <td>4.837274</td>\n",
       "      <td>9.454350</td>\n",
       "      <td>51.13</td>\n",
       "    </tr>\n",
       "    <tr>\n",
       "      <th>RandomForest</th>\n",
       "      <td>50</td>\n",
       "      <td>4.822223</td>\n",
       "      <td>9.428634</td>\n",
       "      <td>74.26</td>\n",
       "    </tr>\n",
       "    <tr>\n",
       "      <th>RandomForest</th>\n",
       "      <td>75</td>\n",
       "      <td>4.804260</td>\n",
       "      <td>9.388283</td>\n",
       "      <td>110.16</td>\n",
       "    </tr>\n",
       "    <tr>\n",
       "      <th>RandomForest</th>\n",
       "      <td>100</td>\n",
       "      <td>4.796170</td>\n",
       "      <td>9.378993</td>\n",
       "      <td>146.26</td>\n",
       "    </tr>\n",
       "    <tr>\n",
       "      <th>RandomForest</th>\n",
       "      <td>150</td>\n",
       "      <td>4.788802</td>\n",
       "      <td>9.364329</td>\n",
       "      <td>218.55</td>\n",
       "    </tr>\n",
       "    <tr>\n",
       "      <th>RandomForest</th>\n",
       "      <td>200</td>\n",
       "      <td>4.782433</td>\n",
       "      <td>9.355623</td>\n",
       "      <td>292.07</td>\n",
       "    </tr>\n",
       "    <tr>\n",
       "      <th>XGBoost</th>\n",
       "      <td>5</td>\n",
       "      <td>15.083505</td>\n",
       "      <td>19.892958</td>\n",
       "      <td>1.31</td>\n",
       "    </tr>\n",
       "    <tr>\n",
       "      <th>XGBoost</th>\n",
       "      <td>20</td>\n",
       "      <td>7.524051</td>\n",
       "      <td>12.193362</td>\n",
       "      <td>4.62</td>\n",
       "    </tr>\n",
       "    <tr>\n",
       "      <th>XGBoost</th>\n",
       "      <td>35</td>\n",
       "      <td>4.923834</td>\n",
       "      <td>9.720832</td>\n",
       "      <td>7.91</td>\n",
       "    </tr>\n",
       "    <tr>\n",
       "      <th>XGBoost</th>\n",
       "      <td>50</td>\n",
       "      <td>4.376552</td>\n",
       "      <td>9.122383</td>\n",
       "      <td>11.08</td>\n",
       "    </tr>\n",
       "    <tr>\n",
       "      <th>XGBoost</th>\n",
       "      <td>75</td>\n",
       "      <td>4.385038</td>\n",
       "      <td>8.983817</td>\n",
       "      <td>16.81</td>\n",
       "    </tr>\n",
       "    <tr>\n",
       "      <th>XGBoost</th>\n",
       "      <td>100</td>\n",
       "      <td>4.430300</td>\n",
       "      <td>8.984024</td>\n",
       "      <td>22.25</td>\n",
       "    </tr>\n",
       "    <tr>\n",
       "      <th>XGBoost</th>\n",
       "      <td>150</td>\n",
       "      <td>4.455295</td>\n",
       "      <td>9.007596</td>\n",
       "      <td>33.45</td>\n",
       "    </tr>\n",
       "    <tr>\n",
       "      <th>XGBoost</th>\n",
       "      <td>200</td>\n",
       "      <td>4.465401</td>\n",
       "      <td>9.037299</td>\n",
       "      <td>44.56</td>\n",
       "    </tr>\n",
       "  </tbody>\n",
       "</table>\n",
       "</div>"
      ],
      "text/plain": [
       "              n_estimators        MAE       RMSE    time\n",
       "Model                                                   \n",
       "mean                   N\\A   8.548127  15.370855   21.12\n",
       "mean by state          N\\A   7.463449  14.296246   21.12\n",
       "RandomForest             5   5.239001  10.190387    7.38\n",
       "RandomForest            20   4.895589   9.540963   29.53\n",
       "RandomForest            35   4.837274   9.454350   51.13\n",
       "RandomForest            50   4.822223   9.428634   74.26\n",
       "RandomForest            75   4.804260   9.388283  110.16\n",
       "RandomForest           100   4.796170   9.378993  146.26\n",
       "RandomForest           150   4.788802   9.364329  218.55\n",
       "RandomForest           200   4.782433   9.355623  292.07\n",
       "XGBoost                  5  15.083505  19.892958    1.31\n",
       "XGBoost                 20   7.524051  12.193362    4.62\n",
       "XGBoost                 35   4.923834   9.720832    7.91\n",
       "XGBoost                 50   4.376552   9.122383   11.08\n",
       "XGBoost                 75   4.385038   8.983817   16.81\n",
       "XGBoost                100   4.430300   8.984024   22.25\n",
       "XGBoost                150   4.455295   9.007596   33.45\n",
       "XGBoost                200   4.465401   9.037299   44.56"
      ]
     },
     "execution_count": 253,
     "metadata": {},
     "output_type": "execute_result"
    }
   ],
   "source": [
    "#lets avaliate \n",
    "\n",
    "X = final_freight_df[final_freight_df.columns[1:].tolist()]\n",
    "y = final_freight_df['freight_value']\n",
    "\n",
    "model_evaluation =  avaliate_models(X,y,n_list = [5,20,35,50,75,100,150,200])\n",
    "model_evaluation"
   ]
  },
  {
   "cell_type": "markdown",
   "id": "fea35459",
   "metadata": {
    "hidden": true
   },
   "source": [
    "We can see very good improvements from our baselines! \n",
    "\n",
    "Its clear that the best model is the XGBoos, with an n_estimators = 75. \n",
    "\n",
    "This Model shows:\n",
    "\n",
    "+ MAE = 4.38\n",
    "+ RMSE = 8.89\n",
    "\n",
    "Considering our Baselines metrics: MAE(8.54, 7.46) and RMSE (15.37, 14.29) we can say that our model was able to practically cut the error in half! \n"
   ]
  },
  {
   "cell_type": "markdown",
   "id": "2004a161",
   "metadata": {
    "heading_collapsed": true
   },
   "source": [
    "# Model Improvement and Dumping"
   ]
  },
  {
   "cell_type": "markdown",
   "id": "3af0ef12",
   "metadata": {
    "hidden": true
   },
   "source": [
    "Our Model showed good results. Even so, we can try optimizing the parameters to improve a little more.\n",
    "\n",
    "To do so we will perform two steps: \n",
    "\n",
    "+ We found an good n_estimator = 75, lets investigating if there is an n_estimator around 75 that is even better\n",
    "+ the learning_rate can dramatically change the results, let's iterate between some values to see if we can improve our metrics"
   ]
  },
  {
   "cell_type": "code",
   "execution_count": 242,
   "id": "40c0b939",
   "metadata": {
    "hidden": true
   },
   "outputs": [
    {
     "data": {
      "text/html": [
       "<div>\n",
       "<style scoped>\n",
       "    .dataframe tbody tr th:only-of-type {\n",
       "        vertical-align: middle;\n",
       "    }\n",
       "\n",
       "    .dataframe tbody tr th {\n",
       "        vertical-align: top;\n",
       "    }\n",
       "\n",
       "    .dataframe thead th {\n",
       "        text-align: right;\n",
       "    }\n",
       "</style>\n",
       "<table border=\"1\" class=\"dataframe\">\n",
       "  <thead>\n",
       "    <tr style=\"text-align: right;\">\n",
       "      <th></th>\n",
       "      <th>n_estimators</th>\n",
       "      <th>MAE</th>\n",
       "      <th>RMSE</th>\n",
       "      <th>time</th>\n",
       "    </tr>\n",
       "    <tr>\n",
       "      <th>Model</th>\n",
       "      <th></th>\n",
       "      <th></th>\n",
       "      <th></th>\n",
       "      <th></th>\n",
       "    </tr>\n",
       "  </thead>\n",
       "  <tbody>\n",
       "    <tr>\n",
       "      <th>mean</th>\n",
       "      <td>N\\A</td>\n",
       "      <td>8.548127</td>\n",
       "      <td>15.370855</td>\n",
       "      <td>21.12</td>\n",
       "    </tr>\n",
       "    <tr>\n",
       "      <th>mean by state</th>\n",
       "      <td>N\\A</td>\n",
       "      <td>7.463449</td>\n",
       "      <td>14.296246</td>\n",
       "      <td>21.12</td>\n",
       "    </tr>\n",
       "    <tr>\n",
       "      <th>XGBoost</th>\n",
       "      <td>50</td>\n",
       "      <td>4.376552</td>\n",
       "      <td>9.122383</td>\n",
       "      <td>10.95</td>\n",
       "    </tr>\n",
       "    <tr>\n",
       "      <th>XGBoost</th>\n",
       "      <td>60</td>\n",
       "      <td>4.347264</td>\n",
       "      <td>9.025423</td>\n",
       "      <td>13.27</td>\n",
       "    </tr>\n",
       "    <tr>\n",
       "      <th>XGBoost</th>\n",
       "      <td>70</td>\n",
       "      <td>4.369847</td>\n",
       "      <td>8.987300</td>\n",
       "      <td>15.71</td>\n",
       "    </tr>\n",
       "    <tr>\n",
       "      <th>XGBoost</th>\n",
       "      <td>75</td>\n",
       "      <td>4.385038</td>\n",
       "      <td>8.983817</td>\n",
       "      <td>16.73</td>\n",
       "    </tr>\n",
       "    <tr>\n",
       "      <th>XGBoost</th>\n",
       "      <td>80</td>\n",
       "      <td>4.398101</td>\n",
       "      <td>8.980434</td>\n",
       "      <td>17.87</td>\n",
       "    </tr>\n",
       "    <tr>\n",
       "      <th>XGBoost</th>\n",
       "      <td>90</td>\n",
       "      <td>4.417553</td>\n",
       "      <td>8.978506</td>\n",
       "      <td>20.57</td>\n",
       "    </tr>\n",
       "    <tr>\n",
       "      <th>XGBoost</th>\n",
       "      <td>100</td>\n",
       "      <td>4.430300</td>\n",
       "      <td>8.984024</td>\n",
       "      <td>22.51</td>\n",
       "    </tr>\n",
       "  </tbody>\n",
       "</table>\n",
       "</div>"
      ],
      "text/plain": [
       "              n_estimators       MAE       RMSE   time\n",
       "Model                                                 \n",
       "mean                   N\\A  8.548127  15.370855  21.12\n",
       "mean by state          N\\A  7.463449  14.296246  21.12\n",
       "XGBoost                 50  4.376552   9.122383  10.95\n",
       "XGBoost                 60  4.347264   9.025423  13.27\n",
       "XGBoost                 70  4.369847   8.987300  15.71\n",
       "XGBoost                 75  4.385038   8.983817  16.73\n",
       "XGBoost                 80  4.398101   8.980434  17.87\n",
       "XGBoost                 90  4.417553   8.978506  20.57\n",
       "XGBoost                100  4.430300   8.984024  22.51"
      ]
     },
     "execution_count": 242,
     "metadata": {},
     "output_type": "execute_result"
    }
   ],
   "source": [
    "#trying n_estimators around 75\n",
    "\n",
    "model_optimize =  avaliate_models(X,y, model_list = ['XGBoost'],n_list = [50,60,70,75,80,90,100])\n",
    "model_optimize"
   ]
  },
  {
   "cell_type": "markdown",
   "id": "6d94f5d6",
   "metadata": {
    "hidden": true
   },
   "source": [
    "Setting the n_estimators to 70 instead of 75 gives an improvement of 0.35% for MAE while the RMSE get only 0.04% worse. \n",
    "\n",
    "Therefore, we will use a n_estimators = 70"
   ]
  },
  {
   "cell_type": "code",
   "execution_count": 243,
   "id": "153bb1c4",
   "metadata": {
    "hidden": true
   },
   "outputs": [
    {
     "data": {
      "text/html": [
       "<div>\n",
       "<style scoped>\n",
       "    .dataframe tbody tr th:only-of-type {\n",
       "        vertical-align: middle;\n",
       "    }\n",
       "\n",
       "    .dataframe tbody tr th {\n",
       "        vertical-align: top;\n",
       "    }\n",
       "\n",
       "    .dataframe thead th {\n",
       "        text-align: right;\n",
       "    }\n",
       "</style>\n",
       "<table border=\"1\" class=\"dataframe\">\n",
       "  <thead>\n",
       "    <tr style=\"text-align: right;\">\n",
       "      <th></th>\n",
       "      <th>learning_rate</th>\n",
       "      <th>MAE</th>\n",
       "      <th>RMSE</th>\n",
       "    </tr>\n",
       "  </thead>\n",
       "  <tbody>\n",
       "    <tr>\n",
       "      <th>0</th>\n",
       "      <td>0.020</td>\n",
       "      <td>5.805020</td>\n",
       "      <td>10.560391</td>\n",
       "    </tr>\n",
       "    <tr>\n",
       "      <th>1</th>\n",
       "      <td>0.030</td>\n",
       "      <td>4.556646</td>\n",
       "      <td>9.350639</td>\n",
       "    </tr>\n",
       "    <tr>\n",
       "      <th>2</th>\n",
       "      <td>0.040</td>\n",
       "      <td>4.347364</td>\n",
       "      <td>9.063756</td>\n",
       "    </tr>\n",
       "    <tr>\n",
       "      <th>3</th>\n",
       "      <td>0.045</td>\n",
       "      <td>4.355609</td>\n",
       "      <td>9.022328</td>\n",
       "    </tr>\n",
       "    <tr>\n",
       "      <th>4</th>\n",
       "      <td>0.050</td>\n",
       "      <td>4.369847</td>\n",
       "      <td>8.987300</td>\n",
       "    </tr>\n",
       "    <tr>\n",
       "      <th>5</th>\n",
       "      <td>0.055</td>\n",
       "      <td>4.395581</td>\n",
       "      <td>8.985762</td>\n",
       "    </tr>\n",
       "    <tr>\n",
       "      <th>6</th>\n",
       "      <td>0.060</td>\n",
       "      <td>4.408262</td>\n",
       "      <td>8.970291</td>\n",
       "    </tr>\n",
       "    <tr>\n",
       "      <th>7</th>\n",
       "      <td>0.070</td>\n",
       "      <td>4.438693</td>\n",
       "      <td>9.019340</td>\n",
       "    </tr>\n",
       "    <tr>\n",
       "      <th>8</th>\n",
       "      <td>0.100</td>\n",
       "      <td>4.454635</td>\n",
       "      <td>9.022346</td>\n",
       "    </tr>\n",
       "  </tbody>\n",
       "</table>\n",
       "</div>"
      ],
      "text/plain": [
       "   learning_rate       MAE       RMSE\n",
       "0          0.020  5.805020  10.560391\n",
       "1          0.030  4.556646   9.350639\n",
       "2          0.040  4.347364   9.063756\n",
       "3          0.045  4.355609   9.022328\n",
       "4          0.050  4.369847   8.987300\n",
       "5          0.055  4.395581   8.985762\n",
       "6          0.060  4.408262   8.970291\n",
       "7          0.070  4.438693   9.019340\n",
       "8          0.100  4.454635   9.022346"
      ]
     },
     "execution_count": 243,
     "metadata": {},
     "output_type": "execute_result"
    }
   ],
   "source": [
    "#Now, let's see if we can improve our model even more, changing the learning rate\n",
    "\n",
    "learning_rate_list = [0.02,0.03,0.04,0.045,0.05,0.055,0.06,0.07,0.1]\n",
    "mae, rmse = [[] for i in range(2)]\n",
    "\n",
    "for rate in learning_rate_list:\n",
    "    model_improvement =  avaliate_models(X,y,n_list = [70],model_list = ['XGBoost'],l_rate = rate)\n",
    "    mae.append(model_improvement.MAE['XGBoost'])\n",
    "    rmse.append(model_improvement.RMSE['XGBoost']) \n",
    "    \n",
    "model_improvement_df = pd.DataFrame({'learning_rate':learning_rate_list, 'MAE':mae,'RMSE':rmse})\n",
    "model_improvement_df"
   ]
  },
  {
   "cell_type": "markdown",
   "id": "95ea51ca",
   "metadata": {
    "hidden": true
   },
   "source": [
    "Apparently, 0.05 was a good learning rate. We will keep it."
   ]
  },
  {
   "cell_type": "code",
   "execution_count": 246,
   "id": "859a80e0",
   "metadata": {
    "hidden": true
   },
   "outputs": [],
   "source": [
    "# Fit the model\n",
    "model = XGBRegressor(n_estimators=70, learning_rate= 0.05)\n",
    "model.fit(X, y)\n",
    "\n",
    "# save the model to disk\n",
    "filename = 'freight_estimate_model.sav'\n",
    "pickle.dump(model, open(filename, 'wb'))"
   ]
  }
 ],
 "metadata": {
  "kernelspec": {
   "display_name": "Python 3 (ipykernel)",
   "language": "python",
   "name": "python3"
  },
  "language_info": {
   "codemirror_mode": {
    "name": "ipython",
    "version": 3
   },
   "file_extension": ".py",
   "mimetype": "text/x-python",
   "name": "python",
   "nbconvert_exporter": "python",
   "pygments_lexer": "ipython3",
   "version": "3.9.7"
  },
  "varInspector": {
   "cols": {
    "lenName": 16,
    "lenType": 16,
    "lenVar": 40
   },
   "kernels_config": {
    "python": {
     "delete_cmd_postfix": "",
     "delete_cmd_prefix": "del ",
     "library": "var_list.py",
     "varRefreshCmd": "print(var_dic_list())"
    },
    "r": {
     "delete_cmd_postfix": ") ",
     "delete_cmd_prefix": "rm(",
     "library": "var_list.r",
     "varRefreshCmd": "cat(var_dic_list()) "
    }
   },
   "types_to_exclude": [
    "module",
    "function",
    "builtin_function_or_method",
    "instance",
    "_Feature"
   ],
   "window_display": false
  }
 },
 "nbformat": 4,
 "nbformat_minor": 5
}
