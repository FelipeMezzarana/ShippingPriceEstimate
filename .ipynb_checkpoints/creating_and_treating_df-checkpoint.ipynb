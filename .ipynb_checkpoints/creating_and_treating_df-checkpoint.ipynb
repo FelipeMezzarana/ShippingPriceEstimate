{
 "cells": [
  {
   "cell_type": "markdown",
   "id": "b37a1092",
   "metadata": {
    "heading_collapsed": true
   },
   "source": [
    "# Libs"
   ]
  },
  {
   "cell_type": "code",
   "execution_count": 1,
   "id": "40601dc9",
   "metadata": {
    "hidden": true
   },
   "outputs": [],
   "source": [
    "import pandas as pd\n",
    "import math as mt\n",
    "import numpy as np\n",
    "import re\n",
    "import os\n",
    "import matplotlib.pyplot as plt\n",
    "import seaborn as sns\n",
    "from pysankey import sankey\n",
    "sns.set()"
   ]
  },
  {
   "cell_type": "markdown",
   "id": "687e5fc8",
   "metadata": {
    "heading_collapsed": true
   },
   "source": [
    "# Selecting and Merging"
   ]
  },
  {
   "cell_type": "markdown",
   "id": "3ae31c9f",
   "metadata": {
    "hidden": true
   },
   "source": [
    "We will work with a database consisting in 9 tables. So our first job will be to select and merge the relevant information. Of course, keeping in mind our goal: to estimate the freight price of the order.\n",
    "\n",
    "***Let's start taking a quick look at our data***"
   ]
  },
  {
   "cell_type": "code",
   "execution_count": 2,
   "id": "9ddb6a92",
   "metadata": {
    "hidden": true
   },
   "outputs": [
    {
     "name": "stdout",
     "output_type": "stream",
     "text": [
      "\n",
      "file name: olist_customers_dataset.csv \n",
      "file shape: (99441, 5)\n"
     ]
    },
    {
     "data": {
      "text/html": [
       "<div>\n",
       "<style scoped>\n",
       "    .dataframe tbody tr th:only-of-type {\n",
       "        vertical-align: middle;\n",
       "    }\n",
       "\n",
       "    .dataframe tbody tr th {\n",
       "        vertical-align: top;\n",
       "    }\n",
       "\n",
       "    .dataframe thead th {\n",
       "        text-align: right;\n",
       "    }\n",
       "</style>\n",
       "<table border=\"1\" class=\"dataframe\">\n",
       "  <thead>\n",
       "    <tr style=\"text-align: right;\">\n",
       "      <th></th>\n",
       "      <th>customer_id</th>\n",
       "      <th>customer_unique_id</th>\n",
       "      <th>customer_zip_code_prefix</th>\n",
       "      <th>customer_city</th>\n",
       "      <th>customer_state</th>\n",
       "    </tr>\n",
       "  </thead>\n",
       "  <tbody>\n",
       "    <tr>\n",
       "      <th>83098</th>\n",
       "      <td>f1118c255591c7de6ef583350d10781a</td>\n",
       "      <td>937ba8d1f2e92c9f64fd44e778bcaa3f</td>\n",
       "      <td>89257</td>\n",
       "      <td>jaragua do sul</td>\n",
       "      <td>SC</td>\n",
       "    </tr>\n",
       "    <tr>\n",
       "      <th>30701</th>\n",
       "      <td>d78d435ba819b961c4b926ddcb973069</td>\n",
       "      <td>107a95f27c0e75b8205a29fa85e8112e</td>\n",
       "      <td>6793</td>\n",
       "      <td>taboao da serra</td>\n",
       "      <td>SP</td>\n",
       "    </tr>\n",
       "  </tbody>\n",
       "</table>\n",
       "</div>"
      ],
      "text/plain": [
       "                            customer_id                customer_unique_id  \\\n",
       "83098  f1118c255591c7de6ef583350d10781a  937ba8d1f2e92c9f64fd44e778bcaa3f   \n",
       "30701  d78d435ba819b961c4b926ddcb973069  107a95f27c0e75b8205a29fa85e8112e   \n",
       "\n",
       "       customer_zip_code_prefix    customer_city customer_state  \n",
       "83098                     89257   jaragua do sul             SC  \n",
       "30701                      6793  taboao da serra             SP  "
      ]
     },
     "metadata": {},
     "output_type": "display_data"
    },
    {
     "name": "stdout",
     "output_type": "stream",
     "text": [
      "\n",
      "file name: olist_geolocation_dataset.csv \n",
      "file shape: (1000163, 5)\n"
     ]
    },
    {
     "data": {
      "text/html": [
       "<div>\n",
       "<style scoped>\n",
       "    .dataframe tbody tr th:only-of-type {\n",
       "        vertical-align: middle;\n",
       "    }\n",
       "\n",
       "    .dataframe tbody tr th {\n",
       "        vertical-align: top;\n",
       "    }\n",
       "\n",
       "    .dataframe thead th {\n",
       "        text-align: right;\n",
       "    }\n",
       "</style>\n",
       "<table border=\"1\" class=\"dataframe\">\n",
       "  <thead>\n",
       "    <tr style=\"text-align: right;\">\n",
       "      <th></th>\n",
       "      <th>geolocation_zip_code_prefix</th>\n",
       "      <th>geolocation_lat</th>\n",
       "      <th>geolocation_lng</th>\n",
       "      <th>geolocation_city</th>\n",
       "      <th>geolocation_state</th>\n",
       "    </tr>\n",
       "  </thead>\n",
       "  <tbody>\n",
       "    <tr>\n",
       "      <th>46367</th>\n",
       "      <td>3134</td>\n",
       "      <td>-23.583059</td>\n",
       "      <td>-46.585045</td>\n",
       "      <td>sao paulo</td>\n",
       "      <td>SP</td>\n",
       "    </tr>\n",
       "    <tr>\n",
       "      <th>750552</th>\n",
       "      <td>63600</td>\n",
       "      <td>-5.588168</td>\n",
       "      <td>-39.376450</td>\n",
       "      <td>senador pompeu</td>\n",
       "      <td>CE</td>\n",
       "    </tr>\n",
       "  </tbody>\n",
       "</table>\n",
       "</div>"
      ],
      "text/plain": [
       "        geolocation_zip_code_prefix  geolocation_lat  geolocation_lng  \\\n",
       "46367                          3134       -23.583059       -46.585045   \n",
       "750552                        63600        -5.588168       -39.376450   \n",
       "\n",
       "       geolocation_city geolocation_state  \n",
       "46367         sao paulo                SP  \n",
       "750552   senador pompeu                CE  "
      ]
     },
     "metadata": {},
     "output_type": "display_data"
    },
    {
     "name": "stdout",
     "output_type": "stream",
     "text": [
      "\n",
      "file name: olist_orders_dataset.csv \n",
      "file shape: (99441, 8)\n"
     ]
    },
    {
     "data": {
      "text/html": [
       "<div>\n",
       "<style scoped>\n",
       "    .dataframe tbody tr th:only-of-type {\n",
       "        vertical-align: middle;\n",
       "    }\n",
       "\n",
       "    .dataframe tbody tr th {\n",
       "        vertical-align: top;\n",
       "    }\n",
       "\n",
       "    .dataframe thead th {\n",
       "        text-align: right;\n",
       "    }\n",
       "</style>\n",
       "<table border=\"1\" class=\"dataframe\">\n",
       "  <thead>\n",
       "    <tr style=\"text-align: right;\">\n",
       "      <th></th>\n",
       "      <th>order_id</th>\n",
       "      <th>customer_id</th>\n",
       "      <th>order_status</th>\n",
       "      <th>order_purchase_timestamp</th>\n",
       "      <th>order_approved_at</th>\n",
       "      <th>order_delivered_carrier_date</th>\n",
       "      <th>order_delivered_customer_date</th>\n",
       "      <th>order_estimated_delivery_date</th>\n",
       "    </tr>\n",
       "  </thead>\n",
       "  <tbody>\n",
       "    <tr>\n",
       "      <th>56379</th>\n",
       "      <td>e9b3258a406a55c86715a28bf26c98a0</td>\n",
       "      <td>bf5194ba2c7eaa75eee856b4b61114c0</td>\n",
       "      <td>delivered</td>\n",
       "      <td>2018-03-27 14:16:24</td>\n",
       "      <td>2018-03-27 14:30:20</td>\n",
       "      <td>2018-03-28 23:28:55</td>\n",
       "      <td>2018-04-03 18:31:36</td>\n",
       "      <td>2018-04-09 00:00:00</td>\n",
       "    </tr>\n",
       "    <tr>\n",
       "      <th>77754</th>\n",
       "      <td>e742713350aa1d4a7a0c80ed2f3ad4d5</td>\n",
       "      <td>7382178892f1ea46099be9e80c5f3736</td>\n",
       "      <td>delivered</td>\n",
       "      <td>2018-03-12 15:05:23</td>\n",
       "      <td>2018-03-12 15:15:37</td>\n",
       "      <td>2018-03-13 18:38:38</td>\n",
       "      <td>2018-03-16 21:51:50</td>\n",
       "      <td>2018-03-22 00:00:00</td>\n",
       "    </tr>\n",
       "  </tbody>\n",
       "</table>\n",
       "</div>"
      ],
      "text/plain": [
       "                               order_id                       customer_id  \\\n",
       "56379  e9b3258a406a55c86715a28bf26c98a0  bf5194ba2c7eaa75eee856b4b61114c0   \n",
       "77754  e742713350aa1d4a7a0c80ed2f3ad4d5  7382178892f1ea46099be9e80c5f3736   \n",
       "\n",
       "      order_status order_purchase_timestamp    order_approved_at  \\\n",
       "56379    delivered      2018-03-27 14:16:24  2018-03-27 14:30:20   \n",
       "77754    delivered      2018-03-12 15:05:23  2018-03-12 15:15:37   \n",
       "\n",
       "      order_delivered_carrier_date order_delivered_customer_date  \\\n",
       "56379          2018-03-28 23:28:55           2018-04-03 18:31:36   \n",
       "77754          2018-03-13 18:38:38           2018-03-16 21:51:50   \n",
       "\n",
       "      order_estimated_delivery_date  \n",
       "56379           2018-04-09 00:00:00  \n",
       "77754           2018-03-22 00:00:00  "
      ]
     },
     "metadata": {},
     "output_type": "display_data"
    },
    {
     "name": "stdout",
     "output_type": "stream",
     "text": [
      "\n",
      "file name: olist_order_items_dataset.csv \n",
      "file shape: (112650, 7)\n"
     ]
    },
    {
     "data": {
      "text/html": [
       "<div>\n",
       "<style scoped>\n",
       "    .dataframe tbody tr th:only-of-type {\n",
       "        vertical-align: middle;\n",
       "    }\n",
       "\n",
       "    .dataframe tbody tr th {\n",
       "        vertical-align: top;\n",
       "    }\n",
       "\n",
       "    .dataframe thead th {\n",
       "        text-align: right;\n",
       "    }\n",
       "</style>\n",
       "<table border=\"1\" class=\"dataframe\">\n",
       "  <thead>\n",
       "    <tr style=\"text-align: right;\">\n",
       "      <th></th>\n",
       "      <th>order_id</th>\n",
       "      <th>order_item_id</th>\n",
       "      <th>product_id</th>\n",
       "      <th>seller_id</th>\n",
       "      <th>shipping_limit_date</th>\n",
       "      <th>price</th>\n",
       "      <th>freight_value</th>\n",
       "    </tr>\n",
       "  </thead>\n",
       "  <tbody>\n",
       "    <tr>\n",
       "      <th>19556</th>\n",
       "      <td>2ce48a416ec4c72a129f73b550eecdbe</td>\n",
       "      <td>1</td>\n",
       "      <td>a5e74dc2d01e8b9df1590c7160358273</td>\n",
       "      <td>59b22a78efb79a4797979612b885db36</td>\n",
       "      <td>2018-06-15 02:54:58</td>\n",
       "      <td>119.0</td>\n",
       "      <td>50.90</td>\n",
       "    </tr>\n",
       "    <tr>\n",
       "      <th>58225</th>\n",
       "      <td>848b0561d4bc26f57b288a5004f38683</td>\n",
       "      <td>4</td>\n",
       "      <td>1b7ce992a80ac036dd9ab73d08289712</td>\n",
       "      <td>582d4f8675b945722eda7c0cb61ba4c7</td>\n",
       "      <td>2017-12-01 19:19:02</td>\n",
       "      <td>25.5</td>\n",
       "      <td>2.79</td>\n",
       "    </tr>\n",
       "  </tbody>\n",
       "</table>\n",
       "</div>"
      ],
      "text/plain": [
       "                               order_id  order_item_id  \\\n",
       "19556  2ce48a416ec4c72a129f73b550eecdbe              1   \n",
       "58225  848b0561d4bc26f57b288a5004f38683              4   \n",
       "\n",
       "                             product_id                         seller_id  \\\n",
       "19556  a5e74dc2d01e8b9df1590c7160358273  59b22a78efb79a4797979612b885db36   \n",
       "58225  1b7ce992a80ac036dd9ab73d08289712  582d4f8675b945722eda7c0cb61ba4c7   \n",
       "\n",
       "       shipping_limit_date  price  freight_value  \n",
       "19556  2018-06-15 02:54:58  119.0          50.90  \n",
       "58225  2017-12-01 19:19:02   25.5           2.79  "
      ]
     },
     "metadata": {},
     "output_type": "display_data"
    },
    {
     "name": "stdout",
     "output_type": "stream",
     "text": [
      "\n",
      "file name: olist_order_payments_dataset.csv \n",
      "file shape: (103886, 5)\n"
     ]
    },
    {
     "data": {
      "text/html": [
       "<div>\n",
       "<style scoped>\n",
       "    .dataframe tbody tr th:only-of-type {\n",
       "        vertical-align: middle;\n",
       "    }\n",
       "\n",
       "    .dataframe tbody tr th {\n",
       "        vertical-align: top;\n",
       "    }\n",
       "\n",
       "    .dataframe thead th {\n",
       "        text-align: right;\n",
       "    }\n",
       "</style>\n",
       "<table border=\"1\" class=\"dataframe\">\n",
       "  <thead>\n",
       "    <tr style=\"text-align: right;\">\n",
       "      <th></th>\n",
       "      <th>order_id</th>\n",
       "      <th>payment_sequential</th>\n",
       "      <th>payment_type</th>\n",
       "      <th>payment_installments</th>\n",
       "      <th>payment_value</th>\n",
       "    </tr>\n",
       "  </thead>\n",
       "  <tbody>\n",
       "    <tr>\n",
       "      <th>48859</th>\n",
       "      <td>3e1588105bcf5ae8155dfd11d81db733</td>\n",
       "      <td>1</td>\n",
       "      <td>credit_card</td>\n",
       "      <td>3</td>\n",
       "      <td>104.79</td>\n",
       "    </tr>\n",
       "    <tr>\n",
       "      <th>32195</th>\n",
       "      <td>265bb549f8bbcaeaa66023404ec02db5</td>\n",
       "      <td>1</td>\n",
       "      <td>credit_card</td>\n",
       "      <td>3</td>\n",
       "      <td>78.21</td>\n",
       "    </tr>\n",
       "  </tbody>\n",
       "</table>\n",
       "</div>"
      ],
      "text/plain": [
       "                               order_id  payment_sequential payment_type  \\\n",
       "48859  3e1588105bcf5ae8155dfd11d81db733                   1  credit_card   \n",
       "32195  265bb549f8bbcaeaa66023404ec02db5                   1  credit_card   \n",
       "\n",
       "       payment_installments  payment_value  \n",
       "48859                     3         104.79  \n",
       "32195                     3          78.21  "
      ]
     },
     "metadata": {},
     "output_type": "display_data"
    },
    {
     "name": "stdout",
     "output_type": "stream",
     "text": [
      "\n",
      "file name: olist_order_reviews_dataset.csv \n",
      "file shape: (99224, 7)\n"
     ]
    },
    {
     "data": {
      "text/html": [
       "<div>\n",
       "<style scoped>\n",
       "    .dataframe tbody tr th:only-of-type {\n",
       "        vertical-align: middle;\n",
       "    }\n",
       "\n",
       "    .dataframe tbody tr th {\n",
       "        vertical-align: top;\n",
       "    }\n",
       "\n",
       "    .dataframe thead th {\n",
       "        text-align: right;\n",
       "    }\n",
       "</style>\n",
       "<table border=\"1\" class=\"dataframe\">\n",
       "  <thead>\n",
       "    <tr style=\"text-align: right;\">\n",
       "      <th></th>\n",
       "      <th>review_id</th>\n",
       "      <th>order_id</th>\n",
       "      <th>review_score</th>\n",
       "      <th>review_comment_title</th>\n",
       "      <th>review_comment_message</th>\n",
       "      <th>review_creation_date</th>\n",
       "      <th>review_answer_timestamp</th>\n",
       "    </tr>\n",
       "  </thead>\n",
       "  <tbody>\n",
       "    <tr>\n",
       "      <th>98649</th>\n",
       "      <td>75409037b6d31b5c0a20df9980bf108b</td>\n",
       "      <td>947e9c6bfd83a06953c420ef92d3da6e</td>\n",
       "      <td>4</td>\n",
       "      <td>recomendo sim</td>\n",
       "      <td>o produto apresentou defeito, mas assistência ...</td>\n",
       "      <td>2018-08-15 00:00:00</td>\n",
       "      <td>2018-08-16 15:05:25</td>\n",
       "    </tr>\n",
       "    <tr>\n",
       "      <th>61643</th>\n",
       "      <td>591cac9aba51d358fc6c7bc7ca1b917f</td>\n",
       "      <td>d02810c489d42d7e54dd19b8d7c9d91a</td>\n",
       "      <td>5</td>\n",
       "      <td>NaN</td>\n",
       "      <td>Ótimo produto..bem como descrito\\r\\nChegou ant...</td>\n",
       "      <td>2018-03-24 00:00:00</td>\n",
       "      <td>2018-03-26 23:09:55</td>\n",
       "    </tr>\n",
       "  </tbody>\n",
       "</table>\n",
       "</div>"
      ],
      "text/plain": [
       "                              review_id                          order_id  \\\n",
       "98649  75409037b6d31b5c0a20df9980bf108b  947e9c6bfd83a06953c420ef92d3da6e   \n",
       "61643  591cac9aba51d358fc6c7bc7ca1b917f  d02810c489d42d7e54dd19b8d7c9d91a   \n",
       "\n",
       "       review_score review_comment_title  \\\n",
       "98649             4        recomendo sim   \n",
       "61643             5                  NaN   \n",
       "\n",
       "                                  review_comment_message review_creation_date  \\\n",
       "98649  o produto apresentou defeito, mas assistência ...  2018-08-15 00:00:00   \n",
       "61643  Ótimo produto..bem como descrito\\r\\nChegou ant...  2018-03-24 00:00:00   \n",
       "\n",
       "      review_answer_timestamp  \n",
       "98649     2018-08-16 15:05:25  \n",
       "61643     2018-03-26 23:09:55  "
      ]
     },
     "metadata": {},
     "output_type": "display_data"
    },
    {
     "name": "stdout",
     "output_type": "stream",
     "text": [
      "\n",
      "file name: olist_products_dataset.csv \n",
      "file shape: (32951, 9)\n"
     ]
    },
    {
     "data": {
      "text/html": [
       "<div>\n",
       "<style scoped>\n",
       "    .dataframe tbody tr th:only-of-type {\n",
       "        vertical-align: middle;\n",
       "    }\n",
       "\n",
       "    .dataframe tbody tr th {\n",
       "        vertical-align: top;\n",
       "    }\n",
       "\n",
       "    .dataframe thead th {\n",
       "        text-align: right;\n",
       "    }\n",
       "</style>\n",
       "<table border=\"1\" class=\"dataframe\">\n",
       "  <thead>\n",
       "    <tr style=\"text-align: right;\">\n",
       "      <th></th>\n",
       "      <th>product_id</th>\n",
       "      <th>product_category_name</th>\n",
       "      <th>product_name_lenght</th>\n",
       "      <th>product_description_lenght</th>\n",
       "      <th>product_photos_qty</th>\n",
       "      <th>product_weight_g</th>\n",
       "      <th>product_length_cm</th>\n",
       "      <th>product_height_cm</th>\n",
       "      <th>product_width_cm</th>\n",
       "    </tr>\n",
       "  </thead>\n",
       "  <tbody>\n",
       "    <tr>\n",
       "      <th>26617</th>\n",
       "      <td>2ed3c385383d1c76dbed3bce88e5b468</td>\n",
       "      <td>brinquedos</td>\n",
       "      <td>32.0</td>\n",
       "      <td>577.0</td>\n",
       "      <td>1.0</td>\n",
       "      <td>1550.0</td>\n",
       "      <td>64.0</td>\n",
       "      <td>18.0</td>\n",
       "      <td>33.0</td>\n",
       "    </tr>\n",
       "    <tr>\n",
       "      <th>19939</th>\n",
       "      <td>88e2fc6c65d64b3edbf2cade16ea82d9</td>\n",
       "      <td>utilidades_domesticas</td>\n",
       "      <td>56.0</td>\n",
       "      <td>595.0</td>\n",
       "      <td>1.0</td>\n",
       "      <td>6850.0</td>\n",
       "      <td>30.0</td>\n",
       "      <td>30.0</td>\n",
       "      <td>30.0</td>\n",
       "    </tr>\n",
       "  </tbody>\n",
       "</table>\n",
       "</div>"
      ],
      "text/plain": [
       "                             product_id  product_category_name  \\\n",
       "26617  2ed3c385383d1c76dbed3bce88e5b468             brinquedos   \n",
       "19939  88e2fc6c65d64b3edbf2cade16ea82d9  utilidades_domesticas   \n",
       "\n",
       "       product_name_lenght  product_description_lenght  product_photos_qty  \\\n",
       "26617                 32.0                       577.0                 1.0   \n",
       "19939                 56.0                       595.0                 1.0   \n",
       "\n",
       "       product_weight_g  product_length_cm  product_height_cm  \\\n",
       "26617            1550.0               64.0               18.0   \n",
       "19939            6850.0               30.0               30.0   \n",
       "\n",
       "       product_width_cm  \n",
       "26617              33.0  \n",
       "19939              30.0  "
      ]
     },
     "metadata": {},
     "output_type": "display_data"
    },
    {
     "name": "stdout",
     "output_type": "stream",
     "text": [
      "\n",
      "file name: olist_sellers_dataset.csv \n",
      "file shape: (3095, 4)\n"
     ]
    },
    {
     "data": {
      "text/html": [
       "<div>\n",
       "<style scoped>\n",
       "    .dataframe tbody tr th:only-of-type {\n",
       "        vertical-align: middle;\n",
       "    }\n",
       "\n",
       "    .dataframe tbody tr th {\n",
       "        vertical-align: top;\n",
       "    }\n",
       "\n",
       "    .dataframe thead th {\n",
       "        text-align: right;\n",
       "    }\n",
       "</style>\n",
       "<table border=\"1\" class=\"dataframe\">\n",
       "  <thead>\n",
       "    <tr style=\"text-align: right;\">\n",
       "      <th></th>\n",
       "      <th>seller_id</th>\n",
       "      <th>seller_zip_code_prefix</th>\n",
       "      <th>seller_city</th>\n",
       "      <th>seller_state</th>\n",
       "    </tr>\n",
       "  </thead>\n",
       "  <tbody>\n",
       "    <tr>\n",
       "      <th>261</th>\n",
       "      <td>f9903dd0f812c7e771fcad47b6fff231</td>\n",
       "      <td>89070</td>\n",
       "      <td>blumenau</td>\n",
       "      <td>SC</td>\n",
       "    </tr>\n",
       "    <tr>\n",
       "      <th>1765</th>\n",
       "      <td>8e2b3afb420011ef0c88c9d5f11ea526</td>\n",
       "      <td>13060</td>\n",
       "      <td>campinas</td>\n",
       "      <td>SP</td>\n",
       "    </tr>\n",
       "  </tbody>\n",
       "</table>\n",
       "</div>"
      ],
      "text/plain": [
       "                             seller_id  seller_zip_code_prefix seller_city  \\\n",
       "261   f9903dd0f812c7e771fcad47b6fff231                   89070    blumenau   \n",
       "1765  8e2b3afb420011ef0c88c9d5f11ea526                   13060    campinas   \n",
       "\n",
       "     seller_state  \n",
       "261            SC  \n",
       "1765           SP  "
      ]
     },
     "metadata": {},
     "output_type": "display_data"
    }
   ],
   "source": [
    "# Geting file names\n",
    "all_files = os.listdir('olist_database_files/')\n",
    "olist_files = [i for i in all_files if re.match('olist_',i)] #all olist csv files starts with 'olist_'\n",
    "\n",
    "# Printing dfs key information\n",
    "for file in olist_files:\n",
    "    provisory_df = pd.read_csv('olist_database_files/' + file)\n",
    "    print(f'\\nfile name: {file}',\n",
    "          f'\\nfile shape: {provisory_df.shape}')\n",
    "    display(provisory_df.sample(2))"
   ]
  },
  {
   "cell_type": "markdown",
   "id": "bbe0519f",
   "metadata": {
    "hidden": true
   },
   "source": [
    "***Now, it's time to choose what features is worth keeping***\n",
    "\n",
    "\n",
    "***First of all, we note that the freight price is addressed in the table \"olist_order_items_dataset\" and the price is given by item, not by order. We also notice that some tables are useless for our purpose, especifically the tables \"olist_order_reviews_dataset\" and olist_order_payments_dataset have no relevant infos. All the others Tables have informations that may be useful. We will list here the columns and keys that worth retrieving from each table:***\n",
    "\n",
    "+ olist_customers_dataset -> Keys:['customer_id','customer_zip_code_prefix'] || Data: ['customer_state'] \n",
    "+ olist_geolocation_dataset -> Keys:['geolocation_zip_code_prefix'] || Data: ['geolocation_lat','geolocation_lng']\n",
    "+ olist_orders_dataset -> Keys:['order_id','customer_id'] || Data: ['order_status']           \n",
    "+ olist_order_items_dataset -> Keys:['order_id','product_id','seller_id'] || Data: ['price','freight_value']\n",
    "+ olist_products_dataset -> Keys:['product_id'] || Data: ['product_weight_g','product_length_cm','product_height_cm','product_width_cm']\n",
    "+ olist_sellers_dataset -> Keys:['seller_id'] || Data: ['seller_zip_code_prefix','seller_state']\n",
    "\n",
    "\n",
    "***Now that we defined what data we want to keep, we just need to load and merge tables to create our raw DataFrame***"
   ]
  },
  {
   "cell_type": "code",
   "execution_count": 3,
   "id": "a2af4904",
   "metadata": {
    "hidden": true
   },
   "outputs": [
    {
     "name": "stdout",
     "output_type": "stream",
     "text": [
      "Shape: (112650, 6)\n"
     ]
    },
    {
     "data": {
      "text/html": [
       "<div>\n",
       "<style scoped>\n",
       "    .dataframe tbody tr th:only-of-type {\n",
       "        vertical-align: middle;\n",
       "    }\n",
       "\n",
       "    .dataframe tbody tr th {\n",
       "        vertical-align: top;\n",
       "    }\n",
       "\n",
       "    .dataframe thead th {\n",
       "        text-align: right;\n",
       "    }\n",
       "</style>\n",
       "<table border=\"1\" class=\"dataframe\">\n",
       "  <thead>\n",
       "    <tr style=\"text-align: right;\">\n",
       "      <th></th>\n",
       "      <th>order_id</th>\n",
       "      <th>product_id</th>\n",
       "      <th>seller_id</th>\n",
       "      <th>shipping_limit_date</th>\n",
       "      <th>price</th>\n",
       "      <th>freight_value</th>\n",
       "    </tr>\n",
       "  </thead>\n",
       "  <tbody>\n",
       "    <tr>\n",
       "      <th>0</th>\n",
       "      <td>00010242fe8c5a6d1ba2dd792cb16214</td>\n",
       "      <td>4244733e06e7ecb4970a6e2683c13e61</td>\n",
       "      <td>48436dade18ac8b2bce089ec2a041202</td>\n",
       "      <td>2017-09-19 09:45:35</td>\n",
       "      <td>58.9</td>\n",
       "      <td>13.29</td>\n",
       "    </tr>\n",
       "  </tbody>\n",
       "</table>\n",
       "</div>"
      ],
      "text/plain": [
       "                           order_id                        product_id  \\\n",
       "0  00010242fe8c5a6d1ba2dd792cb16214  4244733e06e7ecb4970a6e2683c13e61   \n",
       "\n",
       "                          seller_id  shipping_limit_date  price  freight_value  \n",
       "0  48436dade18ac8b2bce089ec2a041202  2017-09-19 09:45:35   58.9          13.29  "
      ]
     },
     "execution_count": 3,
     "metadata": {},
     "output_type": "execute_result"
    }
   ],
   "source": [
    "# lets start with our main table:\n",
    "\n",
    "olist_order_items_dataset = pd.read_csv('olist_database_files/olist_order_items_dataset.csv')\n",
    "olist_order_items_dataset.drop('order_item_id',axis =1,inplace = True)\n",
    "\n",
    "print(f'Shape: {olist_order_items_dataset.shape}')\n",
    "olist_order_items_dataset.head(1)"
   ]
  },
  {
   "cell_type": "code",
   "execution_count": 4,
   "id": "c4ae9173",
   "metadata": {
    "hidden": true
   },
   "outputs": [
    {
     "name": "stdout",
     "output_type": "stream",
     "text": [
      "Shape: (112650, 8)\n"
     ]
    },
    {
     "data": {
      "text/html": [
       "<div>\n",
       "<style scoped>\n",
       "    .dataframe tbody tr th:only-of-type {\n",
       "        vertical-align: middle;\n",
       "    }\n",
       "\n",
       "    .dataframe tbody tr th {\n",
       "        vertical-align: top;\n",
       "    }\n",
       "\n",
       "    .dataframe thead th {\n",
       "        text-align: right;\n",
       "    }\n",
       "</style>\n",
       "<table border=\"1\" class=\"dataframe\">\n",
       "  <thead>\n",
       "    <tr style=\"text-align: right;\">\n",
       "      <th></th>\n",
       "      <th>order_id</th>\n",
       "      <th>product_id</th>\n",
       "      <th>seller_id</th>\n",
       "      <th>shipping_limit_date</th>\n",
       "      <th>price</th>\n",
       "      <th>freight_value</th>\n",
       "      <th>customer_id</th>\n",
       "      <th>order_status</th>\n",
       "    </tr>\n",
       "  </thead>\n",
       "  <tbody>\n",
       "    <tr>\n",
       "      <th>0</th>\n",
       "      <td>00010242fe8c5a6d1ba2dd792cb16214</td>\n",
       "      <td>4244733e06e7ecb4970a6e2683c13e61</td>\n",
       "      <td>48436dade18ac8b2bce089ec2a041202</td>\n",
       "      <td>2017-09-19 09:45:35</td>\n",
       "      <td>58.9</td>\n",
       "      <td>13.29</td>\n",
       "      <td>3ce436f183e68e07877b285a838db11a</td>\n",
       "      <td>delivered</td>\n",
       "    </tr>\n",
       "  </tbody>\n",
       "</table>\n",
       "</div>"
      ],
      "text/plain": [
       "                           order_id                        product_id  \\\n",
       "0  00010242fe8c5a6d1ba2dd792cb16214  4244733e06e7ecb4970a6e2683c13e61   \n",
       "\n",
       "                          seller_id  shipping_limit_date  price  \\\n",
       "0  48436dade18ac8b2bce089ec2a041202  2017-09-19 09:45:35   58.9   \n",
       "\n",
       "   freight_value                       customer_id order_status  \n",
       "0          13.29  3ce436f183e68e07877b285a838db11a    delivered  "
      ]
     },
     "execution_count": 4,
     "metadata": {},
     "output_type": "execute_result"
    }
   ],
   "source": [
    "# Merging with olist_orders_dataset\n",
    "\n",
    "olist_orders_dataset = pd.read_csv('olist_database_files/olist_orders_dataset.csv')\n",
    "olist_orders_dataset = olist_orders_dataset.loc[:,['order_id','customer_id','order_status']]\n",
    "\n",
    "merged_df = pd.merge(olist_order_items_dataset,olist_orders_dataset, on ='order_id')\n",
    "print(f'Shape: {merged_df.shape}')\n",
    "merged_df.head(1)"
   ]
  },
  {
   "cell_type": "code",
   "execution_count": 5,
   "id": "ea1980c9",
   "metadata": {
    "hidden": true
   },
   "outputs": [
    {
     "name": "stdout",
     "output_type": "stream",
     "text": [
      "Shape: (112650, 12)\n"
     ]
    },
    {
     "data": {
      "text/html": [
       "<div>\n",
       "<style scoped>\n",
       "    .dataframe tbody tr th:only-of-type {\n",
       "        vertical-align: middle;\n",
       "    }\n",
       "\n",
       "    .dataframe tbody tr th {\n",
       "        vertical-align: top;\n",
       "    }\n",
       "\n",
       "    .dataframe thead th {\n",
       "        text-align: right;\n",
       "    }\n",
       "</style>\n",
       "<table border=\"1\" class=\"dataframe\">\n",
       "  <thead>\n",
       "    <tr style=\"text-align: right;\">\n",
       "      <th></th>\n",
       "      <th>order_id</th>\n",
       "      <th>product_id</th>\n",
       "      <th>seller_id</th>\n",
       "      <th>shipping_limit_date</th>\n",
       "      <th>price</th>\n",
       "      <th>freight_value</th>\n",
       "      <th>customer_id</th>\n",
       "      <th>order_status</th>\n",
       "      <th>product_weight_g</th>\n",
       "      <th>product_length_cm</th>\n",
       "      <th>product_height_cm</th>\n",
       "      <th>product_width_cm</th>\n",
       "    </tr>\n",
       "  </thead>\n",
       "  <tbody>\n",
       "    <tr>\n",
       "      <th>0</th>\n",
       "      <td>00010242fe8c5a6d1ba2dd792cb16214</td>\n",
       "      <td>4244733e06e7ecb4970a6e2683c13e61</td>\n",
       "      <td>48436dade18ac8b2bce089ec2a041202</td>\n",
       "      <td>2017-09-19 09:45:35</td>\n",
       "      <td>58.9</td>\n",
       "      <td>13.29</td>\n",
       "      <td>3ce436f183e68e07877b285a838db11a</td>\n",
       "      <td>delivered</td>\n",
       "      <td>650.0</td>\n",
       "      <td>28.0</td>\n",
       "      <td>9.0</td>\n",
       "      <td>14.0</td>\n",
       "    </tr>\n",
       "  </tbody>\n",
       "</table>\n",
       "</div>"
      ],
      "text/plain": [
       "                           order_id                        product_id  \\\n",
       "0  00010242fe8c5a6d1ba2dd792cb16214  4244733e06e7ecb4970a6e2683c13e61   \n",
       "\n",
       "                          seller_id  shipping_limit_date  price  \\\n",
       "0  48436dade18ac8b2bce089ec2a041202  2017-09-19 09:45:35   58.9   \n",
       "\n",
       "   freight_value                       customer_id order_status  \\\n",
       "0          13.29  3ce436f183e68e07877b285a838db11a    delivered   \n",
       "\n",
       "   product_weight_g  product_length_cm  product_height_cm  product_width_cm  \n",
       "0             650.0               28.0                9.0              14.0  "
      ]
     },
     "execution_count": 5,
     "metadata": {},
     "output_type": "execute_result"
    }
   ],
   "source": [
    "# Merging with olist_customers_dataset\n",
    "\n",
    "olist_products_dataset = pd.read_csv('olist_database_files/olist_products_dataset.csv')\n",
    "olist_products_dataset2 = olist_products_dataset.loc[:,['product_id','product_weight_g','product_length_cm',\n",
    "                                                       'product_height_cm','product_width_cm']]\n",
    "\n",
    "merged_df_v1 = pd.merge(merged_df,olist_products_dataset2, on ='product_id')\n",
    "print(f'Shape: {merged_df_v1.shape}')\n",
    "merged_df_v1.head(1)"
   ]
  },
  {
   "cell_type": "code",
   "execution_count": 6,
   "id": "a2f8cddb",
   "metadata": {
    "hidden": true
   },
   "outputs": [
    {
     "name": "stdout",
     "output_type": "stream",
     "text": [
      "Shape: (112650, 14)\n"
     ]
    },
    {
     "data": {
      "text/html": [
       "<div>\n",
       "<style scoped>\n",
       "    .dataframe tbody tr th:only-of-type {\n",
       "        vertical-align: middle;\n",
       "    }\n",
       "\n",
       "    .dataframe tbody tr th {\n",
       "        vertical-align: top;\n",
       "    }\n",
       "\n",
       "    .dataframe thead th {\n",
       "        text-align: right;\n",
       "    }\n",
       "</style>\n",
       "<table border=\"1\" class=\"dataframe\">\n",
       "  <thead>\n",
       "    <tr style=\"text-align: right;\">\n",
       "      <th></th>\n",
       "      <th>order_id</th>\n",
       "      <th>product_id</th>\n",
       "      <th>seller_id</th>\n",
       "      <th>shipping_limit_date</th>\n",
       "      <th>price</th>\n",
       "      <th>freight_value</th>\n",
       "      <th>customer_id</th>\n",
       "      <th>order_status</th>\n",
       "      <th>product_weight_g</th>\n",
       "      <th>product_length_cm</th>\n",
       "      <th>product_height_cm</th>\n",
       "      <th>product_width_cm</th>\n",
       "      <th>customer_zip_code_prefix</th>\n",
       "      <th>customer_state</th>\n",
       "    </tr>\n",
       "  </thead>\n",
       "  <tbody>\n",
       "    <tr>\n",
       "      <th>0</th>\n",
       "      <td>00010242fe8c5a6d1ba2dd792cb16214</td>\n",
       "      <td>4244733e06e7ecb4970a6e2683c13e61</td>\n",
       "      <td>48436dade18ac8b2bce089ec2a041202</td>\n",
       "      <td>2017-09-19 09:45:35</td>\n",
       "      <td>58.9</td>\n",
       "      <td>13.29</td>\n",
       "      <td>3ce436f183e68e07877b285a838db11a</td>\n",
       "      <td>delivered</td>\n",
       "      <td>650.0</td>\n",
       "      <td>28.0</td>\n",
       "      <td>9.0</td>\n",
       "      <td>14.0</td>\n",
       "      <td>28013</td>\n",
       "      <td>RJ</td>\n",
       "    </tr>\n",
       "  </tbody>\n",
       "</table>\n",
       "</div>"
      ],
      "text/plain": [
       "                           order_id                        product_id  \\\n",
       "0  00010242fe8c5a6d1ba2dd792cb16214  4244733e06e7ecb4970a6e2683c13e61   \n",
       "\n",
       "                          seller_id  shipping_limit_date  price  \\\n",
       "0  48436dade18ac8b2bce089ec2a041202  2017-09-19 09:45:35   58.9   \n",
       "\n",
       "   freight_value                       customer_id order_status  \\\n",
       "0          13.29  3ce436f183e68e07877b285a838db11a    delivered   \n",
       "\n",
       "   product_weight_g  product_length_cm  product_height_cm  product_width_cm  \\\n",
       "0             650.0               28.0                9.0              14.0   \n",
       "\n",
       "   customer_zip_code_prefix customer_state  \n",
       "0                     28013             RJ  "
      ]
     },
     "execution_count": 6,
     "metadata": {},
     "output_type": "execute_result"
    }
   ],
   "source": [
    "# Merging with olist_customers_dataset\n",
    "\n",
    "olist_customers_dataset = pd.read_csv(\"olist_database_files/olist_customers_dataset.csv\")\n",
    "olist_customers_dataset = olist_customers_dataset.loc[:,['customer_id','customer_zip_code_prefix','customer_state']]\n",
    "\n",
    "merged_df_v2 = pd.merge(merged_df_v1,olist_customers_dataset,on='customer_id')\n",
    "print(f'Shape: {merged_df_v2.shape}')\n",
    "merged_df_v2.head(1)"
   ]
  },
  {
   "cell_type": "code",
   "execution_count": 7,
   "id": "d9f21dbe",
   "metadata": {
    "hidden": true
   },
   "outputs": [
    {
     "name": "stdout",
     "output_type": "stream",
     "text": [
      "Shape: (112650, 16)\n"
     ]
    },
    {
     "data": {
      "text/html": [
       "<div>\n",
       "<style scoped>\n",
       "    .dataframe tbody tr th:only-of-type {\n",
       "        vertical-align: middle;\n",
       "    }\n",
       "\n",
       "    .dataframe tbody tr th {\n",
       "        vertical-align: top;\n",
       "    }\n",
       "\n",
       "    .dataframe thead th {\n",
       "        text-align: right;\n",
       "    }\n",
       "</style>\n",
       "<table border=\"1\" class=\"dataframe\">\n",
       "  <thead>\n",
       "    <tr style=\"text-align: right;\">\n",
       "      <th></th>\n",
       "      <th>order_id</th>\n",
       "      <th>product_id</th>\n",
       "      <th>seller_id</th>\n",
       "      <th>shipping_limit_date</th>\n",
       "      <th>price</th>\n",
       "      <th>freight_value</th>\n",
       "      <th>customer_id</th>\n",
       "      <th>order_status</th>\n",
       "      <th>product_weight_g</th>\n",
       "      <th>product_length_cm</th>\n",
       "      <th>product_height_cm</th>\n",
       "      <th>product_width_cm</th>\n",
       "      <th>customer_zip_code_prefix</th>\n",
       "      <th>customer_state</th>\n",
       "      <th>seller_zip_code_prefix</th>\n",
       "      <th>seller_state</th>\n",
       "    </tr>\n",
       "  </thead>\n",
       "  <tbody>\n",
       "    <tr>\n",
       "      <th>0</th>\n",
       "      <td>00010242fe8c5a6d1ba2dd792cb16214</td>\n",
       "      <td>4244733e06e7ecb4970a6e2683c13e61</td>\n",
       "      <td>48436dade18ac8b2bce089ec2a041202</td>\n",
       "      <td>2017-09-19 09:45:35</td>\n",
       "      <td>58.9</td>\n",
       "      <td>13.29</td>\n",
       "      <td>3ce436f183e68e07877b285a838db11a</td>\n",
       "      <td>delivered</td>\n",
       "      <td>650.0</td>\n",
       "      <td>28.0</td>\n",
       "      <td>9.0</td>\n",
       "      <td>14.0</td>\n",
       "      <td>28013</td>\n",
       "      <td>RJ</td>\n",
       "      <td>27277</td>\n",
       "      <td>SP</td>\n",
       "    </tr>\n",
       "  </tbody>\n",
       "</table>\n",
       "</div>"
      ],
      "text/plain": [
       "                           order_id                        product_id  \\\n",
       "0  00010242fe8c5a6d1ba2dd792cb16214  4244733e06e7ecb4970a6e2683c13e61   \n",
       "\n",
       "                          seller_id  shipping_limit_date  price  \\\n",
       "0  48436dade18ac8b2bce089ec2a041202  2017-09-19 09:45:35   58.9   \n",
       "\n",
       "   freight_value                       customer_id order_status  \\\n",
       "0          13.29  3ce436f183e68e07877b285a838db11a    delivered   \n",
       "\n",
       "   product_weight_g  product_length_cm  product_height_cm  product_width_cm  \\\n",
       "0             650.0               28.0                9.0              14.0   \n",
       "\n",
       "   customer_zip_code_prefix customer_state  seller_zip_code_prefix  \\\n",
       "0                     28013             RJ                   27277   \n",
       "\n",
       "  seller_state  \n",
       "0           SP  "
      ]
     },
     "execution_count": 7,
     "metadata": {},
     "output_type": "execute_result"
    }
   ],
   "source": [
    "# Merging with olist_sellers_dataset\n",
    "\n",
    "olist_sellers_dataset = pd.read_csv(\"olist_database_files/olist_sellers_dataset.csv\")\n",
    "olist_sellers_dataset = olist_sellers_dataset.loc[:,['seller_id','seller_zip_code_prefix','seller_state']]\n",
    "\n",
    "merged_df_v3 = pd.merge(merged_df_v2,olist_sellers_dataset,on='seller_id')\n",
    "print(f'Shape: {merged_df_v3.shape}')\n",
    "merged_df_v3.head(1)"
   ]
  },
  {
   "cell_type": "code",
   "execution_count": 8,
   "id": "5674a90c",
   "metadata": {
    "hidden": true
   },
   "outputs": [
    {
     "data": {
      "text/html": [
       "<div>\n",
       "<style scoped>\n",
       "    .dataframe tbody tr th:only-of-type {\n",
       "        vertical-align: middle;\n",
       "    }\n",
       "\n",
       "    .dataframe tbody tr th {\n",
       "        vertical-align: top;\n",
       "    }\n",
       "\n",
       "    .dataframe thead th {\n",
       "        text-align: right;\n",
       "    }\n",
       "</style>\n",
       "<table border=\"1\" class=\"dataframe\">\n",
       "  <thead>\n",
       "    <tr style=\"text-align: right;\">\n",
       "      <th></th>\n",
       "      <th>geolocation_zip_code_prefix</th>\n",
       "      <th>geolocation_lat</th>\n",
       "      <th>geolocation_lng</th>\n",
       "    </tr>\n",
       "  </thead>\n",
       "  <tbody>\n",
       "    <tr>\n",
       "      <th>0</th>\n",
       "      <td>1037</td>\n",
       "      <td>-23.545621</td>\n",
       "      <td>-46.639292</td>\n",
       "    </tr>\n",
       "  </tbody>\n",
       "</table>\n",
       "</div>"
      ],
      "text/plain": [
       "   geolocation_zip_code_prefix  geolocation_lat  geolocation_lng\n",
       "0                         1037       -23.545621       -46.639292"
      ]
     },
     "metadata": {},
     "output_type": "display_data"
    },
    {
     "name": "stdout",
     "output_type": "stream",
     "text": [
      "Row numbers: 1000163\n",
      "Unique Zip Codes: 19015\n"
     ]
    }
   ],
   "source": [
    "# Merging with olist_geolocation_dataset\n",
    "\n",
    "olist_geolocation_dataset = pd.read_csv('olist_database_files/olist_geolocation_dataset.csv')\n",
    "olist_geolocation_dataset = olist_geolocation_dataset.loc[:,['geolocation_zip_code_prefix',\n",
    "                                                             'geolocation_lat',\n",
    "                                                             'geolocation_lng']]\n",
    "display(olist_geolocation_dataset.head(1))\n",
    "\n",
    "# The geolocation dataset will need special tratement, because we have diferent latitudes and longitudes for the same zip code\n",
    "\n",
    "print(f'Row numbers: {len(olist_geolocation_dataset)}'\n",
    "      f'\\nUnique Zip Codes: {olist_geolocation_dataset.geolocation_zip_code_prefix.nunique()}')"
   ]
  },
  {
   "cell_type": "code",
   "execution_count": 9,
   "id": "8d8b8d81",
   "metadata": {
    "hidden": true
   },
   "outputs": [
    {
     "data": {
      "text/html": [
       "<div>\n",
       "<style scoped>\n",
       "    .dataframe tbody tr th:only-of-type {\n",
       "        vertical-align: middle;\n",
       "    }\n",
       "\n",
       "    .dataframe tbody tr th {\n",
       "        vertical-align: top;\n",
       "    }\n",
       "\n",
       "    .dataframe thead th {\n",
       "        text-align: right;\n",
       "    }\n",
       "</style>\n",
       "<table border=\"1\" class=\"dataframe\">\n",
       "  <thead>\n",
       "    <tr style=\"text-align: right;\">\n",
       "      <th></th>\n",
       "      <th>geolocation_zip_code_prefix</th>\n",
       "      <th>geolocation_lat</th>\n",
       "      <th>geolocation_lng</th>\n",
       "    </tr>\n",
       "  </thead>\n",
       "  <tbody>\n",
       "    <tr>\n",
       "      <th>0</th>\n",
       "      <td>1001</td>\n",
       "      <td>-23.550190</td>\n",
       "      <td>-46.634024</td>\n",
       "    </tr>\n",
       "    <tr>\n",
       "      <th>1</th>\n",
       "      <td>1002</td>\n",
       "      <td>-23.548146</td>\n",
       "      <td>-46.634979</td>\n",
       "    </tr>\n",
       "    <tr>\n",
       "      <th>2</th>\n",
       "      <td>1003</td>\n",
       "      <td>-23.548994</td>\n",
       "      <td>-46.635731</td>\n",
       "    </tr>\n",
       "  </tbody>\n",
       "</table>\n",
       "</div>"
      ],
      "text/plain": [
       "   geolocation_zip_code_prefix  geolocation_lat  geolocation_lng\n",
       "0                         1001       -23.550190       -46.634024\n",
       "1                         1002       -23.548146       -46.634979\n",
       "2                         1003       -23.548994       -46.635731"
      ]
     },
     "execution_count": 9,
     "metadata": {},
     "output_type": "execute_result"
    }
   ],
   "source": [
    "# Grouping the geolation by zip code\n",
    "\n",
    "olist_geolocation_grouped = olist_geolocation_dataset.groupby('geolocation_zip_code_prefix',as_index = False).mean()\n",
    "olist_geolocation_grouped.head(3)"
   ]
  },
  {
   "cell_type": "code",
   "execution_count": 10,
   "id": "2510d22f",
   "metadata": {
    "hidden": true
   },
   "outputs": [
    {
     "name": "stdout",
     "output_type": "stream",
     "text": [
      "Shape: (112650, 18)\n"
     ]
    },
    {
     "data": {
      "text/html": [
       "<div>\n",
       "<style scoped>\n",
       "    .dataframe tbody tr th:only-of-type {\n",
       "        vertical-align: middle;\n",
       "    }\n",
       "\n",
       "    .dataframe tbody tr th {\n",
       "        vertical-align: top;\n",
       "    }\n",
       "\n",
       "    .dataframe thead th {\n",
       "        text-align: right;\n",
       "    }\n",
       "</style>\n",
       "<table border=\"1\" class=\"dataframe\">\n",
       "  <thead>\n",
       "    <tr style=\"text-align: right;\">\n",
       "      <th></th>\n",
       "      <th>order_id</th>\n",
       "      <th>product_id</th>\n",
       "      <th>seller_id</th>\n",
       "      <th>shipping_limit_date</th>\n",
       "      <th>price</th>\n",
       "      <th>freight_value</th>\n",
       "      <th>customer_id</th>\n",
       "      <th>order_status</th>\n",
       "      <th>product_weight_g</th>\n",
       "      <th>product_length_cm</th>\n",
       "      <th>product_height_cm</th>\n",
       "      <th>product_width_cm</th>\n",
       "      <th>customer_zip_code_prefix</th>\n",
       "      <th>customer_state</th>\n",
       "      <th>seller_zip_code_prefix</th>\n",
       "      <th>seller_state</th>\n",
       "      <th>customer_lat</th>\n",
       "      <th>customer_lng</th>\n",
       "    </tr>\n",
       "  </thead>\n",
       "  <tbody>\n",
       "    <tr>\n",
       "      <th>0</th>\n",
       "      <td>00010242fe8c5a6d1ba2dd792cb16214</td>\n",
       "      <td>4244733e06e7ecb4970a6e2683c13e61</td>\n",
       "      <td>48436dade18ac8b2bce089ec2a041202</td>\n",
       "      <td>2017-09-19 09:45:35</td>\n",
       "      <td>58.9</td>\n",
       "      <td>13.29</td>\n",
       "      <td>3ce436f183e68e07877b285a838db11a</td>\n",
       "      <td>delivered</td>\n",
       "      <td>650.0</td>\n",
       "      <td>28.0</td>\n",
       "      <td>9.0</td>\n",
       "      <td>14.0</td>\n",
       "      <td>28013</td>\n",
       "      <td>RJ</td>\n",
       "      <td>27277</td>\n",
       "      <td>SP</td>\n",
       "      <td>-21.762775</td>\n",
       "      <td>-41.309633</td>\n",
       "    </tr>\n",
       "  </tbody>\n",
       "</table>\n",
       "</div>"
      ],
      "text/plain": [
       "                           order_id                        product_id  \\\n",
       "0  00010242fe8c5a6d1ba2dd792cb16214  4244733e06e7ecb4970a6e2683c13e61   \n",
       "\n",
       "                          seller_id  shipping_limit_date  price  \\\n",
       "0  48436dade18ac8b2bce089ec2a041202  2017-09-19 09:45:35   58.9   \n",
       "\n",
       "   freight_value                       customer_id order_status  \\\n",
       "0          13.29  3ce436f183e68e07877b285a838db11a    delivered   \n",
       "\n",
       "   product_weight_g  product_length_cm  product_height_cm  product_width_cm  \\\n",
       "0             650.0               28.0                9.0              14.0   \n",
       "\n",
       "   customer_zip_code_prefix customer_state  seller_zip_code_prefix  \\\n",
       "0                     28013             RJ                   27277   \n",
       "\n",
       "  seller_state  customer_lat  customer_lng  \n",
       "0           SP    -21.762775    -41.309633  "
      ]
     },
     "execution_count": 10,
     "metadata": {},
     "output_type": "execute_result"
    }
   ],
   "source": [
    "# For the geolocation we will need to merge two times, we have one geolocation for the seller and one for the customer\n",
    "\n",
    "# Merging with customer\n",
    "merged_df_v4 = pd.merge(merged_df_v3,\n",
    "                        olist_geolocation_grouped,\n",
    "                        left_on ='customer_zip_code_prefix',\n",
    "                        right_on = 'geolocation_zip_code_prefix',\n",
    "                        how = 'left')\n",
    "\n",
    "merged_df_v4.drop('geolocation_zip_code_prefix',axis =1,inplace = True)\n",
    "#lets rename the geolocation columns to specify that it concern to the customer \n",
    "merged_df_v4.rename(columns ={'geolocation_lat':'customer_lat','geolocation_lng':'customer_lng'},inplace = True)\n",
    "\n",
    "print(f'Shape: {merged_df_v4.shape}')\n",
    "merged_df_v4.head(1)"
   ]
  },
  {
   "cell_type": "code",
   "execution_count": 11,
   "id": "83b31f57",
   "metadata": {
    "hidden": true
   },
   "outputs": [
    {
     "name": "stdout",
     "output_type": "stream",
     "text": [
      "Shape: (112650, 20)\n"
     ]
    },
    {
     "data": {
      "text/html": [
       "<div>\n",
       "<style scoped>\n",
       "    .dataframe tbody tr th:only-of-type {\n",
       "        vertical-align: middle;\n",
       "    }\n",
       "\n",
       "    .dataframe tbody tr th {\n",
       "        vertical-align: top;\n",
       "    }\n",
       "\n",
       "    .dataframe thead th {\n",
       "        text-align: right;\n",
       "    }\n",
       "</style>\n",
       "<table border=\"1\" class=\"dataframe\">\n",
       "  <thead>\n",
       "    <tr style=\"text-align: right;\">\n",
       "      <th></th>\n",
       "      <th>order_id</th>\n",
       "      <th>product_id</th>\n",
       "      <th>seller_id</th>\n",
       "      <th>shipping_limit_date</th>\n",
       "      <th>price</th>\n",
       "      <th>freight_value</th>\n",
       "      <th>customer_id</th>\n",
       "      <th>order_status</th>\n",
       "      <th>product_weight_g</th>\n",
       "      <th>product_length_cm</th>\n",
       "      <th>product_height_cm</th>\n",
       "      <th>product_width_cm</th>\n",
       "      <th>customer_zip_code_prefix</th>\n",
       "      <th>customer_state</th>\n",
       "      <th>seller_zip_code_prefix</th>\n",
       "      <th>seller_state</th>\n",
       "      <th>customer_lat</th>\n",
       "      <th>customer_lng</th>\n",
       "      <th>seller_lat</th>\n",
       "      <th>seller_lng</th>\n",
       "    </tr>\n",
       "  </thead>\n",
       "  <tbody>\n",
       "    <tr>\n",
       "      <th>0</th>\n",
       "      <td>00010242fe8c5a6d1ba2dd792cb16214</td>\n",
       "      <td>4244733e06e7ecb4970a6e2683c13e61</td>\n",
       "      <td>48436dade18ac8b2bce089ec2a041202</td>\n",
       "      <td>2017-09-19 09:45:35</td>\n",
       "      <td>58.9</td>\n",
       "      <td>13.29</td>\n",
       "      <td>3ce436f183e68e07877b285a838db11a</td>\n",
       "      <td>delivered</td>\n",
       "      <td>650.0</td>\n",
       "      <td>28.0</td>\n",
       "      <td>9.0</td>\n",
       "      <td>14.0</td>\n",
       "      <td>28013</td>\n",
       "      <td>RJ</td>\n",
       "      <td>27277</td>\n",
       "      <td>SP</td>\n",
       "      <td>-21.762775</td>\n",
       "      <td>-41.309633</td>\n",
       "      <td>-22.496953</td>\n",
       "      <td>-44.127492</td>\n",
       "    </tr>\n",
       "  </tbody>\n",
       "</table>\n",
       "</div>"
      ],
      "text/plain": [
       "                           order_id                        product_id  \\\n",
       "0  00010242fe8c5a6d1ba2dd792cb16214  4244733e06e7ecb4970a6e2683c13e61   \n",
       "\n",
       "                          seller_id  shipping_limit_date  price  \\\n",
       "0  48436dade18ac8b2bce089ec2a041202  2017-09-19 09:45:35   58.9   \n",
       "\n",
       "   freight_value                       customer_id order_status  \\\n",
       "0          13.29  3ce436f183e68e07877b285a838db11a    delivered   \n",
       "\n",
       "   product_weight_g  product_length_cm  product_height_cm  product_width_cm  \\\n",
       "0             650.0               28.0                9.0              14.0   \n",
       "\n",
       "   customer_zip_code_prefix customer_state  seller_zip_code_prefix  \\\n",
       "0                     28013             RJ                   27277   \n",
       "\n",
       "  seller_state  customer_lat  customer_lng  seller_lat  seller_lng  \n",
       "0           SP    -21.762775    -41.309633  -22.496953  -44.127492  "
      ]
     },
     "execution_count": 11,
     "metadata": {},
     "output_type": "execute_result"
    }
   ],
   "source": [
    "# Merging geolocation with seller\n",
    "\n",
    "merged_df_v5 = pd.merge(merged_df_v4,\n",
    "                        olist_geolocation_grouped,\n",
    "                        left_on ='seller_zip_code_prefix',\n",
    "                        right_on = 'geolocation_zip_code_prefix',\n",
    "                        how = 'left')\n",
    "\n",
    "merged_df_v5.drop('geolocation_zip_code_prefix',axis =1,inplace = True)\n",
    "\n",
    "# lets rename the geolocation columns to specify that it concern to the customer \n",
    "merged_df_v5.rename(columns ={'geolocation_lat':'seller_lat','geolocation_lng':'seller_lng'},inplace = True)\n",
    "\n",
    "print(f'Shape: {merged_df_v5.shape}')\n",
    "merged_df_v5.head(1)"
   ]
  },
  {
   "cell_type": "markdown",
   "id": "b3ef1931",
   "metadata": {
    "hidden": true
   },
   "source": [
    "We have finally merged all the tables and get all the infos that may be relevant! let take a look at our DataFrame"
   ]
  },
  {
   "cell_type": "code",
   "execution_count": 12,
   "id": "70d8f53a",
   "metadata": {
    "hidden": true
   },
   "outputs": [
    {
     "name": "stdout",
     "output_type": "stream",
     "text": [
      "Index(['order_id', 'product_id', 'seller_id', 'shipping_limit_date', 'price',\n",
      "       'freight_value', 'customer_id', 'order_status', 'product_weight_g',\n",
      "       'product_length_cm', 'product_height_cm', 'product_width_cm',\n",
      "       'customer_zip_code_prefix', 'customer_state', 'seller_zip_code_prefix',\n",
      "       'seller_state', 'customer_lat', 'customer_lng', 'seller_lat',\n",
      "       'seller_lng'],\n",
      "      dtype='object')\n"
     ]
    },
    {
     "data": {
      "text/html": [
       "<div>\n",
       "<style scoped>\n",
       "    .dataframe tbody tr th:only-of-type {\n",
       "        vertical-align: middle;\n",
       "    }\n",
       "\n",
       "    .dataframe tbody tr th {\n",
       "        vertical-align: top;\n",
       "    }\n",
       "\n",
       "    .dataframe thead th {\n",
       "        text-align: right;\n",
       "    }\n",
       "</style>\n",
       "<table border=\"1\" class=\"dataframe\">\n",
       "  <thead>\n",
       "    <tr style=\"text-align: right;\">\n",
       "      <th></th>\n",
       "      <th>order_id</th>\n",
       "      <th>product_id</th>\n",
       "      <th>seller_id</th>\n",
       "      <th>shipping_limit_date</th>\n",
       "      <th>price</th>\n",
       "      <th>freight_value</th>\n",
       "      <th>customer_id</th>\n",
       "      <th>order_status</th>\n",
       "      <th>product_weight_g</th>\n",
       "      <th>product_length_cm</th>\n",
       "      <th>product_height_cm</th>\n",
       "      <th>product_width_cm</th>\n",
       "      <th>customer_zip_code_prefix</th>\n",
       "      <th>customer_state</th>\n",
       "      <th>seller_zip_code_prefix</th>\n",
       "      <th>seller_state</th>\n",
       "      <th>customer_lat</th>\n",
       "      <th>customer_lng</th>\n",
       "      <th>seller_lat</th>\n",
       "      <th>seller_lng</th>\n",
       "    </tr>\n",
       "  </thead>\n",
       "  <tbody>\n",
       "    <tr>\n",
       "      <th>72935</th>\n",
       "      <td>c621519092fd9754777ee79a0680a2ac</td>\n",
       "      <td>bd84287687cd6471cc78eee8ed6a6a8e</td>\n",
       "      <td>709e16e2b25c7474d980076c6bfc4806</td>\n",
       "      <td>2018-06-18 23:21:15</td>\n",
       "      <td>43.9</td>\n",
       "      <td>12.97</td>\n",
       "      <td>d0fd1441f726eb4b038f33dce66e981d</td>\n",
       "      <td>delivered</td>\n",
       "      <td>250.0</td>\n",
       "      <td>31.0</td>\n",
       "      <td>4.0</td>\n",
       "      <td>22.0</td>\n",
       "      <td>2420</td>\n",
       "      <td>SP</td>\n",
       "      <td>16200</td>\n",
       "      <td>SP</td>\n",
       "      <td>-23.474187</td>\n",
       "      <td>-46.636394</td>\n",
       "      <td>-21.294954</td>\n",
       "      <td>-50.343267</td>\n",
       "    </tr>\n",
       "    <tr>\n",
       "      <th>102365</th>\n",
       "      <td>615506b52b6dca46c33bdf05c0eca036</td>\n",
       "      <td>b17110b2eaee2f703cc79fca95fd624e</td>\n",
       "      <td>ffdd9f82b9a447f6f8d4b91554cc7dd3</td>\n",
       "      <td>2018-02-22 14:15:33</td>\n",
       "      <td>99.9</td>\n",
       "      <td>15.46</td>\n",
       "      <td>a368eb0dbd95482df5fdc748411bc55c</td>\n",
       "      <td>delivered</td>\n",
       "      <td>550.0</td>\n",
       "      <td>16.0</td>\n",
       "      <td>22.0</td>\n",
       "      <td>11.0</td>\n",
       "      <td>5641</td>\n",
       "      <td>SP</td>\n",
       "      <td>80030</td>\n",
       "      <td>PR</td>\n",
       "      <td>-23.618089</td>\n",
       "      <td>-46.736880</td>\n",
       "      <td>-25.417039</td>\n",
       "      <td>-49.260760</td>\n",
       "    </tr>\n",
       "    <tr>\n",
       "      <th>64947</th>\n",
       "      <td>aee3d95a7c0524bee2967e283ca5fb13</td>\n",
       "      <td>25f86162fee18735fffdb762dcb10d7c</td>\n",
       "      <td>1a3df491d1c4f1589fc2b934ada68bf2</td>\n",
       "      <td>2017-09-22 13:44:06</td>\n",
       "      <td>159.9</td>\n",
       "      <td>21.61</td>\n",
       "      <td>590512cdc06475cd6d3bb1db092822c0</td>\n",
       "      <td>delivered</td>\n",
       "      <td>10800.0</td>\n",
       "      <td>54.0</td>\n",
       "      <td>27.0</td>\n",
       "      <td>36.0</td>\n",
       "      <td>95930</td>\n",
       "      <td>RS</td>\n",
       "      <td>89224</td>\n",
       "      <td>SC</td>\n",
       "      <td>-29.512296</td>\n",
       "      <td>-51.992201</td>\n",
       "      <td>-26.264485</td>\n",
       "      <td>-48.807256</td>\n",
       "    </tr>\n",
       "  </tbody>\n",
       "</table>\n",
       "</div>"
      ],
      "text/plain": [
       "                                order_id                        product_id  \\\n",
       "72935   c621519092fd9754777ee79a0680a2ac  bd84287687cd6471cc78eee8ed6a6a8e   \n",
       "102365  615506b52b6dca46c33bdf05c0eca036  b17110b2eaee2f703cc79fca95fd624e   \n",
       "64947   aee3d95a7c0524bee2967e283ca5fb13  25f86162fee18735fffdb762dcb10d7c   \n",
       "\n",
       "                               seller_id  shipping_limit_date  price  \\\n",
       "72935   709e16e2b25c7474d980076c6bfc4806  2018-06-18 23:21:15   43.9   \n",
       "102365  ffdd9f82b9a447f6f8d4b91554cc7dd3  2018-02-22 14:15:33   99.9   \n",
       "64947   1a3df491d1c4f1589fc2b934ada68bf2  2017-09-22 13:44:06  159.9   \n",
       "\n",
       "        freight_value                       customer_id order_status  \\\n",
       "72935           12.97  d0fd1441f726eb4b038f33dce66e981d    delivered   \n",
       "102365          15.46  a368eb0dbd95482df5fdc748411bc55c    delivered   \n",
       "64947           21.61  590512cdc06475cd6d3bb1db092822c0    delivered   \n",
       "\n",
       "        product_weight_g  product_length_cm  product_height_cm  \\\n",
       "72935              250.0               31.0                4.0   \n",
       "102365             550.0               16.0               22.0   \n",
       "64947            10800.0               54.0               27.0   \n",
       "\n",
       "        product_width_cm  customer_zip_code_prefix customer_state  \\\n",
       "72935               22.0                      2420             SP   \n",
       "102365              11.0                      5641             SP   \n",
       "64947               36.0                     95930             RS   \n",
       "\n",
       "        seller_zip_code_prefix seller_state  customer_lat  customer_lng  \\\n",
       "72935                    16200           SP    -23.474187    -46.636394   \n",
       "102365                   80030           PR    -23.618089    -46.736880   \n",
       "64947                    89224           SC    -29.512296    -51.992201   \n",
       "\n",
       "        seller_lat  seller_lng  \n",
       "72935   -21.294954  -50.343267  \n",
       "102365  -25.417039  -49.260760  \n",
       "64947   -26.264485  -48.807256  "
      ]
     },
     "execution_count": 12,
     "metadata": {},
     "output_type": "execute_result"
    }
   ],
   "source": [
    "raw_freight_df = merged_df_v5.copy()\n",
    "\n",
    "print(raw_freight_df.columns)\n",
    "raw_freight_df.sample(3)"
   ]
  },
  {
   "cell_type": "markdown",
   "id": "bc18b731",
   "metadata": {
    "hidden": true
   },
   "source": [
    "***Now that our DataFrame is merged lets do some general checking and treatment***"
   ]
  },
  {
   "cell_type": "markdown",
   "id": "505365c8",
   "metadata": {
    "heading_collapsed": true
   },
   "source": [
    "# Treating Data"
   ]
  },
  {
   "cell_type": "code",
   "execution_count": 13,
   "id": "d6f2e6f1",
   "metadata": {
    "hidden": true
   },
   "outputs": [
    {
     "name": "stdout",
     "output_type": "stream",
     "text": [
      "<class 'pandas.core.frame.DataFrame'>\n",
      "Int64Index: 112650 entries, 0 to 112649\n",
      "Data columns (total 20 columns):\n",
      " #   Column                    Non-Null Count   Dtype  \n",
      "---  ------                    --------------   -----  \n",
      " 0   order_id                  112650 non-null  object \n",
      " 1   product_id                112650 non-null  object \n",
      " 2   seller_id                 112650 non-null  object \n",
      " 3   shipping_limit_date       112650 non-null  object \n",
      " 4   price                     112650 non-null  float64\n",
      " 5   freight_value             112650 non-null  float64\n",
      " 6   customer_id               112650 non-null  object \n",
      " 7   order_status              112650 non-null  object \n",
      " 8   product_weight_g          112632 non-null  float64\n",
      " 9   product_length_cm         112632 non-null  float64\n",
      " 10  product_height_cm         112632 non-null  float64\n",
      " 11  product_width_cm          112632 non-null  float64\n",
      " 12  customer_zip_code_prefix  112650 non-null  int64  \n",
      " 13  customer_state            112650 non-null  object \n",
      " 14  seller_zip_code_prefix    112650 non-null  int64  \n",
      " 15  seller_state              112650 non-null  object \n",
      " 16  customer_lat              112348 non-null  float64\n",
      " 17  customer_lng              112348 non-null  float64\n",
      " 18  seller_lat                112397 non-null  float64\n",
      " 19  seller_lng                112397 non-null  float64\n",
      "dtypes: float64(10), int64(2), object(8)\n",
      "memory usage: 18.0+ MB\n"
     ]
    }
   ],
   "source": [
    "raw_freight_df.info()"
   ]
  },
  {
   "cell_type": "markdown",
   "id": "02d861a0",
   "metadata": {
    "hidden": true
   },
   "source": [
    "***We can see that we have missing data.***\n",
    "+ 18 items without infos about weight and measurements\n",
    "+ 302 items without customer coordinates\n",
    "+ 253 items without seller coordinates\n",
    "\n",
    "Lets start treating the coordinates problem"
   ]
  },
  {
   "cell_type": "markdown",
   "id": "18666cb1",
   "metadata": {
    "hidden": true
   },
   "source": [
    "***The problem with the missing coordinates is that a few times, the customer or the seller zip codes were not found in the olist_geolocation_dataset.***\n",
    "\n",
    "We know that the zip codes are ordered by distance, for example, zip code 1037 = coordinates(-23.545621,-46.639292) while zip code 1046 = coordinates(-23.546081,-46.644820). This means that we can fill those missing coordinates with the coordinate of the closest zip code, without losing much. "
   ]
  },
  {
   "cell_type": "code",
   "execution_count": 14,
   "id": "a799c910",
   "metadata": {
    "hidden": true
   },
   "outputs": [],
   "source": [
    "def find_closest_coordinate(df):\n",
    "    \n",
    "    \"\"\" Find the closest zip code of missing zip codes and fill missing coordinates.\n",
    "    Must be used with apply\n",
    "    \n",
    "    Keyword arguments:\n",
    "    df -- The DataFrame obtained in the last session, with customer and sellers coordinates and respectives zip codes\n",
    "    \"\"\"\n",
    "    \n",
    "    # Fixing customer coordinates\n",
    "    if mt.isnan(df.customer_lat):\n",
    "        customer_zip = df.customer_zip_code_prefix\n",
    "        zip_final_diff = float('inf')\n",
    "        for zip_code,lat,lng in zip(olist_geolocation_grouped.geolocation_zip_code_prefix,\n",
    "                                    olist_geolocation_grouped.geolocation_lat,\n",
    "                                    olist_geolocation_grouped.geolocation_lng):\n",
    "            # Finding the smallest difference between coordinates\n",
    "            zip_diff = abs(zip_code - customer_zip)\n",
    "            if zip_diff < zip_final_diff:\n",
    "                zip_final_diff = zip_diff\n",
    "                customer_lat = lat\n",
    "                customer_lng = lng\n",
    "                f_zip = zip_code\n",
    "        df['customer_lat'] = customer_lat\n",
    "        df['customer_lng'] = customer_lng  \n",
    "        # Uncomment to check function results\n",
    "        #print(f'customer-> {customer_zip}-{f_zip} diff ={zip_final_diff}')\n",
    "        \n",
    "    # Fixing seller coordinates\n",
    "    if mt.isnan(df.seller_lat):\n",
    "        seller_zip = df.seller_zip_code_prefix\n",
    "        zip_final_diff = float('inf')\n",
    "        for zip_code,lat,lng in zip(olist_geolocation_grouped.geolocation_zip_code_prefix,\n",
    "                                    olist_geolocation_grouped.geolocation_lat,\n",
    "                                    olist_geolocation_grouped.geolocation_lng):\n",
    "            # Finding the smallest difference between coordinates\n",
    "            zip_diff = abs(zip_code - seller_zip)\n",
    "            if zip_diff < zip_final_diff:\n",
    "                zip_final_diff = zip_diff\n",
    "                seller_lat = lat\n",
    "                seller_lng = lng\n",
    "                f_zip = zip_code\n",
    "        df['seller_lat'] = seller_lat\n",
    "        df['seller_lng'] = seller_lng\n",
    "        # Uncomment to check function results\n",
    "        #print(f'seller-> {seller_zip}-{f_zip} diff ={zip_final_diff}')\n",
    "        \n",
    "    return df\n"
   ]
  },
  {
   "cell_type": "code",
   "execution_count": 15,
   "id": "c6898bf0",
   "metadata": {
    "hidden": true
   },
   "outputs": [
    {
     "data": {
      "text/html": [
       "<div>\n",
       "<style scoped>\n",
       "    .dataframe tbody tr th:only-of-type {\n",
       "        vertical-align: middle;\n",
       "    }\n",
       "\n",
       "    .dataframe tbody tr th {\n",
       "        vertical-align: top;\n",
       "    }\n",
       "\n",
       "    .dataframe thead th {\n",
       "        text-align: right;\n",
       "    }\n",
       "</style>\n",
       "<table border=\"1\" class=\"dataframe\">\n",
       "  <thead>\n",
       "    <tr style=\"text-align: right;\">\n",
       "      <th></th>\n",
       "      <th>order_id</th>\n",
       "      <th>product_id</th>\n",
       "      <th>seller_id</th>\n",
       "      <th>shipping_limit_date</th>\n",
       "      <th>price</th>\n",
       "      <th>freight_value</th>\n",
       "      <th>customer_id</th>\n",
       "      <th>order_status</th>\n",
       "      <th>product_weight_g</th>\n",
       "      <th>product_length_cm</th>\n",
       "      <th>product_height_cm</th>\n",
       "      <th>product_width_cm</th>\n",
       "      <th>customer_zip_code_prefix</th>\n",
       "      <th>customer_state</th>\n",
       "      <th>seller_zip_code_prefix</th>\n",
       "      <th>seller_state</th>\n",
       "      <th>customer_lat</th>\n",
       "      <th>customer_lng</th>\n",
       "      <th>seller_lat</th>\n",
       "      <th>seller_lng</th>\n",
       "    </tr>\n",
       "  </thead>\n",
       "  <tbody>\n",
       "    <tr>\n",
       "      <th>19590</th>\n",
       "      <td>fc42f37778b223b55f8ccbd5f274b9aa</td>\n",
       "      <td>380b4664ba5bb18cc9db78ee6bac3558</td>\n",
       "      <td>6560211a19b47992c3666cc44a7e94c0</td>\n",
       "      <td>2017-11-19 22:50:37</td>\n",
       "      <td>29.00</td>\n",
       "      <td>11.85</td>\n",
       "      <td>f3ef3f7ef66d0cf612f37a1bb71a635c</td>\n",
       "      <td>delivered</td>\n",
       "      <td>250.0</td>\n",
       "      <td>16.0</td>\n",
       "      <td>2.0</td>\n",
       "      <td>11.0</td>\n",
       "      <td>15030</td>\n",
       "      <td>SP</td>\n",
       "      <td>5849</td>\n",
       "      <td>SP</td>\n",
       "      <td>-20.796590</td>\n",
       "      <td>-49.387674</td>\n",
       "      <td>-23.652366</td>\n",
       "      <td>-46.755753</td>\n",
       "    </tr>\n",
       "    <tr>\n",
       "      <th>95006</th>\n",
       "      <td>bc04e2bb63324cc86f60dccdc3f568cf</td>\n",
       "      <td>108dbde571d17eee3c21fa2492e8921b</td>\n",
       "      <td>bccf933e006e9b94a6184af782963e77</td>\n",
       "      <td>2017-11-09 14:26:04</td>\n",
       "      <td>38.99</td>\n",
       "      <td>16.11</td>\n",
       "      <td>0ab59d45d567a5ccce8b3404fb5b44bc</td>\n",
       "      <td>delivered</td>\n",
       "      <td>900.0</td>\n",
       "      <td>18.0</td>\n",
       "      <td>12.0</td>\n",
       "      <td>18.0</td>\n",
       "      <td>89235</td>\n",
       "      <td>SC</td>\n",
       "      <td>19806</td>\n",
       "      <td>SP</td>\n",
       "      <td>-26.369334</td>\n",
       "      <td>-48.823670</td>\n",
       "      <td>-22.655502</td>\n",
       "      <td>-50.425710</td>\n",
       "    </tr>\n",
       "    <tr>\n",
       "      <th>12326</th>\n",
       "      <td>02d50facee2072550ae5a8ef3dc2e10f</td>\n",
       "      <td>ef66e63137bdd1b2e44aa968646fc1e3</td>\n",
       "      <td>1025f0e2d44d7041d6cf58b6550e0bfa</td>\n",
       "      <td>2018-01-19 00:10:43</td>\n",
       "      <td>38.40</td>\n",
       "      <td>9.34</td>\n",
       "      <td>739ee0b3c55d7509cbf93ba4275199fb</td>\n",
       "      <td>delivered</td>\n",
       "      <td>750.0</td>\n",
       "      <td>20.0</td>\n",
       "      <td>35.0</td>\n",
       "      <td>20.0</td>\n",
       "      <td>2038</td>\n",
       "      <td>SP</td>\n",
       "      <td>3204</td>\n",
       "      <td>SP</td>\n",
       "      <td>-23.495238</td>\n",
       "      <td>-46.624162</td>\n",
       "      <td>-23.595499</td>\n",
       "      <td>-46.559727</td>\n",
       "    </tr>\n",
       "  </tbody>\n",
       "</table>\n",
       "</div>"
      ],
      "text/plain": [
       "                               order_id                        product_id  \\\n",
       "19590  fc42f37778b223b55f8ccbd5f274b9aa  380b4664ba5bb18cc9db78ee6bac3558   \n",
       "95006  bc04e2bb63324cc86f60dccdc3f568cf  108dbde571d17eee3c21fa2492e8921b   \n",
       "12326  02d50facee2072550ae5a8ef3dc2e10f  ef66e63137bdd1b2e44aa968646fc1e3   \n",
       "\n",
       "                              seller_id  shipping_limit_date  price  \\\n",
       "19590  6560211a19b47992c3666cc44a7e94c0  2017-11-19 22:50:37  29.00   \n",
       "95006  bccf933e006e9b94a6184af782963e77  2017-11-09 14:26:04  38.99   \n",
       "12326  1025f0e2d44d7041d6cf58b6550e0bfa  2018-01-19 00:10:43  38.40   \n",
       "\n",
       "       freight_value                       customer_id order_status  \\\n",
       "19590          11.85  f3ef3f7ef66d0cf612f37a1bb71a635c    delivered   \n",
       "95006          16.11  0ab59d45d567a5ccce8b3404fb5b44bc    delivered   \n",
       "12326           9.34  739ee0b3c55d7509cbf93ba4275199fb    delivered   \n",
       "\n",
       "       product_weight_g  product_length_cm  product_height_cm  \\\n",
       "19590             250.0               16.0                2.0   \n",
       "95006             900.0               18.0               12.0   \n",
       "12326             750.0               20.0               35.0   \n",
       "\n",
       "       product_width_cm  customer_zip_code_prefix customer_state  \\\n",
       "19590              11.0                     15030             SP   \n",
       "95006              18.0                     89235             SC   \n",
       "12326              20.0                      2038             SP   \n",
       "\n",
       "       seller_zip_code_prefix seller_state  customer_lat  customer_lng  \\\n",
       "19590                    5849           SP    -20.796590    -49.387674   \n",
       "95006                   19806           SP    -26.369334    -48.823670   \n",
       "12326                    3204           SP    -23.495238    -46.624162   \n",
       "\n",
       "       seller_lat  seller_lng  \n",
       "19590  -23.652366  -46.755753  \n",
       "95006  -22.655502  -50.425710  \n",
       "12326  -23.595499  -46.559727  "
      ]
     },
     "execution_count": 15,
     "metadata": {},
     "output_type": "execute_result"
    }
   ],
   "source": [
    "raw_freight_df2 = raw_freight_df.copy()\n",
    "\n",
    "raw_freight_df2 = raw_freight_df2.apply(find_closest_coordinate,axis = 1)\n",
    "raw_freight_df2.sample(3)"
   ]
  },
  {
   "cell_type": "code",
   "execution_count": 16,
   "id": "198e0a72",
   "metadata": {
    "hidden": true
   },
   "outputs": [
    {
     "name": "stdout",
     "output_type": "stream",
     "text": [
      "<class 'pandas.core.frame.DataFrame'>\n",
      "Int64Index: 112650 entries, 0 to 112649\n",
      "Data columns (total 20 columns):\n",
      " #   Column                    Non-Null Count   Dtype  \n",
      "---  ------                    --------------   -----  \n",
      " 0   order_id                  112650 non-null  object \n",
      " 1   product_id                112650 non-null  object \n",
      " 2   seller_id                 112650 non-null  object \n",
      " 3   shipping_limit_date       112650 non-null  object \n",
      " 4   price                     112650 non-null  float64\n",
      " 5   freight_value             112650 non-null  float64\n",
      " 6   customer_id               112650 non-null  object \n",
      " 7   order_status              112650 non-null  object \n",
      " 8   product_weight_g          112632 non-null  float64\n",
      " 9   product_length_cm         112632 non-null  float64\n",
      " 10  product_height_cm         112632 non-null  float64\n",
      " 11  product_width_cm          112632 non-null  float64\n",
      " 12  customer_zip_code_prefix  112650 non-null  int64  \n",
      " 13  customer_state            112650 non-null  object \n",
      " 14  seller_zip_code_prefix    112650 non-null  int64  \n",
      " 15  seller_state              112650 non-null  object \n",
      " 16  customer_lat              112650 non-null  float64\n",
      " 17  customer_lng              112650 non-null  float64\n",
      " 18  seller_lat                112650 non-null  float64\n",
      " 19  seller_lng                112650 non-null  float64\n",
      "dtypes: float64(10), int64(2), object(8)\n",
      "memory usage: 18.0+ MB\n"
     ]
    }
   ],
   "source": [
    "raw_freight_df2.info()"
   ]
  },
  {
   "cell_type": "markdown",
   "id": "690fbf60",
   "metadata": {
    "hidden": true
   },
   "source": [
    "***We solved the missing coordinates!***\n",
    "\n",
    "Now we only have to deal with the 18 items without infos about weight and measurements. "
   ]
  },
  {
   "cell_type": "markdown",
   "id": "06c2eedb",
   "metadata": {
    "hidden": true
   },
   "source": [
    "First of all, lets analyze what products are missing those infos"
   ]
  },
  {
   "cell_type": "code",
   "execution_count": 17,
   "id": "77b7d75f",
   "metadata": {
    "hidden": true
   },
   "outputs": [
    {
     "name": "stdout",
     "output_type": "stream",
     "text": [
      "shape: (18, 20)\n",
      "Unique products: 2\n"
     ]
    },
    {
     "data": {
      "text/html": [
       "<div>\n",
       "<style scoped>\n",
       "    .dataframe tbody tr th:only-of-type {\n",
       "        vertical-align: middle;\n",
       "    }\n",
       "\n",
       "    .dataframe tbody tr th {\n",
       "        vertical-align: top;\n",
       "    }\n",
       "\n",
       "    .dataframe thead th {\n",
       "        text-align: right;\n",
       "    }\n",
       "</style>\n",
       "<table border=\"1\" class=\"dataframe\">\n",
       "  <thead>\n",
       "    <tr style=\"text-align: right;\">\n",
       "      <th></th>\n",
       "      <th>order_id</th>\n",
       "      <th>product_id</th>\n",
       "      <th>seller_id</th>\n",
       "      <th>shipping_limit_date</th>\n",
       "      <th>price</th>\n",
       "      <th>freight_value</th>\n",
       "      <th>customer_id</th>\n",
       "      <th>order_status</th>\n",
       "      <th>product_weight_g</th>\n",
       "      <th>product_length_cm</th>\n",
       "      <th>product_height_cm</th>\n",
       "      <th>product_width_cm</th>\n",
       "      <th>customer_zip_code_prefix</th>\n",
       "      <th>customer_state</th>\n",
       "      <th>seller_zip_code_prefix</th>\n",
       "      <th>seller_state</th>\n",
       "      <th>customer_lat</th>\n",
       "      <th>customer_lng</th>\n",
       "      <th>seller_lat</th>\n",
       "      <th>seller_lng</th>\n",
       "    </tr>\n",
       "  </thead>\n",
       "  <tbody>\n",
       "    <tr>\n",
       "      <th>47595</th>\n",
       "      <td>101157d4fae1c9fb74a00a5dee265c25</td>\n",
       "      <td>5eb564652db742ff8f28759cd8d2652a</td>\n",
       "      <td>4e922959ae960d389249c378d1c939f5</td>\n",
       "      <td>2017-04-11 08:02:26</td>\n",
       "      <td>29.0</td>\n",
       "      <td>14.52</td>\n",
       "      <td>f72b2f8d9295ef93fd40a4c49f67a42b</td>\n",
       "      <td>delivered</td>\n",
       "      <td>NaN</td>\n",
       "      <td>NaN</td>\n",
       "      <td>NaN</td>\n",
       "      <td>NaN</td>\n",
       "      <td>22631</td>\n",
       "      <td>RJ</td>\n",
       "      <td>12327</td>\n",
       "      <td>SP</td>\n",
       "      <td>-23.003657</td>\n",
       "      <td>-43.340759</td>\n",
       "      <td>-23.302318</td>\n",
       "      <td>-45.971888</td>\n",
       "    </tr>\n",
       "    <tr>\n",
       "      <th>47596</th>\n",
       "      <td>1521c6bb7b1028154c8c67cf80fa809f</td>\n",
       "      <td>5eb564652db742ff8f28759cd8d2652a</td>\n",
       "      <td>4e922959ae960d389249c378d1c939f5</td>\n",
       "      <td>2017-04-07 10:10:16</td>\n",
       "      <td>29.0</td>\n",
       "      <td>16.05</td>\n",
       "      <td>ca29b2bf57243228e98eab2dab805ae9</td>\n",
       "      <td>delivered</td>\n",
       "      <td>NaN</td>\n",
       "      <td>NaN</td>\n",
       "      <td>NaN</td>\n",
       "      <td>NaN</td>\n",
       "      <td>73105</td>\n",
       "      <td>DF</td>\n",
       "      <td>12327</td>\n",
       "      <td>SP</td>\n",
       "      <td>-15.662755</td>\n",
       "      <td>-47.860392</td>\n",
       "      <td>-23.302318</td>\n",
       "      <td>-45.971888</td>\n",
       "    </tr>\n",
       "  </tbody>\n",
       "</table>\n",
       "</div>"
      ],
      "text/plain": [
       "                               order_id                        product_id  \\\n",
       "47595  101157d4fae1c9fb74a00a5dee265c25  5eb564652db742ff8f28759cd8d2652a   \n",
       "47596  1521c6bb7b1028154c8c67cf80fa809f  5eb564652db742ff8f28759cd8d2652a   \n",
       "\n",
       "                              seller_id  shipping_limit_date  price  \\\n",
       "47595  4e922959ae960d389249c378d1c939f5  2017-04-11 08:02:26   29.0   \n",
       "47596  4e922959ae960d389249c378d1c939f5  2017-04-07 10:10:16   29.0   \n",
       "\n",
       "       freight_value                       customer_id order_status  \\\n",
       "47595          14.52  f72b2f8d9295ef93fd40a4c49f67a42b    delivered   \n",
       "47596          16.05  ca29b2bf57243228e98eab2dab805ae9    delivered   \n",
       "\n",
       "       product_weight_g  product_length_cm  product_height_cm  \\\n",
       "47595               NaN                NaN                NaN   \n",
       "47596               NaN                NaN                NaN   \n",
       "\n",
       "       product_width_cm  customer_zip_code_prefix customer_state  \\\n",
       "47595               NaN                     22631             RJ   \n",
       "47596               NaN                     73105             DF   \n",
       "\n",
       "       seller_zip_code_prefix seller_state  customer_lat  customer_lng  \\\n",
       "47595                   12327           SP    -23.003657    -43.340759   \n",
       "47596                   12327           SP    -15.662755    -47.860392   \n",
       "\n",
       "       seller_lat  seller_lng  \n",
       "47595  -23.302318  -45.971888  \n",
       "47596  -23.302318  -45.971888  "
      ]
     },
     "execution_count": 17,
     "metadata": {},
     "output_type": "execute_result"
    }
   ],
   "source": [
    "missing_measurements =  raw_freight_df2[pd.isnull(raw_freight_df2.product_weight_g)]\n",
    "                                                  \n",
    "print(f'shape: {missing_measurements.shape}'\n",
    "      f'\\nUnique products: {missing_measurements.product_id.nunique()}')\n",
    "missing_measurements.head(2)"
   ]
  },
  {
   "cell_type": "markdown",
   "id": "3a6e2b0b",
   "metadata": {
    "hidden": true
   },
   "source": [
    "There are only two products (and 18 orders) without measurements infos\n",
    "\n",
    "Lets take a closer look at these products"
   ]
  },
  {
   "cell_type": "code",
   "execution_count": 18,
   "id": "2e9d0930",
   "metadata": {
    "hidden": true
   },
   "outputs": [
    {
     "data": {
      "text/html": [
       "<div>\n",
       "<style scoped>\n",
       "    .dataframe tbody tr th:only-of-type {\n",
       "        vertical-align: middle;\n",
       "    }\n",
       "\n",
       "    .dataframe tbody tr th {\n",
       "        vertical-align: top;\n",
       "    }\n",
       "\n",
       "    .dataframe thead th {\n",
       "        text-align: right;\n",
       "    }\n",
       "</style>\n",
       "<table border=\"1\" class=\"dataframe\">\n",
       "  <thead>\n",
       "    <tr style=\"text-align: right;\">\n",
       "      <th></th>\n",
       "      <th>product_id</th>\n",
       "      <th>product_category_name</th>\n",
       "      <th>product_name_lenght</th>\n",
       "      <th>product_description_lenght</th>\n",
       "      <th>product_photos_qty</th>\n",
       "      <th>product_weight_g</th>\n",
       "      <th>product_length_cm</th>\n",
       "      <th>product_height_cm</th>\n",
       "      <th>product_width_cm</th>\n",
       "    </tr>\n",
       "  </thead>\n",
       "  <tbody>\n",
       "    <tr>\n",
       "      <th>8578</th>\n",
       "      <td>09ff539a621711667c43eba6a3bd8466</td>\n",
       "      <td>bebes</td>\n",
       "      <td>60.0</td>\n",
       "      <td>865.0</td>\n",
       "      <td>3.0</td>\n",
       "      <td>NaN</td>\n",
       "      <td>NaN</td>\n",
       "      <td>NaN</td>\n",
       "      <td>NaN</td>\n",
       "    </tr>\n",
       "    <tr>\n",
       "      <th>18851</th>\n",
       "      <td>5eb564652db742ff8f28759cd8d2652a</td>\n",
       "      <td>NaN</td>\n",
       "      <td>NaN</td>\n",
       "      <td>NaN</td>\n",
       "      <td>NaN</td>\n",
       "      <td>NaN</td>\n",
       "      <td>NaN</td>\n",
       "      <td>NaN</td>\n",
       "      <td>NaN</td>\n",
       "    </tr>\n",
       "  </tbody>\n",
       "</table>\n",
       "</div>"
      ],
      "text/plain": [
       "                             product_id product_category_name  \\\n",
       "8578   09ff539a621711667c43eba6a3bd8466                 bebes   \n",
       "18851  5eb564652db742ff8f28759cd8d2652a                   NaN   \n",
       "\n",
       "       product_name_lenght  product_description_lenght  product_photos_qty  \\\n",
       "8578                  60.0                       865.0                 3.0   \n",
       "18851                  NaN                         NaN                 NaN   \n",
       "\n",
       "       product_weight_g  product_length_cm  product_height_cm  \\\n",
       "8578                NaN                NaN                NaN   \n",
       "18851               NaN                NaN                NaN   \n",
       "\n",
       "       product_width_cm  \n",
       "8578                NaN  \n",
       "18851               NaN  "
      ]
     },
     "execution_count": 18,
     "metadata": {},
     "output_type": "execute_result"
    }
   ],
   "source": [
    "olist_products_dataset[olist_products_dataset.product_id.isin(missing_measurements.product_id.unique().tolist())]"
   ]
  },
  {
   "cell_type": "markdown",
   "id": "f9f4c155",
   "metadata": {
    "hidden": true
   },
   "source": [
    "Looks like one of the products has no info at all, and we don't have enough info to treat the other one. Considering that we have only 18 items in that condition, we will just drop these values. "
   ]
  },
  {
   "cell_type": "code",
   "execution_count": 19,
   "id": "1b653ac5",
   "metadata": {
    "hidden": true
   },
   "outputs": [
    {
     "name": "stdout",
     "output_type": "stream",
     "text": [
      "<class 'pandas.core.frame.DataFrame'>\n",
      "Int64Index: 112632 entries, 0 to 112649\n",
      "Data columns (total 20 columns):\n",
      " #   Column                    Non-Null Count   Dtype  \n",
      "---  ------                    --------------   -----  \n",
      " 0   order_id                  112632 non-null  object \n",
      " 1   product_id                112632 non-null  object \n",
      " 2   seller_id                 112632 non-null  object \n",
      " 3   shipping_limit_date       112632 non-null  object \n",
      " 4   price                     112632 non-null  float64\n",
      " 5   freight_value             112632 non-null  float64\n",
      " 6   customer_id               112632 non-null  object \n",
      " 7   order_status              112632 non-null  object \n",
      " 8   product_weight_g          112632 non-null  float64\n",
      " 9   product_length_cm         112632 non-null  float64\n",
      " 10  product_height_cm         112632 non-null  float64\n",
      " 11  product_width_cm          112632 non-null  float64\n",
      " 12  customer_zip_code_prefix  112632 non-null  int64  \n",
      " 13  customer_state            112632 non-null  object \n",
      " 14  seller_zip_code_prefix    112632 non-null  int64  \n",
      " 15  seller_state              112632 non-null  object \n",
      " 16  customer_lat              112632 non-null  float64\n",
      " 17  customer_lng              112632 non-null  float64\n",
      " 18  seller_lat                112632 non-null  float64\n",
      " 19  seller_lng                112632 non-null  float64\n",
      "dtypes: float64(10), int64(2), object(8)\n",
      "memory usage: 18.0+ MB\n"
     ]
    }
   ],
   "source": [
    "raw_freight_df2.dropna(inplace =True)\n",
    "raw_freight_df2.info()"
   ]
  },
  {
   "cell_type": "markdown",
   "id": "de5bd21d",
   "metadata": {
    "hidden": true
   },
   "source": [
    "To finalize our treatment, we want to deal only with orders that have been delivered"
   ]
  },
  {
   "cell_type": "code",
   "execution_count": 20,
   "id": "95d0be97",
   "metadata": {
    "hidden": true
   },
   "outputs": [
    {
     "name": "stdout",
     "output_type": "stream",
     "text": [
      "possible order status: ['delivered' 'shipped' 'invoiced' 'canceled' 'processing' 'unavailable'\n",
      " 'approved']\n",
      "\n",
      "Final len: 110179\n"
     ]
    }
   ],
   "source": [
    "print(f'possible order status: {raw_freight_df2.order_status.unique()}')\n",
    "\n",
    "raw_freight_df3 = raw_freight_df2[raw_freight_df2.order_status == 'delivered']\n",
    "raw_freight_df3.reset_index(drop = True, inplace = True)\n",
    "\n",
    "print(f'\\nFinal len: {len(raw_freight_df3)}')"
   ]
  },
  {
   "cell_type": "markdown",
   "id": "a2664a98",
   "metadata": {
    "hidden": true
   },
   "source": [
    "Now that our DataFrame is merged and treated, we can clean it a little bit.\n",
    "\n",
    "We wont need all those key values. Also, we already filtered order_status, and since we have the latitudes and longitudes, we wont need the zip codes neither. \n",
    "\n",
    "Lets drop those columns and reorganize our data"
   ]
  },
  {
   "cell_type": "code",
   "execution_count": 24,
   "id": "08cf42cf",
   "metadata": {
    "hidden": true
   },
   "outputs": [],
   "source": [
    "# Before droping, lets save this base DataFrame for future usage \n",
    "\n",
    "raw_freight_df3.to_csv(r'freight_df\\raw_freight_df.csv',index = False)"
   ]
  },
  {
   "cell_type": "code",
   "execution_count": 25,
   "id": "619cb008",
   "metadata": {
    "hidden": true,
    "scrolled": false
   },
   "outputs": [
    {
     "name": "stdout",
     "output_type": "stream",
     "text": [
      "Final Shape: (110179, 12)\n"
     ]
    },
    {
     "data": {
      "text/html": [
       "<div>\n",
       "<style scoped>\n",
       "    .dataframe tbody tr th:only-of-type {\n",
       "        vertical-align: middle;\n",
       "    }\n",
       "\n",
       "    .dataframe tbody tr th {\n",
       "        vertical-align: top;\n",
       "    }\n",
       "\n",
       "    .dataframe thead th {\n",
       "        text-align: right;\n",
       "    }\n",
       "</style>\n",
       "<table border=\"1\" class=\"dataframe\">\n",
       "  <thead>\n",
       "    <tr style=\"text-align: right;\">\n",
       "      <th></th>\n",
       "      <th>freight_value</th>\n",
       "      <th>price</th>\n",
       "      <th>product_weight_g</th>\n",
       "      <th>product_length_cm</th>\n",
       "      <th>product_height_cm</th>\n",
       "      <th>product_width_cm</th>\n",
       "      <th>customer_state</th>\n",
       "      <th>seller_state</th>\n",
       "      <th>customer_lat</th>\n",
       "      <th>customer_lng</th>\n",
       "      <th>seller_lat</th>\n",
       "      <th>seller_lng</th>\n",
       "    </tr>\n",
       "  </thead>\n",
       "  <tbody>\n",
       "    <tr>\n",
       "      <th>0</th>\n",
       "      <td>13.29</td>\n",
       "      <td>58.9</td>\n",
       "      <td>650.0</td>\n",
       "      <td>28.0</td>\n",
       "      <td>9.0</td>\n",
       "      <td>14.0</td>\n",
       "      <td>RJ</td>\n",
       "      <td>SP</td>\n",
       "      <td>-21.762775</td>\n",
       "      <td>-41.309633</td>\n",
       "      <td>-22.496953</td>\n",
       "      <td>-44.127492</td>\n",
       "    </tr>\n",
       "    <tr>\n",
       "      <th>1</th>\n",
       "      <td>17.96</td>\n",
       "      <td>55.9</td>\n",
       "      <td>650.0</td>\n",
       "      <td>28.0</td>\n",
       "      <td>9.0</td>\n",
       "      <td>14.0</td>\n",
       "      <td>GO</td>\n",
       "      <td>SP</td>\n",
       "      <td>-17.884337</td>\n",
       "      <td>-51.716990</td>\n",
       "      <td>-22.496953</td>\n",
       "      <td>-44.127492</td>\n",
       "    </tr>\n",
       "    <tr>\n",
       "      <th>2</th>\n",
       "      <td>18.33</td>\n",
       "      <td>64.9</td>\n",
       "      <td>650.0</td>\n",
       "      <td>28.0</td>\n",
       "      <td>9.0</td>\n",
       "      <td>14.0</td>\n",
       "      <td>MG</td>\n",
       "      <td>SP</td>\n",
       "      <td>-19.914323</td>\n",
       "      <td>-43.975703</td>\n",
       "      <td>-22.496953</td>\n",
       "      <td>-44.127492</td>\n",
       "    </tr>\n",
       "  </tbody>\n",
       "</table>\n",
       "</div>"
      ],
      "text/plain": [
       "   freight_value  price  product_weight_g  product_length_cm  \\\n",
       "0          13.29   58.9             650.0               28.0   \n",
       "1          17.96   55.9             650.0               28.0   \n",
       "2          18.33   64.9             650.0               28.0   \n",
       "\n",
       "   product_height_cm  product_width_cm customer_state seller_state  \\\n",
       "0                9.0              14.0             RJ           SP   \n",
       "1                9.0              14.0             GO           SP   \n",
       "2                9.0              14.0             MG           SP   \n",
       "\n",
       "   customer_lat  customer_lng  seller_lat  seller_lng  \n",
       "0    -21.762775    -41.309633  -22.496953  -44.127492  \n",
       "1    -17.884337    -51.716990  -22.496953  -44.127492  \n",
       "2    -19.914323    -43.975703  -22.496953  -44.127492  "
      ]
     },
     "execution_count": 25,
     "metadata": {},
     "output_type": "execute_result"
    }
   ],
   "source": [
    "raw_freight_df4 = raw_freight_df3.copy()\n",
    "\n",
    "raw_freight_df4 = (\n",
    "    raw_freight_df4.loc[:,['freight_value','price'] + raw_freight_df.columns[7:].tolist()])\n",
    "\n",
    "raw_freight_df4.drop(['customer_zip_code_prefix','seller_zip_code_prefix','order_status'],axis = 1,inplace = True)\n",
    "\n",
    "print(f'Final Shape: {raw_freight_df4.shape}')\n",
    "raw_freight_df4.head(3)"
   ]
  },
  {
   "cell_type": "markdown",
   "id": "b5393a72",
   "metadata": {
    "heading_collapsed": true
   },
   "source": [
    "# Initial Feature Selection "
   ]
  },
  {
   "cell_type": "markdown",
   "id": "f6ed91ae",
   "metadata": {
    "hidden": true
   },
   "source": [
    "Before finalizing our base DataFrame, let's investigate whether it is worth keeping the features obtained so far. In particular, we want to analyze the features referring to the states of sellers and consumers. Because they are categorical features, they will need to be transformed before being used, and considering the number of categories (26 states) this can be problematic.\n",
    "\n",
    "***So, before moving on, let's check if it makes sense to keep the information regarding the customer_state and seller_state.***"
   ]
  },
  {
   "cell_type": "code",
   "execution_count": 26,
   "id": "c880f277",
   "metadata": {
    "hidden": true
   },
   "outputs": [
    {
     "data": {
      "text/html": [
       "<div>\n",
       "<style scoped>\n",
       "    .dataframe tbody tr th:only-of-type {\n",
       "        vertical-align: middle;\n",
       "    }\n",
       "\n",
       "    .dataframe tbody tr th {\n",
       "        vertical-align: top;\n",
       "    }\n",
       "\n",
       "    .dataframe thead th {\n",
       "        text-align: right;\n",
       "    }\n",
       "</style>\n",
       "<table border=\"1\" class=\"dataframe\">\n",
       "  <thead>\n",
       "    <tr style=\"text-align: right;\">\n",
       "      <th></th>\n",
       "      <th>freight_value</th>\n",
       "      <th>price</th>\n",
       "      <th>product_weight_g</th>\n",
       "      <th>qnt_sellers</th>\n",
       "    </tr>\n",
       "    <tr>\n",
       "      <th>seller_state</th>\n",
       "      <th></th>\n",
       "      <th></th>\n",
       "      <th></th>\n",
       "      <th></th>\n",
       "    </tr>\n",
       "  </thead>\n",
       "  <tbody>\n",
       "    <tr>\n",
       "      <th>SP</th>\n",
       "      <td>18.416496</td>\n",
       "      <td>108.274250</td>\n",
       "      <td>2059.543729</td>\n",
       "      <td>78587</td>\n",
       "    </tr>\n",
       "    <tr>\n",
       "      <th>MG</th>\n",
       "      <td>24.010372</td>\n",
       "      <td>113.665734</td>\n",
       "      <td>2753.171568</td>\n",
       "      <td>8603</td>\n",
       "    </tr>\n",
       "    <tr>\n",
       "      <th>PR</th>\n",
       "      <td>22.629892</td>\n",
       "      <td>144.963822</td>\n",
       "      <td>1982.386755</td>\n",
       "      <td>8486</td>\n",
       "    </tr>\n",
       "  </tbody>\n",
       "</table>\n",
       "</div>"
      ],
      "text/plain": [
       "              freight_value       price  product_weight_g  qnt_sellers\n",
       "seller_state                                                          \n",
       "SP                18.416496  108.274250       2059.543729        78587\n",
       "MG                24.010372  113.665734       2753.171568         8603\n",
       "PR                22.629892  144.963822       1982.386755         8486"
      ]
     },
     "metadata": {},
     "output_type": "display_data"
    },
    {
     "data": {
      "text/html": [
       "<div>\n",
       "<style scoped>\n",
       "    .dataframe tbody tr th:only-of-type {\n",
       "        vertical-align: middle;\n",
       "    }\n",
       "\n",
       "    .dataframe tbody tr th {\n",
       "        vertical-align: top;\n",
       "    }\n",
       "\n",
       "    .dataframe thead th {\n",
       "        text-align: right;\n",
       "    }\n",
       "</style>\n",
       "<table border=\"1\" class=\"dataframe\">\n",
       "  <thead>\n",
       "    <tr style=\"text-align: right;\">\n",
       "      <th></th>\n",
       "      <th>freight_value</th>\n",
       "      <th>price</th>\n",
       "      <th>product_weight_g</th>\n",
       "      <th>qnt_customers</th>\n",
       "    </tr>\n",
       "    <tr>\n",
       "      <th>customer_state</th>\n",
       "      <th></th>\n",
       "      <th></th>\n",
       "      <th></th>\n",
       "      <th></th>\n",
       "    </tr>\n",
       "  </thead>\n",
       "  <tbody>\n",
       "    <tr>\n",
       "      <th>SP</th>\n",
       "      <td>15.115557</td>\n",
       "      <td>109.109835</td>\n",
       "      <td>2035.011648</td>\n",
       "      <td>46444</td>\n",
       "    </tr>\n",
       "    <tr>\n",
       "      <th>RJ</th>\n",
       "      <td>20.911888</td>\n",
       "      <td>124.425267</td>\n",
       "      <td>2255.107269</td>\n",
       "      <td>14142</td>\n",
       "    </tr>\n",
       "    <tr>\n",
       "      <th>MG</th>\n",
       "      <td>20.627716</td>\n",
       "      <td>120.218759</td>\n",
       "      <td>2165.734531</td>\n",
       "      <td>12913</td>\n",
       "    </tr>\n",
       "  </tbody>\n",
       "</table>\n",
       "</div>"
      ],
      "text/plain": [
       "                freight_value       price  product_weight_g  qnt_customers\n",
       "customer_state                                                            \n",
       "SP                  15.115557  109.109835       2035.011648          46444\n",
       "RJ                  20.911888  124.425267       2255.107269          14142\n",
       "MG                  20.627716  120.218759       2165.734531          12913"
      ]
     },
     "metadata": {},
     "output_type": "display_data"
    }
   ],
   "source": [
    "#first, lets create a summary\n",
    "\n",
    "seller_states_summary = raw_freight_df4.groupby('seller_state').agg({'freight_value':'mean',\n",
    "                                                                     'price':'mean',\n",
    "                                                                     'product_weight_g':'mean',\n",
    "                                                                     'customer_state':'count'})\n",
    "\n",
    "seller_states_summary.sort_values(by =['customer_state'],ascending = False,inplace = True)\n",
    "seller_states_summary.rename(columns = {'customer_state':'qnt_sellers'},inplace = True)\n",
    "\n",
    "display(seller_states_summary.head(3))\n",
    "\n",
    "customer_states_summary = raw_freight_df4.groupby('customer_state').agg({'freight_value':'mean',\n",
    "                                                                         'price':'mean',\n",
    "                                                                         'product_weight_g':'mean',\n",
    "                                                                         'seller_state':'count'})\n",
    "\n",
    "customer_states_summary.sort_values(by =['seller_state'],ascending = False,inplace = True)\n",
    "customer_states_summary.rename(columns = {'seller_state':'qnt_customers'},inplace = True)\n",
    "\n",
    "display(customer_states_summary.head(3))"
   ]
  },
  {
   "cell_type": "code",
   "execution_count": 27,
   "id": "e3636b91",
   "metadata": {
    "hidden": true
   },
   "outputs": [
    {
     "data": {
      "image/png": "[encoded data removed]",
      "text/plain": [
       "<Figure size 1152x504 with 2 Axes>"
      ]
     },
     "metadata": {},
     "output_type": "display_data"
    }
   ],
   "source": [
    "# Viewing the data\n",
    "\n",
    "sns.set_style('white')\n",
    "\n",
    "fig, (ax1,ax2) = plt.subplots(2,1,figsize=(16,7))\n",
    "\n",
    "sns.barplot(y=seller_states_summary.qnt_sellers,\n",
    "            x=seller_states_summary.index,\n",
    "            color ='#1833ab',lw =3, ax = ax1)\n",
    "\n",
    "ax1.set_title(\"Quantity of Sellers x State\",fontsize = 24)\n",
    "ax1.set_ylabel(\"Qnt\",fontsize=18)\n",
    "ax1.set_xlabel(\"\",fontsize=18)\n",
    "ax1.tick_params(labelsize=18)\n",
    "\n",
    "sns.barplot(y=customer_states_summary.qnt_customers,\n",
    "            x=customer_states_summary.index,\n",
    "            color ='#1833ab',lw =3, ax = ax2)\n",
    "\n",
    "ax2.set_title(\"Quantity of Customers x State\",fontsize = 24)\n",
    "ax2.set_ylabel(\"Qnt\",fontsize=18)\n",
    "ax2.set_xlabel(\"\",fontsize=18)\n",
    "ax2.tick_params(labelsize=18)\n",
    "\n",
    "plt.subplots_adjust(hspace = 0.4)\n",
    "plt.show()"
   ]
  },
  {
   "cell_type": "markdown",
   "id": "cfd5f7cc",
   "metadata": {
    "hidden": true
   },
   "source": [
    "These graphs are very informative, we can see that most of the customers and sellers are in the state of SP. But we can not see the volume of sales between states. Lets try to fix it"
   ]
  },
  {
   "cell_type": "code",
   "execution_count": 28,
   "id": "12bda666",
   "metadata": {
    "hidden": true
   },
   "outputs": [
    {
     "name": "stdout",
     "output_type": "stream",
     "text": [
      "\n",
      "The DataFrame \"top_orders_states\" represents 89.82% of total orders\n",
      "\n",
      "Customers states included: Index(['SP', 'RJ', 'MG', 'RS', 'PR', 'SC', 'BA', 'DF', 'GO', 'ES'], dtype='object', name='customer_state')\n",
      "\n",
      "Sellers states included: Index(['SP', 'MG', 'PR', 'RJ', 'SC', 'RS', 'DF', 'BA', 'GO', 'PE'], dtype='object', name='seller_state')\n"
     ]
    }
   ],
   "source": [
    "# There are states with nearly 0 orders, so we will make our analysis bases on the top 10 states in both, customers and sellers: \n",
    "\n",
    "#geting top 10 custumers and selers states\n",
    "top_5_custumers_states = customer_states_summary.index[:10]\n",
    "top_5_sellers_states = seller_states_summary.index[:10]\n",
    "\n",
    "#filtering the DataFrame, keeping only top 10 states\n",
    "top_orders_states = raw_freight_df4[raw_freight_df4.customer_state.isin(top_5_custumers_states)]\n",
    "top_orders_states = top_orders_states[top_orders_states.seller_state.isin(top_5_sellers_states)]\n",
    "top_orders_states.reset_index(drop = True, inplace = True)\n",
    "\n",
    "#General checking \n",
    "print(f'\\nThe DataFrame \"top_orders_states\" represents'\n",
    "      f' {round(100*len(top_orders_states)/len(raw_freight_df4),2)}% of total orders'\n",
    "      f'\\n\\nCustomers states included: {top_5_custumers_states}'\n",
    "      f'\\n\\nSellers states included: {top_5_sellers_states}')"
   ]
  },
  {
   "cell_type": "code",
   "execution_count": 29,
   "id": "d3238280",
   "metadata": {
    "hidden": true
   },
   "outputs": [
    {
     "data": {
      "image/png": "[encoded data removed]",
      "text/plain": [
       "<Figure size 1008x504 with 1 Axes>"
      ]
     },
     "metadata": {},
     "output_type": "display_data"
    }
   ],
   "source": [
    "#Lets plot a Sankey diagram to see the volume of orders between states.\n",
    "\n",
    "fig, ax = plt.subplots(figsize=(14,7))\n",
    "\n",
    "ax = sankey(\n",
    "    top_orders_states['seller_state'], top_orders_states['customer_state'], aspect=40,# colorDict=colorDict,\n",
    "    leftLabels=top_orders_states.seller_state.unique().tolist(),\n",
    "    rightLabels=top_orders_states.customer_state.unique().tolist(),\n",
    "    fontsize=22\n",
    ")\n",
    "\n",
    "ax.set_title(\"Orders: Sellers x Customers States\",fontsize = 24)\n",
    "plt.show() # to display"
   ]
  },
  {
   "cell_type": "markdown",
   "id": "29c58c64",
   "metadata": {
    "hidden": true
   },
   "source": [
    "***With the Sankey diagram we can see a lot of interactions between states. This show us that, concerning to freight price, the customer state or the seller state wont really matter, a delivery from sp to a state next to it will have a very different price than a delivery from SP to a very distant state. What really matters is the combination between states, and that info we will be able to get with the distance between seller and customer.***\n",
    "\n",
    "Because of that it doesn't make sense to use dummy variables for states, the delivery distance should be a more reliable feature."
   ]
  },
  {
   "cell_type": "code",
   "execution_count": 30,
   "id": "b3a49887",
   "metadata": {
    "hidden": true
   },
   "outputs": [
    {
     "data": {
      "text/html": [
       "<div>\n",
       "<style scoped>\n",
       "    .dataframe tbody tr th:only-of-type {\n",
       "        vertical-align: middle;\n",
       "    }\n",
       "\n",
       "    .dataframe tbody tr th {\n",
       "        vertical-align: top;\n",
       "    }\n",
       "\n",
       "    .dataframe thead th {\n",
       "        text-align: right;\n",
       "    }\n",
       "</style>\n",
       "<table border=\"1\" class=\"dataframe\">\n",
       "  <thead>\n",
       "    <tr style=\"text-align: right;\">\n",
       "      <th></th>\n",
       "      <th>freight_value</th>\n",
       "      <th>price</th>\n",
       "      <th>product_weight_g</th>\n",
       "      <th>product_length_cm</th>\n",
       "      <th>product_height_cm</th>\n",
       "      <th>product_width_cm</th>\n",
       "      <th>customer_lat</th>\n",
       "      <th>customer_lng</th>\n",
       "      <th>seller_lat</th>\n",
       "      <th>seller_lng</th>\n",
       "    </tr>\n",
       "  </thead>\n",
       "  <tbody>\n",
       "    <tr>\n",
       "      <th>0</th>\n",
       "      <td>13.29</td>\n",
       "      <td>58.9</td>\n",
       "      <td>650.0</td>\n",
       "      <td>28.0</td>\n",
       "      <td>9.0</td>\n",
       "      <td>14.0</td>\n",
       "      <td>-21.762775</td>\n",
       "      <td>-41.309633</td>\n",
       "      <td>-22.496953</td>\n",
       "      <td>-44.127492</td>\n",
       "    </tr>\n",
       "    <tr>\n",
       "      <th>1</th>\n",
       "      <td>17.96</td>\n",
       "      <td>55.9</td>\n",
       "      <td>650.0</td>\n",
       "      <td>28.0</td>\n",
       "      <td>9.0</td>\n",
       "      <td>14.0</td>\n",
       "      <td>-17.884337</td>\n",
       "      <td>-51.716990</td>\n",
       "      <td>-22.496953</td>\n",
       "      <td>-44.127492</td>\n",
       "    </tr>\n",
       "    <tr>\n",
       "      <th>2</th>\n",
       "      <td>18.33</td>\n",
       "      <td>64.9</td>\n",
       "      <td>650.0</td>\n",
       "      <td>28.0</td>\n",
       "      <td>9.0</td>\n",
       "      <td>14.0</td>\n",
       "      <td>-19.914323</td>\n",
       "      <td>-43.975703</td>\n",
       "      <td>-22.496953</td>\n",
       "      <td>-44.127492</td>\n",
       "    </tr>\n",
       "  </tbody>\n",
       "</table>\n",
       "</div>"
      ],
      "text/plain": [
       "   freight_value  price  product_weight_g  product_length_cm  \\\n",
       "0          13.29   58.9             650.0               28.0   \n",
       "1          17.96   55.9             650.0               28.0   \n",
       "2          18.33   64.9             650.0               28.0   \n",
       "\n",
       "   product_height_cm  product_width_cm  customer_lat  customer_lng  \\\n",
       "0                9.0              14.0    -21.762775    -41.309633   \n",
       "1                9.0              14.0    -17.884337    -51.716990   \n",
       "2                9.0              14.0    -19.914323    -43.975703   \n",
       "\n",
       "   seller_lat  seller_lng  \n",
       "0  -22.496953  -44.127492  \n",
       "1  -22.496953  -44.127492  \n",
       "2  -22.496953  -44.127492  "
      ]
     },
     "execution_count": 30,
     "metadata": {},
     "output_type": "execute_result"
    }
   ],
   "source": [
    "raw_freight_df_final = raw_freight_df4.drop(['customer_state','seller_state'],axis = 1)\n",
    "\n",
    "raw_freight_df_final.head(3)"
   ]
  },
  {
   "cell_type": "code",
   "execution_count": 31,
   "id": "3fdbd1da",
   "metadata": {
    "hidden": true
   },
   "outputs": [],
   "source": [
    "#lets save the df\n",
    "\n",
    "raw_freight_df_final.to_csv(r'freight_df\\olist_freight_base_df.csv',index = False)"
   ]
  }
 ],
 "metadata": {
  "kernelspec": {
   "display_name": "Python 3 (ipykernel)",
   "language": "python",
   "name": "python3"
  },
  "language_info": {
   "codemirror_mode": {
    "name": "ipython",
    "version": 3
   },
   "file_extension": ".py",
   "mimetype": "text/x-python",
   "name": "python",
   "nbconvert_exporter": "python",
   "pygments_lexer": "ipython3",
   "version": "3.9.7"
  },
  "toc": {
   "base_numbering": 1,
   "nav_menu": {},
   "number_sections": true,
   "sideBar": true,
   "skip_h1_title": false,
   "title_cell": "Table of Contents",
   "title_sidebar": "Contents",
   "toc_cell": false,
   "toc_position": {},
   "toc_section_display": true,
   "toc_window_display": false
  },
  "varInspector": {
   "cols": {
    "lenName": 16,
    "lenType": 16,
    "lenVar": 40
   },
   "kernels_config": {
    "python": {
     "delete_cmd_postfix": "",
     "delete_cmd_prefix": "del ",
     "library": "var_list.py",
     "varRefreshCmd": "print(var_dic_list())"
    },
    "r": {
     "delete_cmd_postfix": ") ",
     "delete_cmd_prefix": "rm(",
     "library": "var_list.r",
     "varRefreshCmd": "cat(var_dic_list()) "
    }
   },
   "types_to_exclude": [
    "module",
    "function",
    "builtin_function_or_method",
    "instance",
    "_Feature"
   ],
   "window_display": false
  }
 },
 "nbformat": 4,
 "nbformat_minor": 5
}
