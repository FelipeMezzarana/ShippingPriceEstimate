{
 "cells": [
  {
   "cell_type": "markdown",
   "id": "0a82e6b2",
   "metadata": {
    "heading_collapsed": true
   },
   "source": [
    "# Libs and raw DataFrame"
   ]
  },
  {
   "cell_type": "code",
   "execution_count": 67,
   "id": "beb7a406",
   "metadata": {
    "hidden": true
   },
   "outputs": [],
   "source": [
    "import pandas as pd\n",
    "import math as mt\n",
    "from math import radians, cos, sin, asin, sqrt\n",
    "import numpy as np\n",
    "import os\n",
    "import re\n",
    "import matplotlib.pyplot as plt\n",
    "import seaborn as sns\n",
    "sns.set()\n",
    "from time import perf_counter\n",
    "from sklearn.feature_selection import f_regression \n",
    "from statsmodels.stats.outliers_influence import variance_inflation_factor\n",
    "from sklearn.metrics import mean_absolute_error\n",
    "from sklearn.metrics import mean_squared_error\n",
    "from sklearn.ensemble import RandomForestRegressor\n",
    "from sklearn.model_selection import cross_validate\n",
    "from xgboost import XGBRegressor\n",
    "import pickle"
   ]
  },
  {
   "cell_type": "markdown",
   "id": "feff60db",
   "metadata": {
    "hidden": true
   },
   "source": [
    "We already created and treated our base df. We chose to separate the creation of the df and the rest of the project to make things easier to understand. But all the steps to do so can be found in the notebook 'creating_and_treating_df' \n",
    "\n",
    "Here, we will just load the file "
   ]
  },
  {
   "cell_type": "code",
   "execution_count": 3,
   "id": "20d0185c",
   "metadata": {
    "hidden": true
   },
   "outputs": [
    {
     "data": {
      "text/html": [
       "<div>\n",
       "<style scoped>\n",
       "    .dataframe tbody tr th:only-of-type {\n",
       "        vertical-align: middle;\n",
       "    }\n",
       "\n",
       "    .dataframe tbody tr th {\n",
       "        vertical-align: top;\n",
       "    }\n",
       "\n",
       "    .dataframe thead th {\n",
       "        text-align: right;\n",
       "    }\n",
       "</style>\n",
       "<table border=\"1\" class=\"dataframe\">\n",
       "  <thead>\n",
       "    <tr style=\"text-align: right;\">\n",
       "      <th></th>\n",
       "      <th>freight_value</th>\n",
       "      <th>price</th>\n",
       "      <th>product_weight_g</th>\n",
       "      <th>product_length_cm</th>\n",
       "      <th>product_height_cm</th>\n",
       "      <th>product_width_cm</th>\n",
       "      <th>customer_lat</th>\n",
       "      <th>customer_lng</th>\n",
       "      <th>seller_lat</th>\n",
       "      <th>seller_lng</th>\n",
       "    </tr>\n",
       "  </thead>\n",
       "  <tbody>\n",
       "    <tr>\n",
       "      <th>0</th>\n",
       "      <td>13.29</td>\n",
       "      <td>58.9</td>\n",
       "      <td>650.0</td>\n",
       "      <td>28.0</td>\n",
       "      <td>9.0</td>\n",
       "      <td>14.0</td>\n",
       "      <td>-21.762775</td>\n",
       "      <td>-41.309633</td>\n",
       "      <td>-22.496953</td>\n",
       "      <td>-44.127492</td>\n",
       "    </tr>\n",
       "    <tr>\n",
       "      <th>1</th>\n",
       "      <td>17.96</td>\n",
       "      <td>55.9</td>\n",
       "      <td>650.0</td>\n",
       "      <td>28.0</td>\n",
       "      <td>9.0</td>\n",
       "      <td>14.0</td>\n",
       "      <td>-17.884337</td>\n",
       "      <td>-51.716990</td>\n",
       "      <td>-22.496953</td>\n",
       "      <td>-44.127492</td>\n",
       "    </tr>\n",
       "    <tr>\n",
       "      <th>2</th>\n",
       "      <td>18.33</td>\n",
       "      <td>64.9</td>\n",
       "      <td>650.0</td>\n",
       "      <td>28.0</td>\n",
       "      <td>9.0</td>\n",
       "      <td>14.0</td>\n",
       "      <td>-19.914323</td>\n",
       "      <td>-43.975703</td>\n",
       "      <td>-22.496953</td>\n",
       "      <td>-44.127492</td>\n",
       "    </tr>\n",
       "  </tbody>\n",
       "</table>\n",
       "</div>"
      ],
      "text/plain": [
       "   freight_value  price  product_weight_g  product_length_cm  \\\n",
       "0          13.29   58.9             650.0               28.0   \n",
       "1          17.96   55.9             650.0               28.0   \n",
       "2          18.33   64.9             650.0               28.0   \n",
       "\n",
       "   product_height_cm  product_width_cm  customer_lat  customer_lng  \\\n",
       "0                9.0              14.0    -21.762775    -41.309633   \n",
       "1                9.0              14.0    -17.884337    -51.716990   \n",
       "2                9.0              14.0    -19.914323    -43.975703   \n",
       "\n",
       "   seller_lat  seller_lng  \n",
       "0  -22.496953  -44.127492  \n",
       "1  -22.496953  -44.127492  \n",
       "2  -22.496953  -44.127492  "
      ]
     },
     "execution_count": 3,
     "metadata": {},
     "output_type": "execute_result"
    }
   ],
   "source": [
    "#loading our df\n",
    "\n",
    "freight_df = pd.read_csv('freight_df\\olist_freight_base_df.csv')\n",
    "\n",
    "freight_df.head(3)"
   ]
  },
  {
   "cell_type": "markdown",
   "id": "0bdb83a6",
   "metadata": {
    "heading_collapsed": true
   },
   "source": [
    "# Feature Engineering"
   ]
  },
  {
   "cell_type": "markdown",
   "id": "9f002085",
   "metadata": {
    "hidden": true
   },
   "source": [
    "We could start this project investigating the data, correlation between variables, how good our features are, etc. But considering our DataFrame and goal, it is very clear that we need to create at least two new features: \n",
    "\n",
    "+ The delivery distance based on the coordinates of customers and sellers\n",
    "+ The volume of the package based on the measurements \n",
    "\n",
    "So we chose to first create the obvious features, and later check the rest of the data.\n",
    "\n",
    "Please note that we intend to use an Tree-based model, so we wont need to apply any normalization "
   ]
  },
  {
   "cell_type": "code",
   "execution_count": 4,
   "id": "bcc691b9",
   "metadata": {
    "hidden": true
   },
   "outputs": [],
   "source": [
    "#Lets start with the delivery distance\n",
    "#We can find it using Haversine formula\n",
    "\n",
    "def coordinates_distance(df):\n",
    "    #coordinates in radians \n",
    "    lng_seller = radians(df.seller_lng)\n",
    "    lat_seller = radians(df.seller_lat)\n",
    "    lng_customer = radians(df.customer_lng)\n",
    "    lat_customer = radians(df.customer_lat)\n",
    "    #variables for use in formula \n",
    "    dist_lat = lat_customer - lat_seller\n",
    "    dist_lng = lng_customer - lng_seller\n",
    "    \n",
    "    # Radius of earth in kilometers.\n",
    "    r = 6371\n",
    "    # Haversine formula\n",
    "    h = sin(dist_lat/2)**2 + cos(lat_seller)*cos(lat_customer)*sin(dist_lng / 2)**2\n",
    "    d = 2*r*asin(sqrt(h))\n",
    "    \n",
    "    df['delivery_distance'] = d\n",
    "    return df"
   ]
  },
  {
   "cell_type": "code",
   "execution_count": 5,
   "id": "1c353fb5",
   "metadata": {
    "hidden": true
   },
   "outputs": [
    {
     "data": {
      "text/html": [
       "<div>\n",
       "<style scoped>\n",
       "    .dataframe tbody tr th:only-of-type {\n",
       "        vertical-align: middle;\n",
       "    }\n",
       "\n",
       "    .dataframe tbody tr th {\n",
       "        vertical-align: top;\n",
       "    }\n",
       "\n",
       "    .dataframe thead th {\n",
       "        text-align: right;\n",
       "    }\n",
       "</style>\n",
       "<table border=\"1\" class=\"dataframe\">\n",
       "  <thead>\n",
       "    <tr style=\"text-align: right;\">\n",
       "      <th></th>\n",
       "      <th>freight_value</th>\n",
       "      <th>price</th>\n",
       "      <th>product_weight_g</th>\n",
       "      <th>product_length_cm</th>\n",
       "      <th>product_height_cm</th>\n",
       "      <th>product_width_cm</th>\n",
       "      <th>customer_lat</th>\n",
       "      <th>customer_lng</th>\n",
       "      <th>seller_lat</th>\n",
       "      <th>seller_lng</th>\n",
       "      <th>delivery_distance</th>\n",
       "    </tr>\n",
       "  </thead>\n",
       "  <tbody>\n",
       "    <tr>\n",
       "      <th>67938</th>\n",
       "      <td>8.72</td>\n",
       "      <td>20.00</td>\n",
       "      <td>426.0</td>\n",
       "      <td>24.0</td>\n",
       "      <td>4.0</td>\n",
       "      <td>28.0</td>\n",
       "      <td>-23.665842</td>\n",
       "      <td>-46.736566</td>\n",
       "      <td>-23.535169</td>\n",
       "      <td>-46.497268</td>\n",
       "      <td>28.384232</td>\n",
       "    </tr>\n",
       "    <tr>\n",
       "      <th>29933</th>\n",
       "      <td>18.38</td>\n",
       "      <td>39.99</td>\n",
       "      <td>350.0</td>\n",
       "      <td>25.0</td>\n",
       "      <td>8.0</td>\n",
       "      <td>19.0</td>\n",
       "      <td>-22.319460</td>\n",
       "      <td>-46.325910</td>\n",
       "      <td>-21.757321</td>\n",
       "      <td>-48.829744</td>\n",
       "      <td>265.528388</td>\n",
       "    </tr>\n",
       "    <tr>\n",
       "      <th>99322</th>\n",
       "      <td>12.25</td>\n",
       "      <td>149.90</td>\n",
       "      <td>1800.0</td>\n",
       "      <td>30.0</td>\n",
       "      <td>40.0</td>\n",
       "      <td>30.0</td>\n",
       "      <td>-23.579039</td>\n",
       "      <td>-46.621956</td>\n",
       "      <td>-23.573101</td>\n",
       "      <td>-46.415396</td>\n",
       "      <td>21.061576</td>\n",
       "    </tr>\n",
       "  </tbody>\n",
       "</table>\n",
       "</div>"
      ],
      "text/plain": [
       "       freight_value   price  product_weight_g  product_length_cm  \\\n",
       "67938           8.72   20.00             426.0               24.0   \n",
       "29933          18.38   39.99             350.0               25.0   \n",
       "99322          12.25  149.90            1800.0               30.0   \n",
       "\n",
       "       product_height_cm  product_width_cm  customer_lat  customer_lng  \\\n",
       "67938                4.0              28.0    -23.665842    -46.736566   \n",
       "29933                8.0              19.0    -22.319460    -46.325910   \n",
       "99322               40.0              30.0    -23.579039    -46.621956   \n",
       "\n",
       "       seller_lat  seller_lng  delivery_distance  \n",
       "67938  -23.535169  -46.497268          28.384232  \n",
       "29933  -21.757321  -48.829744         265.528388  \n",
       "99322  -23.573101  -46.415396          21.061576  "
      ]
     },
     "execution_count": 5,
     "metadata": {},
     "output_type": "execute_result"
    }
   ],
   "source": [
    "freight_df2 = freight_df.apply(coordinates_distance,axis =1)\n",
    "\n",
    "freight_df2.sample(3)"
   ]
  },
  {
   "cell_type": "code",
   "execution_count": 6,
   "id": "f5cb3e9d",
   "metadata": {
    "hidden": true
   },
   "outputs": [
    {
     "data": {
      "text/html": [
       "<div>\n",
       "<style scoped>\n",
       "    .dataframe tbody tr th:only-of-type {\n",
       "        vertical-align: middle;\n",
       "    }\n",
       "\n",
       "    .dataframe tbody tr th {\n",
       "        vertical-align: top;\n",
       "    }\n",
       "\n",
       "    .dataframe thead th {\n",
       "        text-align: right;\n",
       "    }\n",
       "</style>\n",
       "<table border=\"1\" class=\"dataframe\">\n",
       "  <thead>\n",
       "    <tr style=\"text-align: right;\">\n",
       "      <th></th>\n",
       "      <th>freight_value</th>\n",
       "      <th>price</th>\n",
       "      <th>product_weight_g</th>\n",
       "      <th>product_length_cm</th>\n",
       "      <th>product_height_cm</th>\n",
       "      <th>product_width_cm</th>\n",
       "      <th>customer_lat</th>\n",
       "      <th>customer_lng</th>\n",
       "      <th>seller_lat</th>\n",
       "      <th>seller_lng</th>\n",
       "      <th>delivery_distance</th>\n",
       "      <th>product_volume</th>\n",
       "    </tr>\n",
       "  </thead>\n",
       "  <tbody>\n",
       "    <tr>\n",
       "      <th>95738</th>\n",
       "      <td>13.48</td>\n",
       "      <td>82.99</td>\n",
       "      <td>500.0</td>\n",
       "      <td>25.0</td>\n",
       "      <td>25.0</td>\n",
       "      <td>25.0</td>\n",
       "      <td>-21.530164</td>\n",
       "      <td>-42.640899</td>\n",
       "      <td>-23.609452</td>\n",
       "      <td>-46.917533</td>\n",
       "      <td>496.222837</td>\n",
       "      <td>15625.0</td>\n",
       "    </tr>\n",
       "  </tbody>\n",
       "</table>\n",
       "</div>"
      ],
      "text/plain": [
       "       freight_value  price  product_weight_g  product_length_cm  \\\n",
       "95738          13.48  82.99             500.0               25.0   \n",
       "\n",
       "       product_height_cm  product_width_cm  customer_lat  customer_lng  \\\n",
       "95738               25.0              25.0    -21.530164    -42.640899   \n",
       "\n",
       "       seller_lat  seller_lng  delivery_distance  product_volume  \n",
       "95738  -23.609452  -46.917533         496.222837         15625.0  "
      ]
     },
     "execution_count": 6,
     "metadata": {},
     "output_type": "execute_result"
    }
   ],
   "source": [
    "#the volume will be esier \n",
    "\n",
    "freight_df2['product_volume'] = (freight_df2['product_length_cm']*\n",
    "                                 freight_df2['product_height_cm']*\n",
    "                                 freight_df2['product_width_cm'])\n",
    "\n",
    "freight_df2.sample(1)"
   ]
  },
  {
   "cell_type": "markdown",
   "id": "b2d1bf3f",
   "metadata": {
    "heading_collapsed": true
   },
   "source": [
    "# Feature Selection "
   ]
  },
  {
   "cell_type": "markdown",
   "id": "060ce4e0",
   "metadata": {
    "hidden": true
   },
   "source": [
    "First of all, we can drop all the coordinates infos, used to create the delivery distance, its clear that those features wont be useful."
   ]
  },
  {
   "cell_type": "code",
   "execution_count": 8,
   "id": "a9ca84b0",
   "metadata": {
    "hidden": true
   },
   "outputs": [
    {
     "data": {
      "text/html": [
       "<div>\n",
       "<style scoped>\n",
       "    .dataframe tbody tr th:only-of-type {\n",
       "        vertical-align: middle;\n",
       "    }\n",
       "\n",
       "    .dataframe tbody tr th {\n",
       "        vertical-align: top;\n",
       "    }\n",
       "\n",
       "    .dataframe thead th {\n",
       "        text-align: right;\n",
       "    }\n",
       "</style>\n",
       "<table border=\"1\" class=\"dataframe\">\n",
       "  <thead>\n",
       "    <tr style=\"text-align: right;\">\n",
       "      <th></th>\n",
       "      <th>freight_value</th>\n",
       "      <th>price</th>\n",
       "      <th>product_weight_g</th>\n",
       "      <th>product_length_cm</th>\n",
       "      <th>product_height_cm</th>\n",
       "      <th>product_width_cm</th>\n",
       "      <th>delivery_distance</th>\n",
       "      <th>product_volume</th>\n",
       "    </tr>\n",
       "  </thead>\n",
       "  <tbody>\n",
       "    <tr>\n",
       "      <th>0</th>\n",
       "      <td>13.29</td>\n",
       "      <td>58.9</td>\n",
       "      <td>650.0</td>\n",
       "      <td>28.0</td>\n",
       "      <td>9.0</td>\n",
       "      <td>14.0</td>\n",
       "      <td>301.504681</td>\n",
       "      <td>3528.0</td>\n",
       "    </tr>\n",
       "  </tbody>\n",
       "</table>\n",
       "</div>"
      ],
      "text/plain": [
       "   freight_value  price  product_weight_g  product_length_cm  \\\n",
       "0          13.29   58.9             650.0               28.0   \n",
       "\n",
       "   product_height_cm  product_width_cm  delivery_distance  product_volume  \n",
       "0                9.0              14.0         301.504681          3528.0  "
      ]
     },
     "execution_count": 8,
     "metadata": {},
     "output_type": "execute_result"
    }
   ],
   "source": [
    "freight_df3 = freight_df2.drop(['customer_lat','customer_lng','seller_lat','seller_lng'],axis = 1)\n",
    "\n",
    "freight_df3.head(1)"
   ]
  },
  {
   "cell_type": "markdown",
   "id": "8f9a183a",
   "metadata": {
    "hidden": true
   },
   "source": [
    "For the next steps we will need to start checking correlations and understand which features we should keep, which we should transform and which we should drop. "
   ]
  },
  {
   "cell_type": "code",
   "execution_count": 10,
   "id": "989232e8",
   "metadata": {
    "hidden": true
   },
   "outputs": [
    {
     "data": {
      "text/html": [
       "<div>\n",
       "<style scoped>\n",
       "    .dataframe tbody tr th:only-of-type {\n",
       "        vertical-align: middle;\n",
       "    }\n",
       "\n",
       "    .dataframe tbody tr th {\n",
       "        vertical-align: top;\n",
       "    }\n",
       "\n",
       "    .dataframe thead th {\n",
       "        text-align: right;\n",
       "    }\n",
       "</style>\n",
       "<table border=\"1\" class=\"dataframe\">\n",
       "  <thead>\n",
       "    <tr style=\"text-align: right;\">\n",
       "      <th></th>\n",
       "      <th>freight_value</th>\n",
       "      <th>price</th>\n",
       "      <th>product_weight_g</th>\n",
       "      <th>product_length_cm</th>\n",
       "      <th>product_height_cm</th>\n",
       "      <th>product_width_cm</th>\n",
       "      <th>delivery_distance</th>\n",
       "      <th>product_volume</th>\n",
       "    </tr>\n",
       "  </thead>\n",
       "  <tbody>\n",
       "    <tr>\n",
       "      <th>freight_value</th>\n",
       "      <td>1.000000</td>\n",
       "      <td>0.412854</td>\n",
       "      <td>0.610279</td>\n",
       "      <td>0.306303</td>\n",
       "      <td>0.389534</td>\n",
       "      <td>0.321977</td>\n",
       "      <td>0.392030</td>\n",
       "      <td>0.583328</td>\n",
       "    </tr>\n",
       "    <tr>\n",
       "      <th>price</th>\n",
       "      <td>0.412854</td>\n",
       "      <td>1.000000</td>\n",
       "      <td>0.338376</td>\n",
       "      <td>0.143939</td>\n",
       "      <td>0.222195</td>\n",
       "      <td>0.172972</td>\n",
       "      <td>0.086777</td>\n",
       "      <td>0.298765</td>\n",
       "    </tr>\n",
       "    <tr>\n",
       "      <th>product_weight_g</th>\n",
       "      <td>0.610279</td>\n",
       "      <td>0.338376</td>\n",
       "      <td>1.000000</td>\n",
       "      <td>0.460138</td>\n",
       "      <td>0.584121</td>\n",
       "      <td>0.507091</td>\n",
       "      <td>-0.006828</td>\n",
       "      <td>0.805322</td>\n",
       "    </tr>\n",
       "    <tr>\n",
       "      <th>product_length_cm</th>\n",
       "      <td>0.306303</td>\n",
       "      <td>0.143939</td>\n",
       "      <td>0.460138</td>\n",
       "      <td>1.000000</td>\n",
       "      <td>0.191636</td>\n",
       "      <td>0.532845</td>\n",
       "      <td>-0.003078</td>\n",
       "      <td>0.540822</td>\n",
       "    </tr>\n",
       "    <tr>\n",
       "      <th>product_height_cm</th>\n",
       "      <td>0.389534</td>\n",
       "      <td>0.222195</td>\n",
       "      <td>0.584121</td>\n",
       "      <td>0.191636</td>\n",
       "      <td>1.000000</td>\n",
       "      <td>0.279977</td>\n",
       "      <td>0.000629</td>\n",
       "      <td>0.723857</td>\n",
       "    </tr>\n",
       "    <tr>\n",
       "      <th>product_width_cm</th>\n",
       "      <td>0.321977</td>\n",
       "      <td>0.172972</td>\n",
       "      <td>0.507091</td>\n",
       "      <td>0.532845</td>\n",
       "      <td>0.279977</td>\n",
       "      <td>1.000000</td>\n",
       "      <td>-0.018467</td>\n",
       "      <td>0.625037</td>\n",
       "    </tr>\n",
       "    <tr>\n",
       "      <th>delivery_distance</th>\n",
       "      <td>0.392030</td>\n",
       "      <td>0.086777</td>\n",
       "      <td>-0.006828</td>\n",
       "      <td>-0.003078</td>\n",
       "      <td>0.000629</td>\n",
       "      <td>-0.018467</td>\n",
       "      <td>1.000000</td>\n",
       "      <td>-0.010036</td>\n",
       "    </tr>\n",
       "    <tr>\n",
       "      <th>product_volume</th>\n",
       "      <td>0.583328</td>\n",
       "      <td>0.298765</td>\n",
       "      <td>0.805322</td>\n",
       "      <td>0.540822</td>\n",
       "      <td>0.723857</td>\n",
       "      <td>0.625037</td>\n",
       "      <td>-0.010036</td>\n",
       "      <td>1.000000</td>\n",
       "    </tr>\n",
       "  </tbody>\n",
       "</table>\n",
       "</div>"
      ],
      "text/plain": [
       "                   freight_value     price  product_weight_g  \\\n",
       "freight_value           1.000000  0.412854          0.610279   \n",
       "price                   0.412854  1.000000          0.338376   \n",
       "product_weight_g        0.610279  0.338376          1.000000   \n",
       "product_length_cm       0.306303  0.143939          0.460138   \n",
       "product_height_cm       0.389534  0.222195          0.584121   \n",
       "product_width_cm        0.321977  0.172972          0.507091   \n",
       "delivery_distance       0.392030  0.086777         -0.006828   \n",
       "product_volume          0.583328  0.298765          0.805322   \n",
       "\n",
       "                   product_length_cm  product_height_cm  product_width_cm  \\\n",
       "freight_value               0.306303           0.389534          0.321977   \n",
       "price                       0.143939           0.222195          0.172972   \n",
       "product_weight_g            0.460138           0.584121          0.507091   \n",
       "product_length_cm           1.000000           0.191636          0.532845   \n",
       "product_height_cm           0.191636           1.000000          0.279977   \n",
       "product_width_cm            0.532845           0.279977          1.000000   \n",
       "delivery_distance          -0.003078           0.000629         -0.018467   \n",
       "product_volume              0.540822           0.723857          0.625037   \n",
       "\n",
       "                   delivery_distance  product_volume  \n",
       "freight_value               0.392030        0.583328  \n",
       "price                       0.086777        0.298765  \n",
       "product_weight_g           -0.006828        0.805322  \n",
       "product_length_cm          -0.003078        0.540822  \n",
       "product_height_cm           0.000629        0.723857  \n",
       "product_width_cm           -0.018467        0.625037  \n",
       "delivery_distance           1.000000       -0.010036  \n",
       "product_volume             -0.010036        1.000000  "
      ]
     },
     "execution_count": 10,
     "metadata": {},
     "output_type": "execute_result"
    }
   ],
   "source": [
    "#lets take a quick look at the correlations \n",
    "\n",
    "freight_df3.corr()"
   ]
  },
  {
   "cell_type": "markdown",
   "id": "0465f7f6",
   "metadata": {
    "hidden": true
   },
   "source": [
    "Neither of our features shows a high correlation with the freight price, in other hand they all shows a relationship with it. This means that separately, the features will have little influence on the freight price, but together they can fit a good model."
   ]
  },
  {
   "cell_type": "markdown",
   "id": "1473a21e",
   "metadata": {
    "hidden": true
   },
   "source": [
    "**f_regression** \n",
    "\n",
    "To further check the significance of features we will use f_regression.\n",
    "\n",
    "f_regression will return F-statistic and p-values associated with the F-statistic. \n",
    "\n",
    "+ F-statistic: significance of each feature in improving the model.\n",
    "+ p-values: if <0.005 feature is relevant"
   ]
  },
  {
   "cell_type": "code",
   "execution_count": 81,
   "id": "2a51b371",
   "metadata": {
    "hidden": true
   },
   "outputs": [
    {
     "data": {
      "text/html": [
       "<div>\n",
       "<style scoped>\n",
       "    .dataframe tbody tr th:only-of-type {\n",
       "        vertical-align: middle;\n",
       "    }\n",
       "\n",
       "    .dataframe tbody tr th {\n",
       "        vertical-align: top;\n",
       "    }\n",
       "\n",
       "    .dataframe thead th {\n",
       "        text-align: right;\n",
       "    }\n",
       "</style>\n",
       "<table border=\"1\" class=\"dataframe\">\n",
       "  <thead>\n",
       "    <tr style=\"text-align: right;\">\n",
       "      <th></th>\n",
       "      <th>Feature</th>\n",
       "      <th>f_statistic</th>\n",
       "      <th>p_values</th>\n",
       "    </tr>\n",
       "  </thead>\n",
       "  <tbody>\n",
       "    <tr>\n",
       "      <th>0</th>\n",
       "      <td>price</td>\n",
       "      <td>22638.166537</td>\n",
       "      <td>0.0</td>\n",
       "    </tr>\n",
       "    <tr>\n",
       "      <th>1</th>\n",
       "      <td>product_weight_g</td>\n",
       "      <td>65387.056125</td>\n",
       "      <td>0.0</td>\n",
       "    </tr>\n",
       "    <tr>\n",
       "      <th>2</th>\n",
       "      <td>product_length_cm</td>\n",
       "      <td>11407.228420</td>\n",
       "      <td>0.0</td>\n",
       "    </tr>\n",
       "    <tr>\n",
       "      <th>3</th>\n",
       "      <td>product_height_cm</td>\n",
       "      <td>19708.367512</td>\n",
       "      <td>0.0</td>\n",
       "    </tr>\n",
       "    <tr>\n",
       "      <th>4</th>\n",
       "      <td>product_width_cm</td>\n",
       "      <td>12742.992808</td>\n",
       "      <td>0.0</td>\n",
       "    </tr>\n",
       "    <tr>\n",
       "      <th>5</th>\n",
       "      <td>delivery_distance</td>\n",
       "      <td>20007.758599</td>\n",
       "      <td>0.0</td>\n",
       "    </tr>\n",
       "    <tr>\n",
       "      <th>6</th>\n",
       "      <td>product_volume</td>\n",
       "      <td>56826.630421</td>\n",
       "      <td>0.0</td>\n",
       "    </tr>\n",
       "  </tbody>\n",
       "</table>\n",
       "</div>"
      ],
      "text/plain": [
       "             Feature   f_statistic  p_values\n",
       "0              price  22638.166537       0.0\n",
       "1   product_weight_g  65387.056125       0.0\n",
       "2  product_length_cm  11407.228420       0.0\n",
       "3  product_height_cm  19708.367512       0.0\n",
       "4   product_width_cm  12742.992808       0.0\n",
       "5  delivery_distance  20007.758599       0.0\n",
       "6     product_volume  56826.630421       0.0"
      ]
     },
     "execution_count": 81,
     "metadata": {},
     "output_type": "execute_result"
    }
   ],
   "source": [
    "#f_regression\n",
    "\n",
    "x = freight_df3[freight_df3.columns[1:].tolist()]\n",
    "y = freight_df3['freight_value']\n",
    "\n",
    "f_stats_values = f_regression(x,y)[0]\n",
    "p_values = f_regression(x,y)[1] #para obter somente os p_values\n",
    "\n",
    "f_regression_df = pd.DataFrame({'Feature':freight_df3.columns[1:].tolist(),\n",
    "                                'f_statistic' : f_stats_values,\n",
    "                                'p_values':p_values\n",
    "                               })\n",
    "\n",
    "f_regression_df"
   ]
  },
  {
   "cell_type": "markdown",
   "id": "96248b24",
   "metadata": {
    "hidden": true
   },
   "source": [
    "All the P=values = 0. This means that all features are relevant. But we can also see that the measurements features used to create volume (length, height and width) are the less relevant. \n",
    "\n",
    "Also, this three features are obviously related with volume, which means they can be redundant."
   ]
  },
  {
   "cell_type": "markdown",
   "id": "346da88e",
   "metadata": {
    "hidden": true
   },
   "source": [
    "**Detecting Multicollinearity with VIF**\n",
    "\n",
    "to check feature redundancy we will use a technique to detect multicollinearity, the VIF.\n",
    "\n",
    "+ A VIF of 1 (the minimum possible VIF) means the tested predictor is not correlated with the other predictors.\n",
    "+ Generally, a VIF above 5 indicates a high multicollinearity. "
   ]
  },
  {
   "cell_type": "code",
   "execution_count": 88,
   "id": "a99807e0",
   "metadata": {
    "hidden": true
   },
   "outputs": [],
   "source": [
    "X_variables = freight_df3.drop(['freight_value'],axis = 1)"
   ]
  },
  {
   "cell_type": "code",
   "execution_count": 89,
   "id": "a46ec9b9",
   "metadata": {
    "hidden": true
   },
   "outputs": [
    {
     "data": {
      "text/html": [
       "<div>\n",
       "<style scoped>\n",
       "    .dataframe tbody tr th:only-of-type {\n",
       "        vertical-align: middle;\n",
       "    }\n",
       "\n",
       "    .dataframe tbody tr th {\n",
       "        vertical-align: top;\n",
       "    }\n",
       "\n",
       "    .dataframe thead th {\n",
       "        text-align: right;\n",
       "    }\n",
       "</style>\n",
       "<table border=\"1\" class=\"dataframe\">\n",
       "  <thead>\n",
       "    <tr style=\"text-align: right;\">\n",
       "      <th></th>\n",
       "      <th>feature</th>\n",
       "      <th>VIF</th>\n",
       "    </tr>\n",
       "  </thead>\n",
       "  <tbody>\n",
       "    <tr>\n",
       "      <th>0</th>\n",
       "      <td>price</td>\n",
       "      <td>1.611811</td>\n",
       "    </tr>\n",
       "    <tr>\n",
       "      <th>1</th>\n",
       "      <td>product_weight_g</td>\n",
       "      <td>3.854915</td>\n",
       "    </tr>\n",
       "    <tr>\n",
       "      <th>2</th>\n",
       "      <td>product_length_cm</td>\n",
       "      <td>5.647449</td>\n",
       "    </tr>\n",
       "    <tr>\n",
       "      <th>3</th>\n",
       "      <td>product_height_cm</td>\n",
       "      <td>3.947467</td>\n",
       "    </tr>\n",
       "    <tr>\n",
       "      <th>4</th>\n",
       "      <td>product_width_cm</td>\n",
       "      <td>6.387224</td>\n",
       "    </tr>\n",
       "    <tr>\n",
       "      <th>5</th>\n",
       "      <td>delivery_distance</td>\n",
       "      <td>1.905637</td>\n",
       "    </tr>\n",
       "    <tr>\n",
       "      <th>6</th>\n",
       "      <td>product_volume</td>\n",
       "      <td>5.867692</td>\n",
       "    </tr>\n",
       "  </tbody>\n",
       "</table>\n",
       "</div>"
      ],
      "text/plain": [
       "             feature       VIF\n",
       "0              price  1.611811\n",
       "1   product_weight_g  3.854915\n",
       "2  product_length_cm  5.647449\n",
       "3  product_height_cm  3.947467\n",
       "4   product_width_cm  6.387224\n",
       "5  delivery_distance  1.905637\n",
       "6     product_volume  5.867692"
      ]
     },
     "execution_count": 89,
     "metadata": {},
     "output_type": "execute_result"
    }
   ],
   "source": [
    "vif_data = pd.DataFrame()\n",
    "vif_data[\"feature\"] = X_variables.columns\n",
    "vif_data[\"VIF\"] = [variance_inflation_factor(X_variables.values, i) for i in range(len(X_variables.columns))]\n",
    "vif_data"
   ]
  },
  {
   "cell_type": "markdown",
   "id": "3ccaa135",
   "metadata": {
    "hidden": true
   },
   "source": [
    "As expected, the measurements showed high collinearity, especially  product_length_cm, product_width_cm and product_volume\n",
    "\n",
    "But unlike what we expected, product_height_cm did not show a multicollinearity as high as the other measurements, showing that, perhaps, height has a different influence on the freight price."
   ]
  },
  {
   "attachments": {},
   "cell_type": "markdown",
   "id": "b3104134",
   "metadata": {
    "hidden": true
   },
   "source": [
    "**Choosing features**\n",
    "\n",
    "First, with the correlation and f_regression analysis, we can focus our decision in three features:  product_length_cm, product_height_cm and product_width_cm. The others, showed a hight relevance in the f_statistic test.\n",
    "\n",
    "Now, looking at the Multicollinearity analysis, we see a hight multicollinearity between length, height, width, volume and weight. As mentioned above, weight and volume have a hight relevance, so it don't make sense to drop then. We could drop all three features (length, height, width) but the height feature showed a not so hight multicollinearity and have the biggest relevance between those three, **so we chose to keep product_height_cm for now and drop product_length_cm and product_width_cm.**]\n",
    "\n"
   ]
  },
  {
   "cell_type": "code",
   "execution_count": 90,
   "id": "5ae2428f",
   "metadata": {
    "hidden": true
   },
   "outputs": [
    {
     "data": {
      "text/html": [
       "<div>\n",
       "<style scoped>\n",
       "    .dataframe tbody tr th:only-of-type {\n",
       "        vertical-align: middle;\n",
       "    }\n",
       "\n",
       "    .dataframe tbody tr th {\n",
       "        vertical-align: top;\n",
       "    }\n",
       "\n",
       "    .dataframe thead th {\n",
       "        text-align: right;\n",
       "    }\n",
       "</style>\n",
       "<table border=\"1\" class=\"dataframe\">\n",
       "  <thead>\n",
       "    <tr style=\"text-align: right;\">\n",
       "      <th></th>\n",
       "      <th>freight_value</th>\n",
       "      <th>price</th>\n",
       "      <th>product_weight_g</th>\n",
       "      <th>product_height_cm</th>\n",
       "      <th>delivery_distance</th>\n",
       "      <th>product_volume</th>\n",
       "    </tr>\n",
       "  </thead>\n",
       "  <tbody>\n",
       "    <tr>\n",
       "      <th>0</th>\n",
       "      <td>13.29</td>\n",
       "      <td>58.9</td>\n",
       "      <td>650.0</td>\n",
       "      <td>9.0</td>\n",
       "      <td>301.504681</td>\n",
       "      <td>3528.0</td>\n",
       "    </tr>\n",
       "    <tr>\n",
       "      <th>1</th>\n",
       "      <td>17.96</td>\n",
       "      <td>55.9</td>\n",
       "      <td>650.0</td>\n",
       "      <td>9.0</td>\n",
       "      <td>943.308218</td>\n",
       "      <td>3528.0</td>\n",
       "    </tr>\n",
       "  </tbody>\n",
       "</table>\n",
       "</div>"
      ],
      "text/plain": [
       "   freight_value  price  product_weight_g  product_height_cm  \\\n",
       "0          13.29   58.9             650.0                9.0   \n",
       "1          17.96   55.9             650.0                9.0   \n",
       "\n",
       "   delivery_distance  product_volume  \n",
       "0         301.504681          3528.0  \n",
       "1         943.308218          3528.0  "
      ]
     },
     "execution_count": 90,
     "metadata": {},
     "output_type": "execute_result"
    }
   ],
   "source": [
    "freight_df4 = freight_df3.drop(['product_length_cm','product_width_cm'],axis =1)\n",
    "freight_df4.head(2)"
   ]
  },
  {
   "cell_type": "markdown",
   "id": "ee7fd01f",
   "metadata": {
    "heading_collapsed": true
   },
   "source": [
    "# Dealing with Outliers"
   ]
  },
  {
   "cell_type": "code",
   "execution_count": 91,
   "id": "e985d0a9",
   "metadata": {
    "hidden": true
   },
   "outputs": [
    {
     "data": {
      "text/plain": [
       "count    110179.000000\n",
       "mean         19.949359\n",
       "std          15.699213\n",
       "min           0.000000\n",
       "25%          13.080000\n",
       "50%          16.260000\n",
       "75%          21.150000\n",
       "max         409.680000\n",
       "Name: freight_value, dtype: float64"
      ]
     },
     "metadata": {},
     "output_type": "display_data"
    },
    {
     "data": {
      "image/png": "[encoded data removed]",
      "text/plain": [
       "<Figure size 1152x504 with 2 Axes>"
      ]
     },
     "metadata": {},
     "output_type": "display_data"
    },
    {
     "name": "stdout",
     "output_type": "stream",
     "text": [
      "There is :\n",
      "638 freight prices higher then 100$\n",
      "66 freight prices higher then 200$\n"
     ]
    }
   ],
   "source": [
    "#lets start looking at freight values\n",
    "\n",
    "display(freight_df4.freight_value.describe())\n",
    "\n",
    "sns.set_style('white')\n",
    "fig, (ax1,ax2) = plt.subplots(1,2,figsize=(16,7))\n",
    "\n",
    "sns.histplot(data =freight_df4.freight_value,ax = ax1)\n",
    "ax1.set_title(\"Freight Price Histogram\",fontsize = 26)\n",
    "ax1.set_xlabel(\"Freight Price\",fontsize=22)\n",
    "ax1.set_ylabel(\"Quantity\",fontsize=22)\n",
    "ax1.tick_params(labelsize=18)\n",
    "\n",
    "high_freight = freight_df4[freight_df4.freight_value>100]\n",
    "sns.histplot(data =high_freight.freight_value,ax = ax2)\n",
    "ax2.set_title(\"Freight Price Histogram (Freight >100)\",fontsize = 26)\n",
    "ax2.set_xlabel(\"Freight Price\",fontsize=22)\n",
    "ax2.set_ylabel(\"Quantity\",fontsize=22)\n",
    "ax2.tick_params(labelsize=18)\n",
    "\n",
    "plt.show()\n",
    "print(f'There is :\\n{len(high_freight)} freight prices higher then 100$'\n",
    "      f'\\n{len(high_freight[high_freight.freight_value>200])} freight prices higher then 200$')"
   ]
  },
  {
   "cell_type": "markdown",
   "id": "7d611f1c",
   "metadata": {
    "hidden": true
   },
   "source": [
    "We have some very high freight prices. \n",
    "\n",
    "If those values are associated with big weights and\\or long delivery distances, it may not be an issue. Otherwise, we are dealing with outliers and we should drop those values before training our model.\n"
   ]
  },
  {
   "cell_type": "code",
   "execution_count": 94,
   "id": "89adaef1",
   "metadata": {
    "hidden": true
   },
   "outputs": [
    {
     "data": {
      "text/html": [
       "<div>\n",
       "<style scoped>\n",
       "    .dataframe tbody tr th:only-of-type {\n",
       "        vertical-align: middle;\n",
       "    }\n",
       "\n",
       "    .dataframe tbody tr th {\n",
       "        vertical-align: top;\n",
       "    }\n",
       "\n",
       "    .dataframe thead th {\n",
       "        text-align: right;\n",
       "    }\n",
       "</style>\n",
       "<table border=\"1\" class=\"dataframe\">\n",
       "  <thead>\n",
       "    <tr style=\"text-align: right;\">\n",
       "      <th></th>\n",
       "      <th>freight_value</th>\n",
       "      <th>price</th>\n",
       "      <th>product_weight_g</th>\n",
       "      <th>product_height_cm</th>\n",
       "      <th>delivery_distance</th>\n",
       "      <th>product_volume</th>\n",
       "    </tr>\n",
       "  </thead>\n",
       "  <tbody>\n",
       "    <tr>\n",
       "      <th>103259</th>\n",
       "      <td>409.68</td>\n",
       "      <td>979.00</td>\n",
       "      <td>14675.0</td>\n",
       "      <td>64.0</td>\n",
       "      <td>1864.717005</td>\n",
       "      <td>183040.0</td>\n",
       "    </tr>\n",
       "    <tr>\n",
       "      <th>95573</th>\n",
       "      <td>375.28</td>\n",
       "      <td>2338.08</td>\n",
       "      <td>30000.0</td>\n",
       "      <td>58.0</td>\n",
       "      <td>456.909891</td>\n",
       "      <td>282750.0</td>\n",
       "    </tr>\n",
       "    <tr>\n",
       "      <th>95574</th>\n",
       "      <td>375.28</td>\n",
       "      <td>2338.08</td>\n",
       "      <td>30000.0</td>\n",
       "      <td>58.0</td>\n",
       "      <td>449.543170</td>\n",
       "      <td>282750.0</td>\n",
       "    </tr>\n",
       "    <tr>\n",
       "      <th>103268</th>\n",
       "      <td>339.59</td>\n",
       "      <td>1149.00</td>\n",
       "      <td>25250.0</td>\n",
       "      <td>66.0</td>\n",
       "      <td>617.547173</td>\n",
       "      <td>296208.0</td>\n",
       "    </tr>\n",
       "    <tr>\n",
       "      <th>60566</th>\n",
       "      <td>338.30</td>\n",
       "      <td>1050.00</td>\n",
       "      <td>30000.0</td>\n",
       "      <td>75.0</td>\n",
       "      <td>1708.130756</td>\n",
       "      <td>251625.0</td>\n",
       "    </tr>\n",
       "    <tr>\n",
       "      <th>60568</th>\n",
       "      <td>322.10</td>\n",
       "      <td>1050.00</td>\n",
       "      <td>30000.0</td>\n",
       "      <td>75.0</td>\n",
       "      <td>433.066669</td>\n",
       "      <td>251625.0</td>\n",
       "    </tr>\n",
       "    <tr>\n",
       "      <th>60549</th>\n",
       "      <td>321.88</td>\n",
       "      <td>1050.00</td>\n",
       "      <td>30000.0</td>\n",
       "      <td>75.0</td>\n",
       "      <td>632.245580</td>\n",
       "      <td>251625.0</td>\n",
       "    </tr>\n",
       "    <tr>\n",
       "      <th>96347</th>\n",
       "      <td>321.46</td>\n",
       "      <td>990.00</td>\n",
       "      <td>30000.0</td>\n",
       "      <td>50.0</td>\n",
       "      <td>241.638155</td>\n",
       "      <td>250000.0</td>\n",
       "    </tr>\n",
       "    <tr>\n",
       "      <th>84433</th>\n",
       "      <td>317.47</td>\n",
       "      <td>3089.00</td>\n",
       "      <td>11300.0</td>\n",
       "      <td>34.0</td>\n",
       "      <td>2819.654440</td>\n",
       "      <td>37400.0</td>\n",
       "    </tr>\n",
       "    <tr>\n",
       "      <th>96348</th>\n",
       "      <td>314.40</td>\n",
       "      <td>1045.00</td>\n",
       "      <td>30000.0</td>\n",
       "      <td>50.0</td>\n",
       "      <td>1689.121740</td>\n",
       "      <td>250000.0</td>\n",
       "    </tr>\n",
       "  </tbody>\n",
       "</table>\n",
       "</div>"
      ],
      "text/plain": [
       "        freight_value    price  product_weight_g  product_height_cm  \\\n",
       "103259         409.68   979.00           14675.0               64.0   \n",
       "95573          375.28  2338.08           30000.0               58.0   \n",
       "95574          375.28  2338.08           30000.0               58.0   \n",
       "103268         339.59  1149.00           25250.0               66.0   \n",
       "60566          338.30  1050.00           30000.0               75.0   \n",
       "60568          322.10  1050.00           30000.0               75.0   \n",
       "60549          321.88  1050.00           30000.0               75.0   \n",
       "96347          321.46   990.00           30000.0               50.0   \n",
       "84433          317.47  3089.00           11300.0               34.0   \n",
       "96348          314.40  1045.00           30000.0               50.0   \n",
       "\n",
       "        delivery_distance  product_volume  \n",
       "103259        1864.717005        183040.0  \n",
       "95573          456.909891        282750.0  \n",
       "95574          449.543170        282750.0  \n",
       "103268         617.547173        296208.0  \n",
       "60566         1708.130756        251625.0  \n",
       "60568          433.066669        251625.0  \n",
       "60549          632.245580        251625.0  \n",
       "96347          241.638155        250000.0  \n",
       "84433         2819.654440         37400.0  \n",
       "96348         1689.121740        250000.0  "
      ]
     },
     "execution_count": 94,
     "metadata": {},
     "output_type": "execute_result"
    }
   ],
   "source": [
    "#first, let's look at those high freight to see if they make sense\n",
    "\n",
    "freight_df4[freight_df4.freight_value>200].sort_values(by =['freight_value'],ascending = False).head(10)"
   ]
  },
  {
   "cell_type": "code",
   "execution_count": 85,
   "id": "fd01c308",
   "metadata": {
    "hidden": true
   },
   "outputs": [
    {
     "data": {
      "image/png": "[encoded data removed]",
      "text/plain": [
       "<Figure size 1296x504 with 2 Axes>"
      ]
     },
     "metadata": {},
     "output_type": "display_data"
    }
   ],
   "source": [
    "fig, (ax1,ax2) = plt.subplots(1,2,figsize=(18,7))\n",
    "\n",
    "sns.regplot(x=freight_df2['freight_value'], y=freight_df2['delivery_distance'], scatter_kws={'s':7},ax=ax1)\n",
    "ax1.set_title(\"Distance x Freight Price\",fontsize = 26)\n",
    "ax1.set_xlabel(\"Freight Price\",fontsize=22)\n",
    "ax1.set_ylabel(\"Delivery Distance\",fontsize=22)\n",
    "ax1.tick_params(labelsize=18)\n",
    "\n",
    "\n",
    "sns.regplot(x=freight_df2['freight_value'], y=freight_df2['product_weight_g'],scatter_kws={'s':7},ax=ax2)\n",
    "ax2.set_title(\"Weight x Freight Price\",fontsize = 26)\n",
    "ax2.set_xlabel(\"Freight Price\",fontsize=22)\n",
    "ax2.set_ylabel(\"Weight [g]\",fontsize=22)\n",
    "ax2.tick_params(labelsize=18)"
   ]
  },
  {
   "cell_type": "markdown",
   "id": "6dbc0778",
   "metadata": {
    "hidden": true
   },
   "source": [
    "Those views were very insightful. First of all, we notice that the biggest freight, in many cases, may not be explained by heavy weights neither long distances. We also note that we have some distance and weight outliers that will probably have a negative effect on our model. So we will drop outliers by these rules:\n",
    "\n",
    "+ drop lines with freight > 250 and weight < 28000\n",
    "+ drop lines with freight > 150 and weight < 7500\n",
    "+ drop lines with weight > 35000\n",
    "+ drop lines with distance > 4000\n"
   ]
  },
  {
   "cell_type": "code",
   "execution_count": 100,
   "id": "5f563e47",
   "metadata": {
    "hidden": true
   },
   "outputs": [
    {
     "name": "stdout",
     "output_type": "stream",
     "text": [
      "Rule 1 len: 11\n",
      "Rule 2 len: 7\n",
      "Rule 3 len: 3\n",
      "Rule 4 len: 4\n"
     ]
    }
   ],
   "source": [
    "#Before droping, lets check if we are not droping to much info\n",
    "\n",
    "print(f'Rule 1 len: {len(freight_df2[(freight_df2.freight_value>250) & (freight_df2.product_weight_g<25000)])}'\n",
    "      f'\\nRule 2 len: {len(freight_df2[(freight_df2.freight_value>150) & (freight_df2.product_weight_g<7500)])}'\n",
    "      f'\\nRule 3 len: {len(freight_df2[freight_df2.product_weight_g>35000])}'\n",
    "      f'\\nRule 4 len: {len(freight_df2[freight_df2.delivery_distance>4000])}')"
   ]
  },
  {
   "cell_type": "markdown",
   "id": "cc4710cb",
   "metadata": {
    "hidden": true
   },
   "source": [
    "Only a few data will be dropped, looks like we are good to continue"
   ]
  },
  {
   "cell_type": "code",
   "execution_count": 98,
   "id": "5412f418",
   "metadata": {
    "hidden": true
   },
   "outputs": [
    {
     "name": "stdout",
     "output_type": "stream",
     "text": [
      "(110154, 14)\n"
     ]
    },
    {
     "data": {
      "text/html": [
       "<div>\n",
       "<style scoped>\n",
       "    .dataframe tbody tr th:only-of-type {\n",
       "        vertical-align: middle;\n",
       "    }\n",
       "\n",
       "    .dataframe tbody tr th {\n",
       "        vertical-align: top;\n",
       "    }\n",
       "\n",
       "    .dataframe thead th {\n",
       "        text-align: right;\n",
       "    }\n",
       "</style>\n",
       "<table border=\"1\" class=\"dataframe\">\n",
       "  <thead>\n",
       "    <tr style=\"text-align: right;\">\n",
       "      <th></th>\n",
       "      <th>freight_value</th>\n",
       "      <th>price</th>\n",
       "      <th>product_weight_g</th>\n",
       "      <th>product_length_cm</th>\n",
       "      <th>product_height_cm</th>\n",
       "      <th>product_width_cm</th>\n",
       "      <th>customer_state</th>\n",
       "      <th>seller_state</th>\n",
       "      <th>customer_lat</th>\n",
       "      <th>customer_lng</th>\n",
       "      <th>seller_lat</th>\n",
       "      <th>seller_lng</th>\n",
       "      <th>delivery_distance</th>\n",
       "      <th>product_volume</th>\n",
       "    </tr>\n",
       "  </thead>\n",
       "  <tbody>\n",
       "    <tr>\n",
       "      <th>0</th>\n",
       "      <td>13.29</td>\n",
       "      <td>58.9</td>\n",
       "      <td>650.0</td>\n",
       "      <td>28.0</td>\n",
       "      <td>9.0</td>\n",
       "      <td>14.0</td>\n",
       "      <td>RJ</td>\n",
       "      <td>SP</td>\n",
       "      <td>-21.762775</td>\n",
       "      <td>-41.309633</td>\n",
       "      <td>-22.496953</td>\n",
       "      <td>-44.127492</td>\n",
       "      <td>301.504681</td>\n",
       "      <td>3528.0</td>\n",
       "    </tr>\n",
       "    <tr>\n",
       "      <th>1</th>\n",
       "      <td>17.96</td>\n",
       "      <td>55.9</td>\n",
       "      <td>650.0</td>\n",
       "      <td>28.0</td>\n",
       "      <td>9.0</td>\n",
       "      <td>14.0</td>\n",
       "      <td>GO</td>\n",
       "      <td>SP</td>\n",
       "      <td>-17.884337</td>\n",
       "      <td>-51.716990</td>\n",
       "      <td>-22.496953</td>\n",
       "      <td>-44.127492</td>\n",
       "      <td>943.308218</td>\n",
       "      <td>3528.0</td>\n",
       "    </tr>\n",
       "    <tr>\n",
       "      <th>2</th>\n",
       "      <td>18.33</td>\n",
       "      <td>64.9</td>\n",
       "      <td>650.0</td>\n",
       "      <td>28.0</td>\n",
       "      <td>9.0</td>\n",
       "      <td>14.0</td>\n",
       "      <td>MG</td>\n",
       "      <td>SP</td>\n",
       "      <td>-19.914323</td>\n",
       "      <td>-43.975703</td>\n",
       "      <td>-22.496953</td>\n",
       "      <td>-44.127492</td>\n",
       "      <td>287.605969</td>\n",
       "      <td>3528.0</td>\n",
       "    </tr>\n",
       "  </tbody>\n",
       "</table>\n",
       "</div>"
      ],
      "text/plain": [
       "   freight_value  price  product_weight_g  product_length_cm  \\\n",
       "0          13.29   58.9             650.0               28.0   \n",
       "1          17.96   55.9             650.0               28.0   \n",
       "2          18.33   64.9             650.0               28.0   \n",
       "\n",
       "   product_height_cm  product_width_cm customer_state seller_state  \\\n",
       "0                9.0              14.0             RJ           SP   \n",
       "1                9.0              14.0             GO           SP   \n",
       "2                9.0              14.0             MG           SP   \n",
       "\n",
       "   customer_lat  customer_lng  seller_lat  seller_lng  delivery_distance  \\\n",
       "0    -21.762775    -41.309633  -22.496953  -44.127492         301.504681   \n",
       "1    -17.884337    -51.716990  -22.496953  -44.127492         943.308218   \n",
       "2    -19.914323    -43.975703  -22.496953  -44.127492         287.605969   \n",
       "\n",
       "   product_volume  \n",
       "0          3528.0  \n",
       "1          3528.0  \n",
       "2          3528.0  "
      ]
     },
     "execution_count": 98,
     "metadata": {},
     "output_type": "execute_result"
    }
   ],
   "source": [
    "freight_df3 = freight_df2.copy()\n",
    "\n",
    "freight_df3 = freight_df3[~((freight_df3.freight_value>250) & (freight_df3.product_weight_g<25000))]\n",
    "freight_df3 = freight_df3[~((freight_df3.freight_value>150) & (freight_df3.product_weight_g<7500))]\n",
    "freight_df3 = freight_df3[freight_df3.product_weight_g<35000]\n",
    "freight_df3 = freight_df3[freight_df3.delivery_distance<4000]\n",
    "\n",
    "freight_df3.reset_index(drop = True, inplace = True)\n",
    "print(freight_df3.shape)\n",
    "freight_df3.head(3)"
   ]
  },
  {
   "cell_type": "markdown",
   "id": "529a9719",
   "metadata": {
    "heading_collapsed": true
   },
   "source": [
    "# Building the Model"
   ]
  },
  {
   "cell_type": "markdown",
   "id": "b0e63b1f",
   "metadata": {
    "heading_collapsed": true,
    "hidden": true
   },
   "source": [
    "## Metrics and Baselines"
   ]
  },
  {
   "cell_type": "markdown",
   "id": "aa6af141",
   "metadata": {
    "hidden": true
   },
   "source": [
    "First of all, lets create a Baseline and define our metrics to compare our results. "
   ]
  },
  {
   "cell_type": "markdown",
   "id": "319c38b6",
   "metadata": {
    "hidden": true
   },
   "source": [
    "**Baseline:**\n",
    "\n",
    "First, let's use the simplest baseline possible: the overall average. And to make our analysis more robust, let's also use one based on the feature that showed the greatest correlation, the weight. We can divide our orders in weights clusters and take a mean freight value for each cluster. \n",
    "\n",
    "+ Total mean \n",
    "+ Mean by weights clusters"
   ]
  },
  {
   "cell_type": "markdown",
   "id": "7c5f3528",
   "metadata": {
    "hidden": true
   },
   "source": [
    "**Metrics:**\n",
    "\n",
    "For the metrics, we will use the classic ones for regression models: \n",
    "\n",
    "+ MAE: The absolute error is very meaningful to us, considering that we are dealing with a price value\n",
    "+ RMSE: Very helpful to identify outliers, i.e, big errors  "
   ]
  },
  {
   "cell_type": "code",
   "execution_count": 21,
   "id": "3507b782",
   "metadata": {
    "hidden": true
   },
   "outputs": [],
   "source": [
    "#Create a simple weight cluster based on percentils \n",
    "\n",
    "def weight_cluster(df):\n",
    "    top_25 = np.percentile(freight_df3.product_weight_g, 25 )\n",
    "    top_50 = np.percentile(freight_df3.product_weight_g, 50 )\n",
    "    top_75 = np.percentile(freight_df3.product_weight_g, 75 )\n",
    "    \n",
    "    if df.product_weight_g <= top_25:\n",
    "        cluster = 1\n",
    "    elif df.product_weight_g > top_25 and  df.product_weight_g <= top_50:\n",
    "        cluster = 2\n",
    "    elif df.product_weight_g > top_50 and  df.product_weight_g <= top_75:\n",
    "        cluster = 3\n",
    "    elif df.product_weight_g > top_75:\n",
    "        cluster = 4 \n",
    "    return cluster\n"
   ]
  },
  {
   "cell_type": "code",
   "execution_count": 20,
   "id": "aff09d55",
   "metadata": {
    "hidden": true
   },
   "outputs": [
    {
     "data": {
      "text/html": [
       "<div>\n",
       "<style scoped>\n",
       "    .dataframe tbody tr th:only-of-type {\n",
       "        vertical-align: middle;\n",
       "    }\n",
       "\n",
       "    .dataframe tbody tr th {\n",
       "        vertical-align: top;\n",
       "    }\n",
       "\n",
       "    .dataframe thead th {\n",
       "        text-align: right;\n",
       "    }\n",
       "</style>\n",
       "<table border=\"1\" class=\"dataframe\">\n",
       "  <thead>\n",
       "    <tr style=\"text-align: right;\">\n",
       "      <th></th>\n",
       "      <th>weight_cluster</th>\n",
       "      <th>freight_value</th>\n",
       "    </tr>\n",
       "  </thead>\n",
       "  <tbody>\n",
       "    <tr>\n",
       "      <th>0</th>\n",
       "      <td>1</td>\n",
       "      <td>14.775335</td>\n",
       "    </tr>\n",
       "    <tr>\n",
       "      <th>1</th>\n",
       "      <td>2</td>\n",
       "      <td>16.426513</td>\n",
       "    </tr>\n",
       "    <tr>\n",
       "      <th>2</th>\n",
       "      <td>3</td>\n",
       "      <td>18.105838</td>\n",
       "    </tr>\n",
       "    <tr>\n",
       "      <th>3</th>\n",
       "      <td>4</td>\n",
       "      <td>31.004740</td>\n",
       "    </tr>\n",
       "  </tbody>\n",
       "</table>\n",
       "</div>"
      ],
      "text/plain": [
       "   weight_cluster  freight_value\n",
       "0               1      14.775335\n",
       "1               2      16.426513\n",
       "2               3      18.105838\n",
       "3               4      31.004740"
      ]
     },
     "execution_count": 20,
     "metadata": {},
     "output_type": "execute_result"
    }
   ],
   "source": [
    "#create cluster\n",
    "freight_by_weight['weight_cluster'] = freight_df3.apply(weight_cluster,axis = 1)\n",
    "\n",
    "#group by cluster\n",
    "freight_by_cluster_w = freight_by_weight.groupby('weight_cluster',as_index= False).freight_value.mean()\n",
    "freight_by_cluster_w"
   ]
  },
  {
   "cell_type": "code",
   "execution_count": 24,
   "id": "ea100b39",
   "metadata": {
    "hidden": true
   },
   "outputs": [],
   "source": [
    "def baseline():\n",
    "    t_start = perf_counter()\n",
    "    prov_df = freight_df3.copy()\n",
    "    \n",
    "    \n",
    "    prov_df['mean'] = np.mean(prov_df.freight_value)\n",
    "    \n",
    "    prov_df['mean_by_weight'] = freight_by_weight.weight_cluster.apply(\n",
    "        lambda x:freight_by_cluster_w[freight_by_cluster_w.weight_cluster == x].freight_value.values[0])\n",
    "    \n",
    "    mae_mean_by_weight = mean_absolute_error(prov_df['freight_value'], prov_df['mean_by_weight'])\n",
    "    mae_mean = mean_absolute_error(prov_df['freight_value'], prov_df['mean'])\n",
    "\n",
    "    rmse_mean_by_weight = mean_squared_error(prov_df['freight_value'], prov_df['mean_by_weight'], squared=False)\n",
    "    rmse_mean = mean_squared_error(prov_df['freight_value'], prov_df['mean'], squared=False) \n",
    "    \n",
    "    t_end = perf_counter()\n",
    "    time = round(t_end-t_start,2) \n",
    "    result = pd.DataFrame({'n_estimators':'N\\A',\n",
    "                           'MAE':[mae_mean,mae_mean_by_weight],\n",
    "                           'RMSE':[rmse_mean,rmse_mean_by_weight],\n",
    "                           'time':time},index = ['mean','mean by weight cluster'])\n",
    "    return result"
   ]
  },
  {
   "cell_type": "code",
   "execution_count": 25,
   "id": "37e6059d",
   "metadata": {
    "hidden": true,
    "scrolled": true
   },
   "outputs": [
    {
     "data": {
      "text/html": [
       "<div>\n",
       "<style scoped>\n",
       "    .dataframe tbody tr th:only-of-type {\n",
       "        vertical-align: middle;\n",
       "    }\n",
       "\n",
       "    .dataframe tbody tr th {\n",
       "        vertical-align: top;\n",
       "    }\n",
       "\n",
       "    .dataframe thead th {\n",
       "        text-align: right;\n",
       "    }\n",
       "</style>\n",
       "<table border=\"1\" class=\"dataframe\">\n",
       "  <thead>\n",
       "    <tr style=\"text-align: right;\">\n",
       "      <th></th>\n",
       "      <th>n_estimators</th>\n",
       "      <th>MAE</th>\n",
       "      <th>RMSE</th>\n",
       "      <th>time</th>\n",
       "    </tr>\n",
       "  </thead>\n",
       "  <tbody>\n",
       "    <tr>\n",
       "      <th>mean</th>\n",
       "      <td>N\\A</td>\n",
       "      <td>8.603713</td>\n",
       "      <td>15.699142</td>\n",
       "      <td>26.31</td>\n",
       "    </tr>\n",
       "    <tr>\n",
       "      <th>mean by weight cluster</th>\n",
       "      <td>N\\A</td>\n",
       "      <td>7.651823</td>\n",
       "      <td>14.322467</td>\n",
       "      <td>26.31</td>\n",
       "    </tr>\n",
       "  </tbody>\n",
       "</table>\n",
       "</div>"
      ],
      "text/plain": [
       "                       n_estimators       MAE       RMSE   time\n",
       "mean                            N\\A  8.603713  15.699142  26.31\n",
       "mean by weight cluster          N\\A  7.651823  14.322467  26.31"
      ]
     },
     "execution_count": 25,
     "metadata": {},
     "output_type": "execute_result"
    }
   ],
   "source": [
    "BASELINE = baseline()\n",
    "BASELINE"
   ]
  },
  {
   "cell_type": "markdown",
   "id": "e56455da",
   "metadata": {
    "heading_collapsed": true,
    "hidden": true
   },
   "source": [
    "## Model Selection"
   ]
  },
  {
   "cell_type": "code",
   "execution_count": 29,
   "id": "0ed39620",
   "metadata": {
    "hidden": true
   },
   "outputs": [],
   "source": [
    "# X = Train Data\n",
    "# y = Validation\n",
    "# n_list = list of n_estimators to test\n",
    "# model_list = 'RandomForest'\\'XGBoost'\n",
    "\n",
    "def avaliate_models(X,y,n_list = [50], model_list = ['RandomForest','XGBoost'],l_rate = 0.05):\n",
    "    \n",
    "    n_estimators,mae_scores,rmse_scores,models,time =[[] for i in range(5)]\n",
    "    \n",
    "    for model in model_list:\n",
    "        if model == 'RandomForest':\n",
    "            for n in n_list:\n",
    "                t_start = perf_counter()\n",
    "                # Multiply by -1 since sklearn calculates *negative* MAE\n",
    "                scores = cross_validate(RandomForestRegressor(n_estimators=n, random_state=33),\n",
    "                                        X, y,\n",
    "                                        cv=5,\n",
    "                                        scoring=('neg_mean_absolute_error','neg_root_mean_squared_error'))\n",
    "                \n",
    "                t_end = perf_counter()\n",
    "                time.append(round(t_end-t_start,2))\n",
    "                n_estimators.append(n)\n",
    "                mae_scores.append(-1*scores.get('test_neg_mean_absolute_error').mean())\n",
    "                rmse_scores.append(-1*scores.get('test_neg_root_mean_squared_error').mean())\n",
    "                models.append(model)\n",
    "                \n",
    "        if model == 'XGBoost':\n",
    "            for n in n_list:\n",
    "                t_start = perf_counter()\n",
    "                # Multiply by -1 since sklearn calculates *negative* MAE\n",
    "                xg_model = XGBRegressor(n_estimators=n, learning_rate= l_rate)\n",
    "                scores = cross_validate(xg_model,\n",
    "                                        X, y,\n",
    "                                        cv=5,\n",
    "                                        scoring=('neg_mean_absolute_error','neg_root_mean_squared_error'))\n",
    "                \n",
    "                t_end = perf_counter()\n",
    "                time.append(round(t_end-t_start,2))\n",
    "                n_estimators.append(n)\n",
    "                mae_scores.append(-1*scores.get('test_neg_mean_absolute_error').mean())\n",
    "                rmse_scores.append(-1*scores.get('test_neg_root_mean_squared_error').mean())\n",
    "                models.append(model)\n",
    "    \n",
    "    result = pd.DataFrame({'n_estimators':n_estimators,\n",
    "                           'MAE':mae_scores,\n",
    "                           'RMSE':rmse_scores,\n",
    "                           'time':time},index = models)\n",
    "    \n",
    "    final_result = pd.concat([BASELINE,result]) \n",
    "    final_result.index.name = 'Model'\n",
    "    return final_result"
   ]
  },
  {
   "cell_type": "code",
   "execution_count": 27,
   "id": "951af4bc",
   "metadata": {
    "hidden": true
   },
   "outputs": [],
   "source": [
    "import warnings\n",
    "#xgboost shows a warning that will be fixed in the next version\n",
    "warnings.filterwarnings(\"ignore\")"
   ]
  },
  {
   "cell_type": "code",
   "execution_count": 253,
   "id": "37f1c571",
   "metadata": {
    "hidden": true
   },
   "outputs": [
    {
     "data": {
      "text/html": [
       "<div>\n",
       "<style scoped>\n",
       "    .dataframe tbody tr th:only-of-type {\n",
       "        vertical-align: middle;\n",
       "    }\n",
       "\n",
       "    .dataframe tbody tr th {\n",
       "        vertical-align: top;\n",
       "    }\n",
       "\n",
       "    .dataframe thead th {\n",
       "        text-align: right;\n",
       "    }\n",
       "</style>\n",
       "<table border=\"1\" class=\"dataframe\">\n",
       "  <thead>\n",
       "    <tr style=\"text-align: right;\">\n",
       "      <th></th>\n",
       "      <th>n_estimators</th>\n",
       "      <th>MAE</th>\n",
       "      <th>RMSE</th>\n",
       "      <th>time</th>\n",
       "    </tr>\n",
       "    <tr>\n",
       "      <th>Model</th>\n",
       "      <th></th>\n",
       "      <th></th>\n",
       "      <th></th>\n",
       "      <th></th>\n",
       "    </tr>\n",
       "  </thead>\n",
       "  <tbody>\n",
       "    <tr>\n",
       "      <th>mean</th>\n",
       "      <td>N\\A</td>\n",
       "      <td>8.548127</td>\n",
       "      <td>15.370855</td>\n",
       "      <td>21.12</td>\n",
       "    </tr>\n",
       "    <tr>\n",
       "      <th>mean by state</th>\n",
       "      <td>N\\A</td>\n",
       "      <td>7.463449</td>\n",
       "      <td>14.296246</td>\n",
       "      <td>21.12</td>\n",
       "    </tr>\n",
       "    <tr>\n",
       "      <th>RandomForest</th>\n",
       "      <td>5</td>\n",
       "      <td>5.239001</td>\n",
       "      <td>10.190387</td>\n",
       "      <td>7.38</td>\n",
       "    </tr>\n",
       "    <tr>\n",
       "      <th>RandomForest</th>\n",
       "      <td>20</td>\n",
       "      <td>4.895589</td>\n",
       "      <td>9.540963</td>\n",
       "      <td>29.53</td>\n",
       "    </tr>\n",
       "    <tr>\n",
       "      <th>RandomForest</th>\n",
       "      <td>35</td>\n",
       "      <td>4.837274</td>\n",
       "      <td>9.454350</td>\n",
       "      <td>51.13</td>\n",
       "    </tr>\n",
       "    <tr>\n",
       "      <th>RandomForest</th>\n",
       "      <td>50</td>\n",
       "      <td>4.822223</td>\n",
       "      <td>9.428634</td>\n",
       "      <td>74.26</td>\n",
       "    </tr>\n",
       "    <tr>\n",
       "      <th>RandomForest</th>\n",
       "      <td>75</td>\n",
       "      <td>4.804260</td>\n",
       "      <td>9.388283</td>\n",
       "      <td>110.16</td>\n",
       "    </tr>\n",
       "    <tr>\n",
       "      <th>RandomForest</th>\n",
       "      <td>100</td>\n",
       "      <td>4.796170</td>\n",
       "      <td>9.378993</td>\n",
       "      <td>146.26</td>\n",
       "    </tr>\n",
       "    <tr>\n",
       "      <th>RandomForest</th>\n",
       "      <td>150</td>\n",
       "      <td>4.788802</td>\n",
       "      <td>9.364329</td>\n",
       "      <td>218.55</td>\n",
       "    </tr>\n",
       "    <tr>\n",
       "      <th>RandomForest</th>\n",
       "      <td>200</td>\n",
       "      <td>4.782433</td>\n",
       "      <td>9.355623</td>\n",
       "      <td>292.07</td>\n",
       "    </tr>\n",
       "    <tr>\n",
       "      <th>XGBoost</th>\n",
       "      <td>5</td>\n",
       "      <td>15.083505</td>\n",
       "      <td>19.892958</td>\n",
       "      <td>1.31</td>\n",
       "    </tr>\n",
       "    <tr>\n",
       "      <th>XGBoost</th>\n",
       "      <td>20</td>\n",
       "      <td>7.524051</td>\n",
       "      <td>12.193362</td>\n",
       "      <td>4.62</td>\n",
       "    </tr>\n",
       "    <tr>\n",
       "      <th>XGBoost</th>\n",
       "      <td>35</td>\n",
       "      <td>4.923834</td>\n",
       "      <td>9.720832</td>\n",
       "      <td>7.91</td>\n",
       "    </tr>\n",
       "    <tr>\n",
       "      <th>XGBoost</th>\n",
       "      <td>50</td>\n",
       "      <td>4.376552</td>\n",
       "      <td>9.122383</td>\n",
       "      <td>11.08</td>\n",
       "    </tr>\n",
       "    <tr>\n",
       "      <th>XGBoost</th>\n",
       "      <td>75</td>\n",
       "      <td>4.385038</td>\n",
       "      <td>8.983817</td>\n",
       "      <td>16.81</td>\n",
       "    </tr>\n",
       "    <tr>\n",
       "      <th>XGBoost</th>\n",
       "      <td>100</td>\n",
       "      <td>4.430300</td>\n",
       "      <td>8.984024</td>\n",
       "      <td>22.25</td>\n",
       "    </tr>\n",
       "    <tr>\n",
       "      <th>XGBoost</th>\n",
       "      <td>150</td>\n",
       "      <td>4.455295</td>\n",
       "      <td>9.007596</td>\n",
       "      <td>33.45</td>\n",
       "    </tr>\n",
       "    <tr>\n",
       "      <th>XGBoost</th>\n",
       "      <td>200</td>\n",
       "      <td>4.465401</td>\n",
       "      <td>9.037299</td>\n",
       "      <td>44.56</td>\n",
       "    </tr>\n",
       "  </tbody>\n",
       "</table>\n",
       "</div>"
      ],
      "text/plain": [
       "              n_estimators        MAE       RMSE    time\n",
       "Model                                                   \n",
       "mean                   N\\A   8.548127  15.370855   21.12\n",
       "mean by state          N\\A   7.463449  14.296246   21.12\n",
       "RandomForest             5   5.239001  10.190387    7.38\n",
       "RandomForest            20   4.895589   9.540963   29.53\n",
       "RandomForest            35   4.837274   9.454350   51.13\n",
       "RandomForest            50   4.822223   9.428634   74.26\n",
       "RandomForest            75   4.804260   9.388283  110.16\n",
       "RandomForest           100   4.796170   9.378993  146.26\n",
       "RandomForest           150   4.788802   9.364329  218.55\n",
       "RandomForest           200   4.782433   9.355623  292.07\n",
       "XGBoost                  5  15.083505  19.892958    1.31\n",
       "XGBoost                 20   7.524051  12.193362    4.62\n",
       "XGBoost                 35   4.923834   9.720832    7.91\n",
       "XGBoost                 50   4.376552   9.122383   11.08\n",
       "XGBoost                 75   4.385038   8.983817   16.81\n",
       "XGBoost                100   4.430300   8.984024   22.25\n",
       "XGBoost                150   4.455295   9.007596   33.45\n",
       "XGBoost                200   4.465401   9.037299   44.56"
      ]
     },
     "execution_count": 253,
     "metadata": {},
     "output_type": "execute_result"
    }
   ],
   "source": [
    "#lets avaliate \n",
    "\n",
    "X = final_freight_df[final_freight_df.columns[1:].tolist()]\n",
    "y = final_freight_df['freight_value']\n",
    "\n",
    "model_evaluation =  avaliate_models(X,y,n_list = [5,20,35,50,75,100,150,200])\n",
    "model_evaluation"
   ]
  },
  {
   "cell_type": "markdown",
   "id": "c0081f24",
   "metadata": {
    "hidden": true
   },
   "source": [
    "We can see very good improvements from our baselines! \n",
    "\n",
    "Its clear that the best model is the XGBoos, with an n_estimators = 75. \n",
    "\n",
    "This Model shows:\n",
    "\n",
    "+ MAE = 4.38\n",
    "+ RMSE = 8.89\n",
    "\n",
    "Considering our Baselines metrics: MAE(8.54, 7.46) and RMSE (15.37, 14.29) we can say that our model was able to practically cut the error in half! \n"
   ]
  },
  {
   "cell_type": "markdown",
   "id": "d355a9bd",
   "metadata": {
    "heading_collapsed": true
   },
   "source": [
    "# Model Improvement and Dumping"
   ]
  },
  {
   "cell_type": "markdown",
   "id": "93c618b4",
   "metadata": {
    "hidden": true
   },
   "source": [
    "Our Model showed good results. Even so, we can try optimizing the parameters to improve a little more.\n",
    "\n",
    "To do so we will perform two steps: \n",
    "\n",
    "+ We found an good n_estimator = 75, lets investigating if there is an n_estimator around 75 that is even better\n",
    "+ the learning_rate can dramatically change the results, let's iterate between some values to see if we can improve our metrics"
   ]
  },
  {
   "cell_type": "code",
   "execution_count": 242,
   "id": "7a62abba",
   "metadata": {
    "hidden": true
   },
   "outputs": [
    {
     "data": {
      "text/html": [
       "<div>\n",
       "<style scoped>\n",
       "    .dataframe tbody tr th:only-of-type {\n",
       "        vertical-align: middle;\n",
       "    }\n",
       "\n",
       "    .dataframe tbody tr th {\n",
       "        vertical-align: top;\n",
       "    }\n",
       "\n",
       "    .dataframe thead th {\n",
       "        text-align: right;\n",
       "    }\n",
       "</style>\n",
       "<table border=\"1\" class=\"dataframe\">\n",
       "  <thead>\n",
       "    <tr style=\"text-align: right;\">\n",
       "      <th></th>\n",
       "      <th>n_estimators</th>\n",
       "      <th>MAE</th>\n",
       "      <th>RMSE</th>\n",
       "      <th>time</th>\n",
       "    </tr>\n",
       "    <tr>\n",
       "      <th>Model</th>\n",
       "      <th></th>\n",
       "      <th></th>\n",
       "      <th></th>\n",
       "      <th></th>\n",
       "    </tr>\n",
       "  </thead>\n",
       "  <tbody>\n",
       "    <tr>\n",
       "      <th>mean</th>\n",
       "      <td>N\\A</td>\n",
       "      <td>8.548127</td>\n",
       "      <td>15.370855</td>\n",
       "      <td>21.12</td>\n",
       "    </tr>\n",
       "    <tr>\n",
       "      <th>mean by state</th>\n",
       "      <td>N\\A</td>\n",
       "      <td>7.463449</td>\n",
       "      <td>14.296246</td>\n",
       "      <td>21.12</td>\n",
       "    </tr>\n",
       "    <tr>\n",
       "      <th>XGBoost</th>\n",
       "      <td>50</td>\n",
       "      <td>4.376552</td>\n",
       "      <td>9.122383</td>\n",
       "      <td>10.95</td>\n",
       "    </tr>\n",
       "    <tr>\n",
       "      <th>XGBoost</th>\n",
       "      <td>60</td>\n",
       "      <td>4.347264</td>\n",
       "      <td>9.025423</td>\n",
       "      <td>13.27</td>\n",
       "    </tr>\n",
       "    <tr>\n",
       "      <th>XGBoost</th>\n",
       "      <td>70</td>\n",
       "      <td>4.369847</td>\n",
       "      <td>8.987300</td>\n",
       "      <td>15.71</td>\n",
       "    </tr>\n",
       "    <tr>\n",
       "      <th>XGBoost</th>\n",
       "      <td>75</td>\n",
       "      <td>4.385038</td>\n",
       "      <td>8.983817</td>\n",
       "      <td>16.73</td>\n",
       "    </tr>\n",
       "    <tr>\n",
       "      <th>XGBoost</th>\n",
       "      <td>80</td>\n",
       "      <td>4.398101</td>\n",
       "      <td>8.980434</td>\n",
       "      <td>17.87</td>\n",
       "    </tr>\n",
       "    <tr>\n",
       "      <th>XGBoost</th>\n",
       "      <td>90</td>\n",
       "      <td>4.417553</td>\n",
       "      <td>8.978506</td>\n",
       "      <td>20.57</td>\n",
       "    </tr>\n",
       "    <tr>\n",
       "      <th>XGBoost</th>\n",
       "      <td>100</td>\n",
       "      <td>4.430300</td>\n",
       "      <td>8.984024</td>\n",
       "      <td>22.51</td>\n",
       "    </tr>\n",
       "  </tbody>\n",
       "</table>\n",
       "</div>"
      ],
      "text/plain": [
       "              n_estimators       MAE       RMSE   time\n",
       "Model                                                 \n",
       "mean                   N\\A  8.548127  15.370855  21.12\n",
       "mean by state          N\\A  7.463449  14.296246  21.12\n",
       "XGBoost                 50  4.376552   9.122383  10.95\n",
       "XGBoost                 60  4.347264   9.025423  13.27\n",
       "XGBoost                 70  4.369847   8.987300  15.71\n",
       "XGBoost                 75  4.385038   8.983817  16.73\n",
       "XGBoost                 80  4.398101   8.980434  17.87\n",
       "XGBoost                 90  4.417553   8.978506  20.57\n",
       "XGBoost                100  4.430300   8.984024  22.51"
      ]
     },
     "execution_count": 242,
     "metadata": {},
     "output_type": "execute_result"
    }
   ],
   "source": [
    "#trying n_estimators around 75\n",
    "\n",
    "model_optimize =  avaliate_models(X,y, model_list = ['XGBoost'],n_list = [50,60,70,75,80,90,100])\n",
    "model_optimize"
   ]
  },
  {
   "cell_type": "markdown",
   "id": "cfd55d03",
   "metadata": {
    "hidden": true
   },
   "source": [
    "Setting the n_estimators to 70 instead of 75 gives an improvement of 0.35% for MAE while the RMSE get only 0.04% worse. \n",
    "\n",
    "Therefore, we will use a n_estimators = 70"
   ]
  },
  {
   "cell_type": "code",
   "execution_count": 243,
   "id": "82d9dd5b",
   "metadata": {
    "hidden": true,
    "scrolled": true
   },
   "outputs": [
    {
     "data": {
      "text/html": [
       "<div>\n",
       "<style scoped>\n",
       "    .dataframe tbody tr th:only-of-type {\n",
       "        vertical-align: middle;\n",
       "    }\n",
       "\n",
       "    .dataframe tbody tr th {\n",
       "        vertical-align: top;\n",
       "    }\n",
       "\n",
       "    .dataframe thead th {\n",
       "        text-align: right;\n",
       "    }\n",
       "</style>\n",
       "<table border=\"1\" class=\"dataframe\">\n",
       "  <thead>\n",
       "    <tr style=\"text-align: right;\">\n",
       "      <th></th>\n",
       "      <th>learning_rate</th>\n",
       "      <th>MAE</th>\n",
       "      <th>RMSE</th>\n",
       "    </tr>\n",
       "  </thead>\n",
       "  <tbody>\n",
       "    <tr>\n",
       "      <th>0</th>\n",
       "      <td>0.020</td>\n",
       "      <td>5.805020</td>\n",
       "      <td>10.560391</td>\n",
       "    </tr>\n",
       "    <tr>\n",
       "      <th>1</th>\n",
       "      <td>0.030</td>\n",
       "      <td>4.556646</td>\n",
       "      <td>9.350639</td>\n",
       "    </tr>\n",
       "    <tr>\n",
       "      <th>2</th>\n",
       "      <td>0.040</td>\n",
       "      <td>4.347364</td>\n",
       "      <td>9.063756</td>\n",
       "    </tr>\n",
       "    <tr>\n",
       "      <th>3</th>\n",
       "      <td>0.045</td>\n",
       "      <td>4.355609</td>\n",
       "      <td>9.022328</td>\n",
       "    </tr>\n",
       "    <tr>\n",
       "      <th>4</th>\n",
       "      <td>0.050</td>\n",
       "      <td>4.369847</td>\n",
       "      <td>8.987300</td>\n",
       "    </tr>\n",
       "    <tr>\n",
       "      <th>5</th>\n",
       "      <td>0.055</td>\n",
       "      <td>4.395581</td>\n",
       "      <td>8.985762</td>\n",
       "    </tr>\n",
       "    <tr>\n",
       "      <th>6</th>\n",
       "      <td>0.060</td>\n",
       "      <td>4.408262</td>\n",
       "      <td>8.970291</td>\n",
       "    </tr>\n",
       "    <tr>\n",
       "      <th>7</th>\n",
       "      <td>0.070</td>\n",
       "      <td>4.438693</td>\n",
       "      <td>9.019340</td>\n",
       "    </tr>\n",
       "    <tr>\n",
       "      <th>8</th>\n",
       "      <td>0.100</td>\n",
       "      <td>4.454635</td>\n",
       "      <td>9.022346</td>\n",
       "    </tr>\n",
       "  </tbody>\n",
       "</table>\n",
       "</div>"
      ],
      "text/plain": [
       "   learning_rate       MAE       RMSE\n",
       "0          0.020  5.805020  10.560391\n",
       "1          0.030  4.556646   9.350639\n",
       "2          0.040  4.347364   9.063756\n",
       "3          0.045  4.355609   9.022328\n",
       "4          0.050  4.369847   8.987300\n",
       "5          0.055  4.395581   8.985762\n",
       "6          0.060  4.408262   8.970291\n",
       "7          0.070  4.438693   9.019340\n",
       "8          0.100  4.454635   9.022346"
      ]
     },
     "execution_count": 243,
     "metadata": {},
     "output_type": "execute_result"
    }
   ],
   "source": [
    "#Now, let's see if we can improve our model even more, changing the learning rate\n",
    "\n",
    "learning_rate_list = [0.02,0.03,0.04,0.045,0.05,0.055,0.06,0.07,0.1]\n",
    "mae, rmse = [[] for i in range(2)]\n",
    "\n",
    "for rate in learning_rate_list:\n",
    "    model_improvement =  avaliate_models(X,y,n_list = [70],model_list = ['XGBoost'],l_rate = rate)\n",
    "    mae.append(model_improvement.MAE['XGBoost'])\n",
    "    rmse.append(model_improvement.RMSE['XGBoost']) \n",
    "    \n",
    "model_improvement_df = pd.DataFrame({'learning_rate':learning_rate_list, 'MAE':mae,'RMSE':rmse})\n",
    "model_improvement_df"
   ]
  },
  {
   "cell_type": "markdown",
   "id": "8f02dba6",
   "metadata": {
    "hidden": true
   },
   "source": [
    "Apparently, 0.05 was a good learning rate. We will keep it."
   ]
  },
  {
   "cell_type": "code",
   "execution_count": 246,
   "id": "4bb93de8",
   "metadata": {
    "hidden": true
   },
   "outputs": [],
   "source": [
    "# Fit the model\n",
    "model = XGBRegressor(n_estimators=70, learning_rate= 0.05)\n",
    "model.fit(X, y)\n",
    "\n",
    "# save the model to disk\n",
    "filename = 'freight_estimate_model.sav'\n",
    "pickle.dump(model, open(filename, 'wb'))"
   ]
  }
 ],
 "metadata": {
  "kernelspec": {
   "display_name": "Python 3 (ipykernel)",
   "language": "python",
   "name": "python3"
  },
  "language_info": {
   "codemirror_mode": {
    "name": "ipython",
    "version": 3
   },
   "file_extension": ".py",
   "mimetype": "text/x-python",
   "name": "python",
   "nbconvert_exporter": "python",
   "pygments_lexer": "ipython3",
   "version": "3.9.7"
  },
  "varInspector": {
   "cols": {
    "lenName": 16,
    "lenType": 16,
    "lenVar": 40
   },
   "kernels_config": {
    "python": {
     "delete_cmd_postfix": "",
     "delete_cmd_prefix": "del ",
     "library": "var_list.py",
     "varRefreshCmd": "print(var_dic_list())"
    },
    "r": {
     "delete_cmd_postfix": ") ",
     "delete_cmd_prefix": "rm(",
     "library": "var_list.r",
     "varRefreshCmd": "cat(var_dic_list()) "
    }
   },
   "types_to_exclude": [
    "module",
    "function",
    "builtin_function_or_method",
    "instance",
    "_Feature"
   ],
   "window_display": false
  }
 },
 "nbformat": 4,
 "nbformat_minor": 5
}
