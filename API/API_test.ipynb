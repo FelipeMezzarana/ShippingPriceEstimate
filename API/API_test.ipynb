{
 "cells": [
  {
   "cell_type": "markdown",
   "id": "d20c5576",
   "metadata": {},
   "source": [
    "**To test our deploy we can easily start a local server with uvicorn. After installing the package, just type on the command line:**\n",
    "\n",
    "***uvicorn server:app --reload***\n",
    "+ server is your .py file, in which you created the API\n",
    "+ app is the FastAPI object, created inside server.py \n",
    "+ --reload mean that the server will update if server.py change"
   ]
  },
  {
   "cell_type": "code",
   "execution_count": 2,
   "id": "a6663321",
   "metadata": {},
   "outputs": [],
   "source": [
    "import requests"
   ]
  },
  {
   "cell_type": "code",
   "execution_count": 8,
   "id": "ba6006db",
   "metadata": {},
   "outputs": [
    {
     "data": {
      "text/plain": [
       "{'Shipping Price Estimator': '1.0'}"
      ]
     },
     "execution_count": 8,
     "metadata": {},
     "output_type": "execute_result"
    }
   ],
   "source": [
    "resp = requests.get('http://127.0.0.1:8000/')\n",
    "resp.json()"
   ]
  },
  {
   "cell_type": "code",
   "execution_count": 10,
   "id": "f3795482",
   "metadata": {},
   "outputs": [
    {
     "name": "stdout",
     "output_type": "stream",
     "text": [
      "Request Status: 200\n"
     ]
    },
    {
     "data": {
      "text/plain": [
       "{'shipping_estimated_price': 18.56999969482422}"
      ]
     },
     "execution_count": 10,
     "metadata": {},
     "output_type": "execute_result"
    }
   ],
   "source": [
    "param = {'price':500,\n",
    "         'product_weight_g':1000,\n",
    "         'product_height_cm': 100,\n",
    "         'delivery_distance_km':400,\n",
    "         'product_volume_cm3':30}\n",
    "\n",
    "\n",
    "resp = requests.post('http://127.0.0.1:8000/predict',json = param)\n",
    "print(f'Request Status: {resp.status_code}')\n",
    "resp.json()"
   ]
  }
 ],
 "metadata": {
  "kernelspec": {
   "display_name": "Python 3 (ipykernel)",
   "language": "python",
   "name": "python3"
  },
  "language_info": {
   "codemirror_mode": {
    "name": "ipython",
    "version": 3
   },
   "file_extension": ".py",
   "mimetype": "text/x-python",
   "name": "python",
   "nbconvert_exporter": "python",
   "pygments_lexer": "ipython3",
   "version": "3.9.13"
  },
  "toc": {
   "base_numbering": 1,
   "nav_menu": {},
   "number_sections": true,
   "sideBar": true,
   "skip_h1_title": false,
   "title_cell": "Table of Contents",
   "title_sidebar": "Contents",
   "toc_cell": false,
   "toc_position": {},
   "toc_section_display": true,
   "toc_window_display": false
  },
  "varInspector": {
   "cols": {
    "lenName": 16,
    "lenType": 16,
    "lenVar": 40
   },
   "kernels_config": {
    "python": {
     "delete_cmd_postfix": "",
     "delete_cmd_prefix": "del ",
     "library": "var_list.py",
     "varRefreshCmd": "print(var_dic_list())"
    },
    "r": {
     "delete_cmd_postfix": ") ",
     "delete_cmd_prefix": "rm(",
     "library": "var_list.r",
     "varRefreshCmd": "cat(var_dic_list()) "
    }
   },
   "types_to_exclude": [
    "module",
    "function",
    "builtin_function_or_method",
    "instance",
    "_Feature"
   ],
   "window_display": false
  }
 },
 "nbformat": 4,
 "nbformat_minor": 5
}
